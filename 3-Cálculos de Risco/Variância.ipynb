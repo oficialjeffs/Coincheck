{
 "cells": [
  {
   "cell_type": "markdown",
   "metadata": {},
   "source": [
    "Pytho para finanças- Risco de ações"
   ]
  },
  {
   "cell_type": "markdown",
   "metadata": {},
   "source": [
    "#Importação de bibliotecas e base de dados"
   ]
  },
  {
   "cell_type": "code",
   "execution_count": 59,
   "metadata": {},
   "outputs": [],
   "source": [
    "import pandas as pd\n",
    "import numpy as np\n",
    "import math\n",
    "import matplotlib.pyplot as plt\n",
    "import seaborn as sns\n",
    "from scipy import stats"
   ]
  },
  {
   "cell_type": "code",
   "execution_count": 60,
   "metadata": {},
   "outputs": [
    {
     "data": {
      "text/html": [
       "<div>\n",
       "<style scoped>\n",
       "    .dataframe tbody tr th:only-of-type {\n",
       "        vertical-align: middle;\n",
       "    }\n",
       "\n",
       "    .dataframe tbody tr th {\n",
       "        vertical-align: top;\n",
       "    }\n",
       "\n",
       "    .dataframe thead th {\n",
       "        text-align: right;\n",
       "    }\n",
       "</style>\n",
       "<table border=\"1\" class=\"dataframe\">\n",
       "  <thead>\n",
       "    <tr style=\"text-align: right;\">\n",
       "      <th></th>\n",
       "      <th>Date</th>\n",
       "      <th>MANA</th>\n",
       "      <th>POLKADOT</th>\n",
       "      <th>CARDANO</th>\n",
       "      <th>TRON</th>\n",
       "      <th>RIPLE</th>\n",
       "      <th>SAND</th>\n",
       "      <th>POLYGON</th>\n",
       "      <th>BITCOIN</th>\n",
       "    </tr>\n",
       "  </thead>\n",
       "  <tbody>\n",
       "    <tr>\n",
       "      <th>0</th>\n",
       "      <td>2020-01-01</td>\n",
       "      <td>0.031483</td>\n",
       "      <td>NaN</td>\n",
       "      <td>0.033458</td>\n",
       "      <td>0.013250</td>\n",
       "      <td>0.192667</td>\n",
       "      <td>NaN</td>\n",
       "      <td>0.014962</td>\n",
       "      <td>7200.174316</td>\n",
       "    </tr>\n",
       "    <tr>\n",
       "      <th>1</th>\n",
       "      <td>2020-01-02</td>\n",
       "      <td>0.032639</td>\n",
       "      <td>NaN</td>\n",
       "      <td>0.032751</td>\n",
       "      <td>0.012870</td>\n",
       "      <td>0.188043</td>\n",
       "      <td>NaN</td>\n",
       "      <td>0.014651</td>\n",
       "      <td>6985.470215</td>\n",
       "    </tr>\n",
       "    <tr>\n",
       "      <th>2</th>\n",
       "      <td>2020-01-03</td>\n",
       "      <td>0.032805</td>\n",
       "      <td>NaN</td>\n",
       "      <td>0.034180</td>\n",
       "      <td>0.013435</td>\n",
       "      <td>0.193521</td>\n",
       "      <td>NaN</td>\n",
       "      <td>0.015194</td>\n",
       "      <td>7344.884277</td>\n",
       "    </tr>\n",
       "    <tr>\n",
       "      <th>3</th>\n",
       "      <td>2020-01-04</td>\n",
       "      <td>0.035837</td>\n",
       "      <td>NaN</td>\n",
       "      <td>0.034595</td>\n",
       "      <td>0.013521</td>\n",
       "      <td>0.194355</td>\n",
       "      <td>NaN</td>\n",
       "      <td>0.014961</td>\n",
       "      <td>7410.656738</td>\n",
       "    </tr>\n",
       "    <tr>\n",
       "      <th>4</th>\n",
       "      <td>2020-01-05</td>\n",
       "      <td>0.036459</td>\n",
       "      <td>NaN</td>\n",
       "      <td>0.034721</td>\n",
       "      <td>0.013623</td>\n",
       "      <td>0.195537</td>\n",
       "      <td>NaN</td>\n",
       "      <td>0.014914</td>\n",
       "      <td>7411.317383</td>\n",
       "    </tr>\n",
       "    <tr>\n",
       "      <th>...</th>\n",
       "      <td>...</td>\n",
       "      <td>...</td>\n",
       "      <td>...</td>\n",
       "      <td>...</td>\n",
       "      <td>...</td>\n",
       "      <td>...</td>\n",
       "      <td>...</td>\n",
       "      <td>...</td>\n",
       "      <td>...</td>\n",
       "    </tr>\n",
       "    <tr>\n",
       "      <th>864</th>\n",
       "      <td>2022-05-14</td>\n",
       "      <td>1.326140</td>\n",
       "      <td>NaN</td>\n",
       "      <td>0.539358</td>\n",
       "      <td>0.072501</td>\n",
       "      <td>0.427774</td>\n",
       "      <td>1.432852</td>\n",
       "      <td>0.686139</td>\n",
       "      <td>30101.265625</td>\n",
       "    </tr>\n",
       "    <tr>\n",
       "      <th>865</th>\n",
       "      <td>2022-05-15</td>\n",
       "      <td>1.330976</td>\n",
       "      <td>NaN</td>\n",
       "      <td>0.597500</td>\n",
       "      <td>0.072358</td>\n",
       "      <td>0.447371</td>\n",
       "      <td>1.448660</td>\n",
       "      <td>0.737566</td>\n",
       "      <td>31305.113281</td>\n",
       "    </tr>\n",
       "    <tr>\n",
       "      <th>866</th>\n",
       "      <td>2022-05-16</td>\n",
       "      <td>1.172838</td>\n",
       "      <td>NaN</td>\n",
       "      <td>0.556716</td>\n",
       "      <td>0.069088</td>\n",
       "      <td>0.422499</td>\n",
       "      <td>1.314255</td>\n",
       "      <td>0.677282</td>\n",
       "      <td>29862.917969</td>\n",
       "    </tr>\n",
       "    <tr>\n",
       "      <th>867</th>\n",
       "      <td>2022-05-17</td>\n",
       "      <td>1.213923</td>\n",
       "      <td>NaN</td>\n",
       "      <td>0.578077</td>\n",
       "      <td>0.072293</td>\n",
       "      <td>0.437623</td>\n",
       "      <td>1.371631</td>\n",
       "      <td>0.726942</td>\n",
       "      <td>30425.857422</td>\n",
       "    </tr>\n",
       "    <tr>\n",
       "      <th>868</th>\n",
       "      <td>2022-05-18</td>\n",
       "      <td>1.039548</td>\n",
       "      <td>9.524648</td>\n",
       "      <td>0.506569</td>\n",
       "      <td>0.071071</td>\n",
       "      <td>0.406661</td>\n",
       "      <td>1.193646</td>\n",
       "      <td>0.628314</td>\n",
       "      <td>28762.384766</td>\n",
       "    </tr>\n",
       "  </tbody>\n",
       "</table>\n",
       "<p>869 rows × 9 columns</p>\n",
       "</div>"
      ],
      "text/plain": [
       "           Date      MANA  POLKADOT   CARDANO      TRON     RIPLE      SAND  \\\n",
       "0    2020-01-01  0.031483       NaN  0.033458  0.013250  0.192667       NaN   \n",
       "1    2020-01-02  0.032639       NaN  0.032751  0.012870  0.188043       NaN   \n",
       "2    2020-01-03  0.032805       NaN  0.034180  0.013435  0.193521       NaN   \n",
       "3    2020-01-04  0.035837       NaN  0.034595  0.013521  0.194355       NaN   \n",
       "4    2020-01-05  0.036459       NaN  0.034721  0.013623  0.195537       NaN   \n",
       "..          ...       ...       ...       ...       ...       ...       ...   \n",
       "864  2022-05-14  1.326140       NaN  0.539358  0.072501  0.427774  1.432852   \n",
       "865  2022-05-15  1.330976       NaN  0.597500  0.072358  0.447371  1.448660   \n",
       "866  2022-05-16  1.172838       NaN  0.556716  0.069088  0.422499  1.314255   \n",
       "867  2022-05-17  1.213923       NaN  0.578077  0.072293  0.437623  1.371631   \n",
       "868  2022-05-18  1.039548  9.524648  0.506569  0.071071  0.406661  1.193646   \n",
       "\n",
       "      POLYGON       BITCOIN  \n",
       "0    0.014962   7200.174316  \n",
       "1    0.014651   6985.470215  \n",
       "2    0.015194   7344.884277  \n",
       "3    0.014961   7410.656738  \n",
       "4    0.014914   7411.317383  \n",
       "..        ...           ...  \n",
       "864  0.686139  30101.265625  \n",
       "865  0.737566  31305.113281  \n",
       "866  0.677282  29862.917969  \n",
       "867  0.726942  30425.857422  \n",
       "868  0.628314  28762.384766  \n",
       "\n",
       "[869 rows x 9 columns]"
      ]
     },
     "execution_count": 60,
     "metadata": {},
     "output_type": "execute_result"
    }
   ],
   "source": [
    "dataset= pd.read_csv('criptos.csv')\n",
    "dataset"
   ]
  },
  {
   "cell_type": "code",
   "execution_count": 61,
   "metadata": {},
   "outputs": [
    {
     "data": {
      "text/html": [
       "<div>\n",
       "<style scoped>\n",
       "    .dataframe tbody tr th:only-of-type {\n",
       "        vertical-align: middle;\n",
       "    }\n",
       "\n",
       "    .dataframe tbody tr th {\n",
       "        vertical-align: top;\n",
       "    }\n",
       "\n",
       "    .dataframe thead th {\n",
       "        text-align: right;\n",
       "    }\n",
       "</style>\n",
       "<table border=\"1\" class=\"dataframe\">\n",
       "  <thead>\n",
       "    <tr style=\"text-align: right;\">\n",
       "      <th></th>\n",
       "      <th>MANA</th>\n",
       "      <th>POLKADOT</th>\n",
       "      <th>CARDANO</th>\n",
       "      <th>TRON</th>\n",
       "      <th>RIPLE</th>\n",
       "      <th>SAND</th>\n",
       "      <th>POLYGON</th>\n",
       "      <th>BITCOIN</th>\n",
       "    </tr>\n",
       "  </thead>\n",
       "  <tbody>\n",
       "    <tr>\n",
       "      <th>count</th>\n",
       "      <td>869.000000</td>\n",
       "      <td>555.000000</td>\n",
       "      <td>869.000000</td>\n",
       "      <td>869.000000</td>\n",
       "      <td>869.000000</td>\n",
       "      <td>643.000000</td>\n",
       "      <td>869.000000</td>\n",
       "      <td>869.000000</td>\n",
       "    </tr>\n",
       "    <tr>\n",
       "      <th>mean</th>\n",
       "      <td>0.913446</td>\n",
       "      <td>22.224025</td>\n",
       "      <td>0.823689</td>\n",
       "      <td>0.052862</td>\n",
       "      <td>0.587833</td>\n",
       "      <td>1.413970</td>\n",
       "      <td>0.705791</td>\n",
       "      <td>30999.632942</td>\n",
       "    </tr>\n",
       "    <tr>\n",
       "      <th>std</th>\n",
       "      <td>1.143961</td>\n",
       "      <td>13.405064</td>\n",
       "      <td>0.769683</td>\n",
       "      <td>0.034089</td>\n",
       "      <td>0.373131</td>\n",
       "      <td>1.783071</td>\n",
       "      <td>0.776724</td>\n",
       "      <td>18563.375191</td>\n",
       "    </tr>\n",
       "    <tr>\n",
       "      <th>min</th>\n",
       "      <td>0.018649</td>\n",
       "      <td>2.875028</td>\n",
       "      <td>0.023961</td>\n",
       "      <td>0.008792</td>\n",
       "      <td>0.139635</td>\n",
       "      <td>0.030821</td>\n",
       "      <td>0.008096</td>\n",
       "      <td>4970.788086</td>\n",
       "    </tr>\n",
       "    <tr>\n",
       "      <th>25%</th>\n",
       "      <td>0.062873</td>\n",
       "      <td>9.306091</td>\n",
       "      <td>0.096989</td>\n",
       "      <td>0.022464</td>\n",
       "      <td>0.242295</td>\n",
       "      <td>0.082058</td>\n",
       "      <td>0.019829</td>\n",
       "      <td>10400.915039</td>\n",
       "    </tr>\n",
       "    <tr>\n",
       "      <th>50%</th>\n",
       "      <td>0.468862</td>\n",
       "      <td>21.626959</td>\n",
       "      <td>0.827645</td>\n",
       "      <td>0.053449</td>\n",
       "      <td>0.550443</td>\n",
       "      <td>0.613217</td>\n",
       "      <td>0.298981</td>\n",
       "      <td>35501.953125</td>\n",
       "    </tr>\n",
       "    <tr>\n",
       "      <th>75%</th>\n",
       "      <td>1.249881</td>\n",
       "      <td>33.656902</td>\n",
       "      <td>1.325436</td>\n",
       "      <td>0.075156</td>\n",
       "      <td>0.832885</td>\n",
       "      <td>2.730363</td>\n",
       "      <td>1.435702</td>\n",
       "      <td>46458.117188</td>\n",
       "    </tr>\n",
       "    <tr>\n",
       "      <th>max</th>\n",
       "      <td>5.479181</td>\n",
       "      <td>53.881733</td>\n",
       "      <td>2.968239</td>\n",
       "      <td>0.164650</td>\n",
       "      <td>1.839236</td>\n",
       "      <td>8.402190</td>\n",
       "      <td>2.876757</td>\n",
       "      <td>67566.828125</td>\n",
       "    </tr>\n",
       "  </tbody>\n",
       "</table>\n",
       "</div>"
      ],
      "text/plain": [
       "             MANA    POLKADOT     CARDANO        TRON       RIPLE        SAND  \\\n",
       "count  869.000000  555.000000  869.000000  869.000000  869.000000  643.000000   \n",
       "mean     0.913446   22.224025    0.823689    0.052862    0.587833    1.413970   \n",
       "std      1.143961   13.405064    0.769683    0.034089    0.373131    1.783071   \n",
       "min      0.018649    2.875028    0.023961    0.008792    0.139635    0.030821   \n",
       "25%      0.062873    9.306091    0.096989    0.022464    0.242295    0.082058   \n",
       "50%      0.468862   21.626959    0.827645    0.053449    0.550443    0.613217   \n",
       "75%      1.249881   33.656902    1.325436    0.075156    0.832885    2.730363   \n",
       "max      5.479181   53.881733    2.968239    0.164650    1.839236    8.402190   \n",
       "\n",
       "          POLYGON       BITCOIN  \n",
       "count  869.000000    869.000000  \n",
       "mean     0.705791  30999.632942  \n",
       "std      0.776724  18563.375191  \n",
       "min      0.008096   4970.788086  \n",
       "25%      0.019829  10400.915039  \n",
       "50%      0.298981  35501.953125  \n",
       "75%      1.435702  46458.117188  \n",
       "max      2.876757  67566.828125  "
      ]
     },
     "execution_count": 61,
     "metadata": {},
     "output_type": "execute_result"
    }
   ],
   "source": [
    "dataset.describe()"
   ]
  },
  {
   "cell_type": "markdown",
   "metadata": {},
   "source": [
    "Cálculos de Retornos Anuais"
   ]
  },
  {
   "cell_type": "markdown",
   "metadata": {},
   "source": [
    "2020"
   ]
  },
  {
   "cell_type": "code",
   "execution_count": 62,
   "metadata": {},
   "outputs": [
    {
     "data": {
      "text/plain": [
       "(0    0.031483\n",
       " Name: MANA, dtype: float64,\n",
       " 365    0.078251\n",
       " Name: MANA, dtype: float64)"
      ]
     },
     "execution_count": 62,
     "metadata": {},
     "output_type": "execute_result"
    }
   ],
   "source": [
    "dataset['MANA'][dataset['Date']== '2020-01-01'], dataset['MANA'][dataset['Date']== '2020-12-31']"
   ]
  },
  {
   "cell_type": "code",
   "execution_count": 63,
   "metadata": {},
   "outputs": [
    {
     "data": {
      "text/plain": [
       "91.04738912804542"
      ]
     },
     "execution_count": 63,
     "metadata": {},
     "output_type": "execute_result"
    }
   ],
   "source": [
    "np.log(0.078251/0.031483)*100"
   ]
  },
  {
   "cell_type": "code",
   "execution_count": 64,
   "metadata": {},
   "outputs": [
    {
     "data": {
      "text/plain": [
       "(0   NaN\n",
       " Name: POLKADOT, dtype: float64,\n",
       " 365    9.292508\n",
       " Name: POLKADOT, dtype: float64)"
      ]
     },
     "execution_count": 64,
     "metadata": {},
     "output_type": "execute_result"
    }
   ],
   "source": [
    "dataset['POLKADOT'][dataset['Date']== '2020-01-01'], dataset['POLKADOT'][dataset['Date']== '2020-12-31']"
   ]
  },
  {
   "cell_type": "code",
   "execution_count": 65,
   "metadata": {},
   "outputs": [],
   "source": [
    "#np.log(9.292508/NaN)*100"
   ]
  },
  {
   "cell_type": "code",
   "execution_count": 66,
   "metadata": {},
   "outputs": [
    {
     "data": {
      "text/plain": [
       "(0    0.033458\n",
       " Name: CARDANO, dtype: float64,\n",
       " 365    0.181397\n",
       " Name: CARDANO, dtype: float64)"
      ]
     },
     "execution_count": 66,
     "metadata": {},
     "output_type": "execute_result"
    }
   ],
   "source": [
    "dataset['CARDANO'][dataset['Date']== '2020-01-01'], dataset['CARDANO'][dataset['Date']== '2020-12-31']"
   ]
  },
  {
   "cell_type": "code",
   "execution_count": 67,
   "metadata": {},
   "outputs": [
    {
     "data": {
      "text/plain": [
       "169.0397078597706"
      ]
     },
     "execution_count": 67,
     "metadata": {},
     "output_type": "execute_result"
    }
   ],
   "source": [
    "np.log(0.181397/0.033458)*100"
   ]
  },
  {
   "cell_type": "code",
   "execution_count": 68,
   "metadata": {},
   "outputs": [
    {
     "data": {
      "text/plain": [
       "(0    0.01325\n",
       " Name: TRON, dtype: float64,\n",
       " 365    0.026833\n",
       " Name: TRON, dtype: float64)"
      ]
     },
     "execution_count": 68,
     "metadata": {},
     "output_type": "execute_result"
    }
   ],
   "source": [
    "dataset['TRON'][dataset['Date']== '2020-01-01'], dataset['TRON'][dataset['Date']== '2020-12-31']"
   ]
  },
  {
   "cell_type": "code",
   "execution_count": 69,
   "metadata": {},
   "outputs": [
    {
     "data": {
      "text/plain": [
       "-159.69501721072757"
      ]
     },
     "execution_count": 69,
     "metadata": {},
     "output_type": "execute_result"
    }
   ],
   "source": [
    "np.log(0.026833/0.1325)*100"
   ]
  },
  {
   "cell_type": "code",
   "execution_count": 70,
   "metadata": {},
   "outputs": [
    {
     "data": {
      "text/plain": [
       "(0    0.192667\n",
       " Name: RIPLE, dtype: float64,\n",
       " 365    0.219846\n",
       " Name: RIPLE, dtype: float64)"
      ]
     },
     "execution_count": 70,
     "metadata": {},
     "output_type": "execute_result"
    }
   ],
   "source": [
    "dataset['RIPLE'][dataset['Date']== '2020-01-01'], dataset['RIPLE'][dataset['Date']== '2020-12-31']"
   ]
  },
  {
   "cell_type": "code",
   "execution_count": 71,
   "metadata": {},
   "outputs": [
    {
     "data": {
      "text/plain": [
       "13.196399113139073"
      ]
     },
     "execution_count": 71,
     "metadata": {},
     "output_type": "execute_result"
    }
   ],
   "source": [
    "np.log(0.219846/0.192667)*100"
   ]
  },
  {
   "cell_type": "code",
   "execution_count": 72,
   "metadata": {},
   "outputs": [
    {
     "data": {
      "text/plain": [
       "(0   NaN\n",
       " Name: SAND, dtype: float64,\n",
       " 365    0.035653\n",
       " Name: SAND, dtype: float64)"
      ]
     },
     "execution_count": 72,
     "metadata": {},
     "output_type": "execute_result"
    }
   ],
   "source": [
    "dataset['SAND'][dataset['Date']== '2020-01-01'], dataset['SAND'][dataset['Date']== '2020-12-31']"
   ]
  },
  {
   "cell_type": "code",
   "execution_count": 73,
   "metadata": {},
   "outputs": [],
   "source": [
    "#np.log(0.035653/NaN)*100"
   ]
  },
  {
   "cell_type": "code",
   "execution_count": 74,
   "metadata": {},
   "outputs": [
    {
     "data": {
      "text/plain": [
       "(0    0.014962\n",
       " Name: POLYGON, dtype: float64,\n",
       " 365    0.017633\n",
       " Name: POLYGON, dtype: float64)"
      ]
     },
     "execution_count": 74,
     "metadata": {},
     "output_type": "execute_result"
    }
   ],
   "source": [
    "dataset['POLYGON'][dataset['Date']== '2020-01-01'], dataset['POLYGON'][dataset['Date']== '2020-12-31']"
   ]
  },
  {
   "cell_type": "code",
   "execution_count": 75,
   "metadata": {},
   "outputs": [
    {
     "data": {
      "text/plain": [
       "16.425849297557335"
      ]
     },
     "execution_count": 75,
     "metadata": {},
     "output_type": "execute_result"
    }
   ],
   "source": [
    "np.log(0.017633/0.014962)*100"
   ]
  },
  {
   "cell_type": "markdown",
   "metadata": {},
   "source": [
    "2021\n"
   ]
  },
  {
   "cell_type": "code",
   "execution_count": 79,
   "metadata": {},
   "outputs": [
    {
     "data": {
      "text/plain": [
       "(366    0.083738\n",
       " Name: MANA, dtype: float64,\n",
       " 730    3.270671\n",
       " Name: MANA, dtype: float64)"
      ]
     },
     "execution_count": 79,
     "metadata": {},
     "output_type": "execute_result"
    }
   ],
   "source": [
    "dataset['MANA'][dataset['Date']== '2021-01-01'], dataset['MANA'][dataset['Date']== '2021-12-31']"
   ]
  },
  {
   "cell_type": "code",
   "execution_count": 80,
   "metadata": {},
   "outputs": [
    {
     "data": {
      "text/plain": [
       "366.50575647606547"
      ]
     },
     "execution_count": 80,
     "metadata": {},
     "output_type": "execute_result"
    }
   ],
   "source": [
    "np.log(3.270671/0.083738)*100"
   ]
  },
  {
   "cell_type": "code",
   "execution_count": 78,
   "metadata": {},
   "outputs": [
    {
     "data": {
      "text/plain": [
       "(366    8.306819\n",
       " Name: POLKADOT, dtype: float64,\n",
       " 730    26.719675\n",
       " Name: POLKADOT, dtype: float64)"
      ]
     },
     "execution_count": 78,
     "metadata": {},
     "output_type": "execute_result"
    }
   ],
   "source": [
    "dataset['POLKADOT'][dataset['Date']== '2021-01-01'], dataset['POLKADOT'][dataset['Date']== '2021-12-31']"
   ]
  },
  {
   "cell_type": "code",
   "execution_count": 81,
   "metadata": {},
   "outputs": [
    {
     "data": {
      "text/plain": [
       "(366    0.17535\n",
       " Name: CARDANO, dtype: float64,\n",
       " 730    1.310209\n",
       " Name: CARDANO, dtype: float64)"
      ]
     },
     "execution_count": 81,
     "metadata": {},
     "output_type": "execute_result"
    }
   ],
   "source": [
    "dataset['CARDANO'][dataset['Date']== '2021-01-01'], dataset['CARDANO'][dataset['Date']== '2021-12-31']"
   ]
  },
  {
   "cell_type": "code",
   "execution_count": 82,
   "metadata": {},
   "outputs": [
    {
     "data": {
      "text/plain": [
       "201.11579688682738"
      ]
     },
     "execution_count": 82,
     "metadata": {},
     "output_type": "execute_result"
    }
   ],
   "source": [
    "np.log(1.310209/0.17535)*100"
   ]
  },
  {
   "cell_type": "code",
   "execution_count": 83,
   "metadata": {},
   "outputs": [
    {
     "data": {
      "text/plain": [
       "(366    0.02694\n",
       " Name: TRON, dtype: float64,\n",
       " 730    0.075397\n",
       " Name: TRON, dtype: float64)"
      ]
     },
     "execution_count": 83,
     "metadata": {},
     "output_type": "execute_result"
    }
   ],
   "source": [
    "dataset['TRON'][dataset['Date']== '2021-01-01'], dataset['TRON'][dataset['Date']== '2021-12-31']"
   ]
  },
  {
   "cell_type": "code",
   "execution_count": null,
   "metadata": {},
   "outputs": [],
   "source": [
    "dataset['RIPLE'][dataset['Date']== '2021-01-01'], dataset['RIPLE'][dataset['Date']== '2021-12-31']"
   ]
  },
  {
   "cell_type": "code",
   "execution_count": null,
   "metadata": {},
   "outputs": [],
   "source": [
    "dataset['SAND'][dataset['Date']== '2021-01-01'], dataset['SAND'][dataset['Date']== '2021-12-31']"
   ]
  },
  {
   "cell_type": "code",
   "execution_count": null,
   "metadata": {},
   "outputs": [],
   "source": [
    "dataset['POLYGON'][dataset['Date']== '2021-01-01'], dataset['POLYGON'][dataset['Date']== '2021-12-31']"
   ]
  },
  {
   "cell_type": "markdown",
   "metadata": {},
   "source": [
    "2022"
   ]
  },
  {
   "cell_type": "code",
   "execution_count": 85,
   "metadata": {},
   "outputs": [
    {
     "data": {
      "text/plain": [
       "(731    3.345399\n",
       " Name: MANA, dtype: float64,\n",
       " 868    1.039548\n",
       " Name: MANA, dtype: float64)"
      ]
     },
     "execution_count": 85,
     "metadata": {},
     "output_type": "execute_result"
    }
   ],
   "source": [
    "dataset['MANA'][dataset['Date']== '2022-01-01'], dataset['MANA'][dataset['Date']== '2022-05-18']\n"
   ]
  }
 ],
 "metadata": {
  "interpreter": {
   "hash": "c6544b8a5a5c509948c8c7acacbaab8bffeb55b5d87ee0e971fd8561f4a6db8f"
  },
  "kernelspec": {
   "display_name": "Python 3.10.4 64-bit",
   "language": "python",
   "name": "python3"
  },
  "language_info": {
   "codemirror_mode": {
    "name": "ipython",
    "version": 3
   },
   "file_extension": ".py",
   "mimetype": "text/x-python",
   "name": "python",
   "nbconvert_exporter": "python",
   "pygments_lexer": "ipython3",
   "version": "3.10.4"
  },
  "orig_nbformat": 4
 },
 "nbformat": 4,
 "nbformat_minor": 2
}
