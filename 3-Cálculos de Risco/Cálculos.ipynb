{
 "cells": [
  {
   "cell_type": "markdown",
   "metadata": {},
   "source": [
    "Pytho para finanças- Risco de ações"
   ]
  },
  {
   "cell_type": "markdown",
   "metadata": {},
   "source": [
    "#Importação de bibliotecas e base de dados"
   ]
  },
  {
   "cell_type": "code",
   "execution_count": 415,
   "metadata": {},
   "outputs": [],
   "source": [
    "import pandas as pd\n",
    "import numpy as np\n",
    "import math\n",
    "import matplotlib.pyplot as plt\n",
    "import seaborn as sns\n",
    "import  csv\n",
    "from scipy import stats\n"
   ]
  },
  {
   "cell_type": "code",
   "execution_count": 416,
   "metadata": {},
   "outputs": [
    {
     "data": {
      "text/html": [
       "<div>\n",
       "<style scoped>\n",
       "    .dataframe tbody tr th:only-of-type {\n",
       "        vertical-align: middle;\n",
       "    }\n",
       "\n",
       "    .dataframe tbody tr th {\n",
       "        vertical-align: top;\n",
       "    }\n",
       "\n",
       "    .dataframe thead th {\n",
       "        text-align: right;\n",
       "    }\n",
       "</style>\n",
       "<table border=\"1\" class=\"dataframe\">\n",
       "  <thead>\n",
       "    <tr style=\"text-align: right;\">\n",
       "      <th></th>\n",
       "      <th>Date</th>\n",
       "      <th>MANA</th>\n",
       "      <th>POLKADOT</th>\n",
       "      <th>CARDANO</th>\n",
       "      <th>TRON</th>\n",
       "      <th>RIPLE</th>\n",
       "      <th>SAND</th>\n",
       "      <th>POLYGON</th>\n",
       "      <th>UNISWAP</th>\n",
       "      <th>BITCOIN</th>\n",
       "    </tr>\n",
       "  </thead>\n",
       "  <tbody>\n",
       "    <tr>\n",
       "      <th>0</th>\n",
       "      <td>2020-01-01</td>\n",
       "      <td>0.031483</td>\n",
       "      <td>NaN</td>\n",
       "      <td>0.033458</td>\n",
       "      <td>0.013250</td>\n",
       "      <td>0.192667</td>\n",
       "      <td>NaN</td>\n",
       "      <td>0.014962</td>\n",
       "      <td>NaN</td>\n",
       "      <td>7200.174316</td>\n",
       "    </tr>\n",
       "    <tr>\n",
       "      <th>1</th>\n",
       "      <td>2020-01-02</td>\n",
       "      <td>0.032639</td>\n",
       "      <td>NaN</td>\n",
       "      <td>0.032751</td>\n",
       "      <td>0.012870</td>\n",
       "      <td>0.188043</td>\n",
       "      <td>NaN</td>\n",
       "      <td>0.014651</td>\n",
       "      <td>NaN</td>\n",
       "      <td>6985.470215</td>\n",
       "    </tr>\n",
       "    <tr>\n",
       "      <th>2</th>\n",
       "      <td>2020-01-03</td>\n",
       "      <td>0.032805</td>\n",
       "      <td>NaN</td>\n",
       "      <td>0.034180</td>\n",
       "      <td>0.013435</td>\n",
       "      <td>0.193521</td>\n",
       "      <td>NaN</td>\n",
       "      <td>0.015194</td>\n",
       "      <td>NaN</td>\n",
       "      <td>7344.884277</td>\n",
       "    </tr>\n",
       "    <tr>\n",
       "      <th>3</th>\n",
       "      <td>2020-01-04</td>\n",
       "      <td>0.035837</td>\n",
       "      <td>NaN</td>\n",
       "      <td>0.034595</td>\n",
       "      <td>0.013521</td>\n",
       "      <td>0.194355</td>\n",
       "      <td>NaN</td>\n",
       "      <td>0.014961</td>\n",
       "      <td>NaN</td>\n",
       "      <td>7410.656738</td>\n",
       "    </tr>\n",
       "    <tr>\n",
       "      <th>4</th>\n",
       "      <td>2020-01-05</td>\n",
       "      <td>0.036459</td>\n",
       "      <td>NaN</td>\n",
       "      <td>0.034721</td>\n",
       "      <td>0.013623</td>\n",
       "      <td>0.195537</td>\n",
       "      <td>NaN</td>\n",
       "      <td>0.014914</td>\n",
       "      <td>NaN</td>\n",
       "      <td>7411.317383</td>\n",
       "    </tr>\n",
       "    <tr>\n",
       "      <th>...</th>\n",
       "      <td>...</td>\n",
       "      <td>...</td>\n",
       "      <td>...</td>\n",
       "      <td>...</td>\n",
       "      <td>...</td>\n",
       "      <td>...</td>\n",
       "      <td>...</td>\n",
       "      <td>...</td>\n",
       "      <td>...</td>\n",
       "      <td>...</td>\n",
       "    </tr>\n",
       "    <tr>\n",
       "      <th>869</th>\n",
       "      <td>2022-05-19</td>\n",
       "      <td>1.122525</td>\n",
       "      <td>NaN</td>\n",
       "      <td>0.533321</td>\n",
       "      <td>0.073608</td>\n",
       "      <td>0.419976</td>\n",
       "      <td>1.302092</td>\n",
       "      <td>0.658817</td>\n",
       "      <td>5.190270</td>\n",
       "      <td>30314.333984</td>\n",
       "    </tr>\n",
       "    <tr>\n",
       "      <th>870</th>\n",
       "      <td>2022-05-20</td>\n",
       "      <td>1.067323</td>\n",
       "      <td>NaN</td>\n",
       "      <td>0.517907</td>\n",
       "      <td>0.071351</td>\n",
       "      <td>0.411137</td>\n",
       "      <td>1.273900</td>\n",
       "      <td>0.636510</td>\n",
       "      <td>5.104964</td>\n",
       "      <td>29200.740234</td>\n",
       "    </tr>\n",
       "    <tr>\n",
       "      <th>871</th>\n",
       "      <td>2022-05-21</td>\n",
       "      <td>1.095843</td>\n",
       "      <td>NaN</td>\n",
       "      <td>0.528314</td>\n",
       "      <td>0.074070</td>\n",
       "      <td>0.414673</td>\n",
       "      <td>1.328947</td>\n",
       "      <td>0.649339</td>\n",
       "      <td>5.237450</td>\n",
       "      <td>29432.226562</td>\n",
       "    </tr>\n",
       "    <tr>\n",
       "      <th>872</th>\n",
       "      <td>2022-05-22</td>\n",
       "      <td>1.107102</td>\n",
       "      <td>NaN</td>\n",
       "      <td>0.542618</td>\n",
       "      <td>0.078131</td>\n",
       "      <td>0.422337</td>\n",
       "      <td>1.388092</td>\n",
       "      <td>0.678312</td>\n",
       "      <td>5.509896</td>\n",
       "      <td>30323.722656</td>\n",
       "    </tr>\n",
       "    <tr>\n",
       "      <th>873</th>\n",
       "      <td>2022-05-23</td>\n",
       "      <td>1.116772</td>\n",
       "      <td>10.305822</td>\n",
       "      <td>0.548208</td>\n",
       "      <td>0.077947</td>\n",
       "      <td>0.423400</td>\n",
       "      <td>1.415372</td>\n",
       "      <td>0.687748</td>\n",
       "      <td>5.854978</td>\n",
       "      <td>30382.175781</td>\n",
       "    </tr>\n",
       "  </tbody>\n",
       "</table>\n",
       "<p>874 rows × 10 columns</p>\n",
       "</div>"
      ],
      "text/plain": [
       "           Date      MANA   POLKADOT   CARDANO      TRON     RIPLE      SAND  \\\n",
       "0    2020-01-01  0.031483        NaN  0.033458  0.013250  0.192667       NaN   \n",
       "1    2020-01-02  0.032639        NaN  0.032751  0.012870  0.188043       NaN   \n",
       "2    2020-01-03  0.032805        NaN  0.034180  0.013435  0.193521       NaN   \n",
       "3    2020-01-04  0.035837        NaN  0.034595  0.013521  0.194355       NaN   \n",
       "4    2020-01-05  0.036459        NaN  0.034721  0.013623  0.195537       NaN   \n",
       "..          ...       ...        ...       ...       ...       ...       ...   \n",
       "869  2022-05-19  1.122525        NaN  0.533321  0.073608  0.419976  1.302092   \n",
       "870  2022-05-20  1.067323        NaN  0.517907  0.071351  0.411137  1.273900   \n",
       "871  2022-05-21  1.095843        NaN  0.528314  0.074070  0.414673  1.328947   \n",
       "872  2022-05-22  1.107102        NaN  0.542618  0.078131  0.422337  1.388092   \n",
       "873  2022-05-23  1.116772  10.305822  0.548208  0.077947  0.423400  1.415372   \n",
       "\n",
       "      POLYGON   UNISWAP       BITCOIN  \n",
       "0    0.014962       NaN   7200.174316  \n",
       "1    0.014651       NaN   6985.470215  \n",
       "2    0.015194       NaN   7344.884277  \n",
       "3    0.014961       NaN   7410.656738  \n",
       "4    0.014914       NaN   7411.317383  \n",
       "..        ...       ...           ...  \n",
       "869  0.658817  5.190270  30314.333984  \n",
       "870  0.636510  5.104964  29200.740234  \n",
       "871  0.649339  5.237450  29432.226562  \n",
       "872  0.678312  5.509896  30323.722656  \n",
       "873  0.687748  5.854978  30382.175781  \n",
       "\n",
       "[874 rows x 10 columns]"
      ]
     },
     "execution_count": 416,
     "metadata": {},
     "output_type": "execute_result"
    }
   ],
   "source": [
    "dataset= pd.read_csv('../1-Visualização de dados Financeiros/criptos.csv')\n",
    "dataset"
   ]
  },
  {
   "cell_type": "code",
   "execution_count": 417,
   "metadata": {},
   "outputs": [
    {
     "data": {
      "text/html": [
       "<div>\n",
       "<style scoped>\n",
       "    .dataframe tbody tr th:only-of-type {\n",
       "        vertical-align: middle;\n",
       "    }\n",
       "\n",
       "    .dataframe tbody tr th {\n",
       "        vertical-align: top;\n",
       "    }\n",
       "\n",
       "    .dataframe thead th {\n",
       "        text-align: right;\n",
       "    }\n",
       "</style>\n",
       "<table border=\"1\" class=\"dataframe\">\n",
       "  <thead>\n",
       "    <tr style=\"text-align: right;\">\n",
       "      <th></th>\n",
       "      <th>MANA</th>\n",
       "      <th>POLKADOT</th>\n",
       "      <th>CARDANO</th>\n",
       "      <th>TRON</th>\n",
       "      <th>RIPLE</th>\n",
       "      <th>SAND</th>\n",
       "      <th>POLYGON</th>\n",
       "      <th>UNISWAP</th>\n",
       "      <th>BITCOIN</th>\n",
       "    </tr>\n",
       "  </thead>\n",
       "  <tbody>\n",
       "    <tr>\n",
       "      <th>count</th>\n",
       "      <td>874.000000</td>\n",
       "      <td>555.000000</td>\n",
       "      <td>874.000000</td>\n",
       "      <td>874.000000</td>\n",
       "      <td>874.000000</td>\n",
       "      <td>648.000000</td>\n",
       "      <td>874.000000</td>\n",
       "      <td>614.000000</td>\n",
       "      <td>874.000000</td>\n",
       "    </tr>\n",
       "    <tr>\n",
       "      <th>mean</th>\n",
       "      <td>0.914520</td>\n",
       "      <td>22.225433</td>\n",
       "      <td>0.822031</td>\n",
       "      <td>0.052989</td>\n",
       "      <td>0.586863</td>\n",
       "      <td>1.413411</td>\n",
       "      <td>0.705541</td>\n",
       "      <td>17.107969</td>\n",
       "      <td>30993.469236</td>\n",
       "    </tr>\n",
       "    <tr>\n",
       "      <th>std</th>\n",
       "      <td>1.140769</td>\n",
       "      <td>13.403769</td>\n",
       "      <td>0.767788</td>\n",
       "      <td>0.034033</td>\n",
       "      <td>0.372282</td>\n",
       "      <td>1.776186</td>\n",
       "      <td>0.774505</td>\n",
       "      <td>10.277268</td>\n",
       "      <td>18510.360598</td>\n",
       "    </tr>\n",
       "    <tr>\n",
       "      <th>min</th>\n",
       "      <td>0.018649</td>\n",
       "      <td>2.875028</td>\n",
       "      <td>0.023961</td>\n",
       "      <td>0.008792</td>\n",
       "      <td>0.139635</td>\n",
       "      <td>0.030821</td>\n",
       "      <td>0.008096</td>\n",
       "      <td>1.930119</td>\n",
       "      <td>4970.788086</td>\n",
       "    </tr>\n",
       "    <tr>\n",
       "      <th>25%</th>\n",
       "      <td>0.063626</td>\n",
       "      <td>9.306091</td>\n",
       "      <td>0.097034</td>\n",
       "      <td>0.022544</td>\n",
       "      <td>0.242841</td>\n",
       "      <td>0.082620</td>\n",
       "      <td>0.019875</td>\n",
       "      <td>8.484247</td>\n",
       "      <td>10447.193115</td>\n",
       "    </tr>\n",
       "    <tr>\n",
       "      <th>50%</th>\n",
       "      <td>0.483097</td>\n",
       "      <td>21.626959</td>\n",
       "      <td>0.805680</td>\n",
       "      <td>0.053703</td>\n",
       "      <td>0.548738</td>\n",
       "      <td>0.614548</td>\n",
       "      <td>0.326090</td>\n",
       "      <td>17.458517</td>\n",
       "      <td>35164.308594</td>\n",
       "    </tr>\n",
       "    <tr>\n",
       "      <th>75%</th>\n",
       "      <td>1.237373</td>\n",
       "      <td>33.656902</td>\n",
       "      <td>1.324833</td>\n",
       "      <td>0.075308</td>\n",
       "      <td>0.832750</td>\n",
       "      <td>2.721473</td>\n",
       "      <td>1.432143</td>\n",
       "      <td>25.456326</td>\n",
       "      <td>46455.435547</td>\n",
       "    </tr>\n",
       "    <tr>\n",
       "      <th>max</th>\n",
       "      <td>5.479181</td>\n",
       "      <td>53.881733</td>\n",
       "      <td>2.968239</td>\n",
       "      <td>0.164650</td>\n",
       "      <td>1.839236</td>\n",
       "      <td>8.402190</td>\n",
       "      <td>2.876757</td>\n",
       "      <td>43.164505</td>\n",
       "      <td>67566.828125</td>\n",
       "    </tr>\n",
       "  </tbody>\n",
       "</table>\n",
       "</div>"
      ],
      "text/plain": [
       "             MANA    POLKADOT     CARDANO        TRON       RIPLE        SAND  \\\n",
       "count  874.000000  555.000000  874.000000  874.000000  874.000000  648.000000   \n",
       "mean     0.914520   22.225433    0.822031    0.052989    0.586863    1.413411   \n",
       "std      1.140769   13.403769    0.767788    0.034033    0.372282    1.776186   \n",
       "min      0.018649    2.875028    0.023961    0.008792    0.139635    0.030821   \n",
       "25%      0.063626    9.306091    0.097034    0.022544    0.242841    0.082620   \n",
       "50%      0.483097   21.626959    0.805680    0.053703    0.548738    0.614548   \n",
       "75%      1.237373   33.656902    1.324833    0.075308    0.832750    2.721473   \n",
       "max      5.479181   53.881733    2.968239    0.164650    1.839236    8.402190   \n",
       "\n",
       "          POLYGON     UNISWAP       BITCOIN  \n",
       "count  874.000000  614.000000    874.000000  \n",
       "mean     0.705541   17.107969  30993.469236  \n",
       "std      0.774505   10.277268  18510.360598  \n",
       "min      0.008096    1.930119   4970.788086  \n",
       "25%      0.019875    8.484247  10447.193115  \n",
       "50%      0.326090   17.458517  35164.308594  \n",
       "75%      1.432143   25.456326  46455.435547  \n",
       "max      2.876757   43.164505  67566.828125  "
      ]
     },
     "execution_count": 417,
     "metadata": {},
     "output_type": "execute_result"
    }
   ],
   "source": [
    "dataset.describe()"
   ]
  },
  {
   "cell_type": "markdown",
   "metadata": {},
   "source": [
    "Cálculos de Retornos Anuais"
   ]
  },
  {
   "cell_type": "markdown",
   "metadata": {},
   "source": [
    "2020"
   ]
  },
  {
   "cell_type": "code",
   "execution_count": 418,
   "metadata": {},
   "outputs": [
    {
     "data": {
      "text/plain": [
       "(0    0.031483\n",
       " Name: MANA, dtype: float64,\n",
       " 365    0.078251\n",
       " Name: MANA, dtype: float64)"
      ]
     },
     "execution_count": 418,
     "metadata": {},
     "output_type": "execute_result"
    }
   ],
   "source": [
    "dataset['MANA'][dataset['Date']== '2020-01-01'], dataset['MANA'][dataset['Date']== '2020-12-31']"
   ]
  },
  {
   "cell_type": "code",
   "execution_count": 419,
   "metadata": {},
   "outputs": [
    {
     "data": {
      "text/plain": [
       "91.04738912804542"
      ]
     },
     "execution_count": 419,
     "metadata": {},
     "output_type": "execute_result"
    }
   ],
   "source": [
    "np.log(0.078251/0.031483)*100"
   ]
  },
  {
   "cell_type": "code",
   "execution_count": 420,
   "metadata": {},
   "outputs": [
    {
     "data": {
      "text/plain": [
       "(0   NaN\n",
       " Name: POLKADOT, dtype: float64,\n",
       " 365    9.292508\n",
       " Name: POLKADOT, dtype: float64)"
      ]
     },
     "execution_count": 420,
     "metadata": {},
     "output_type": "execute_result"
    }
   ],
   "source": [
    "dataset['POLKADOT'][dataset['Date']== '2020-01-01'], dataset['POLKADOT'][dataset['Date']== '2020-12-31']"
   ]
  },
  {
   "cell_type": "code",
   "execution_count": 421,
   "metadata": {},
   "outputs": [],
   "source": [
    "#np.log(9.292508/NaN)*100"
   ]
  },
  {
   "cell_type": "code",
   "execution_count": 422,
   "metadata": {},
   "outputs": [
    {
     "data": {
      "text/plain": [
       "(0    0.033458\n",
       " Name: CARDANO, dtype: float64,\n",
       " 365    0.181397\n",
       " Name: CARDANO, dtype: float64)"
      ]
     },
     "execution_count": 422,
     "metadata": {},
     "output_type": "execute_result"
    }
   ],
   "source": [
    "dataset['CARDANO'][dataset['Date']== '2020-01-01'], dataset['CARDANO'][dataset['Date']== '2020-12-31']"
   ]
  },
  {
   "cell_type": "code",
   "execution_count": 423,
   "metadata": {},
   "outputs": [
    {
     "data": {
      "text/plain": [
       "169.0397078597706"
      ]
     },
     "execution_count": 423,
     "metadata": {},
     "output_type": "execute_result"
    }
   ],
   "source": [
    "np.log(0.181397/0.033458)*100"
   ]
  },
  {
   "cell_type": "code",
   "execution_count": 424,
   "metadata": {},
   "outputs": [
    {
     "data": {
      "text/plain": [
       "(0    0.01325\n",
       " Name: TRON, dtype: float64,\n",
       " 365    0.026833\n",
       " Name: TRON, dtype: float64)"
      ]
     },
     "execution_count": 424,
     "metadata": {},
     "output_type": "execute_result"
    }
   ],
   "source": [
    "dataset['TRON'][dataset['Date']== '2020-01-01'], dataset['TRON'][dataset['Date']== '2020-12-31']"
   ]
  },
  {
   "cell_type": "code",
   "execution_count": 425,
   "metadata": {},
   "outputs": [
    {
     "data": {
      "text/plain": [
       "-159.69501721072757"
      ]
     },
     "execution_count": 425,
     "metadata": {},
     "output_type": "execute_result"
    }
   ],
   "source": [
    "np.log(0.026833/0.1325)*100"
   ]
  },
  {
   "cell_type": "code",
   "execution_count": 426,
   "metadata": {},
   "outputs": [
    {
     "data": {
      "text/plain": [
       "(0    0.192667\n",
       " Name: RIPLE, dtype: float64,\n",
       " 365    0.219846\n",
       " Name: RIPLE, dtype: float64)"
      ]
     },
     "execution_count": 426,
     "metadata": {},
     "output_type": "execute_result"
    }
   ],
   "source": [
    "dataset['RIPLE'][dataset['Date']== '2020-01-01'], dataset['RIPLE'][dataset['Date']== '2020-12-31']"
   ]
  },
  {
   "cell_type": "code",
   "execution_count": 427,
   "metadata": {},
   "outputs": [
    {
     "data": {
      "text/plain": [
       "13.196399113139073"
      ]
     },
     "execution_count": 427,
     "metadata": {},
     "output_type": "execute_result"
    }
   ],
   "source": [
    "np.log(0.219846/0.192667)*100"
   ]
  },
  {
   "cell_type": "code",
   "execution_count": 428,
   "metadata": {},
   "outputs": [
    {
     "data": {
      "text/plain": [
       "(0   NaN\n",
       " Name: SAND, dtype: float64,\n",
       " 365    0.035653\n",
       " Name: SAND, dtype: float64)"
      ]
     },
     "execution_count": 428,
     "metadata": {},
     "output_type": "execute_result"
    }
   ],
   "source": [
    "dataset['SAND'][dataset['Date']== '2020-01-01'], dataset['SAND'][dataset['Date']== '2020-12-31']"
   ]
  },
  {
   "cell_type": "code",
   "execution_count": 429,
   "metadata": {},
   "outputs": [],
   "source": [
    "#np.log(0.035653/NaN)*100"
   ]
  },
  {
   "cell_type": "code",
   "execution_count": 430,
   "metadata": {},
   "outputs": [
    {
     "data": {
      "text/plain": [
       "(0    0.014962\n",
       " Name: POLYGON, dtype: float64,\n",
       " 365    0.017633\n",
       " Name: POLYGON, dtype: float64)"
      ]
     },
     "execution_count": 430,
     "metadata": {},
     "output_type": "execute_result"
    }
   ],
   "source": [
    "dataset['POLYGON'][dataset['Date']== '2020-01-01'], dataset['POLYGON'][dataset['Date']== '2020-12-31']"
   ]
  },
  {
   "cell_type": "code",
   "execution_count": 431,
   "metadata": {},
   "outputs": [
    {
     "data": {
      "text/plain": [
       "16.425849297557335"
      ]
     },
     "execution_count": 431,
     "metadata": {},
     "output_type": "execute_result"
    }
   ],
   "source": [
    "np.log(0.017633/0.014962)*100"
   ]
  },
  {
   "cell_type": "code",
   "execution_count": 488,
   "metadata": {},
   "outputs": [
    {
     "data": {
      "text/plain": [
       "(0   NaN\n",
       " Name: UNISWAP, dtype: float64,\n",
       " 365    5.168337\n",
       " Name: UNISWAP, dtype: float64)"
      ]
     },
     "execution_count": 488,
     "metadata": {},
     "output_type": "execute_result"
    }
   ],
   "source": [
    "dataset['UNISWAP'][dataset['Date']== '2020-01-01'], dataset['UNISWAP'][dataset['Date']== '2020-12-31']"
   ]
  },
  {
   "cell_type": "code",
   "execution_count": 489,
   "metadata": {},
   "outputs": [
    {
     "ename": "ZeroDivisionError",
     "evalue": "float division by zero",
     "output_type": "error",
     "traceback": [
      "\u001b[1;31m---------------------------------------------------------------------------\u001b[0m",
      "\u001b[1;31mZeroDivisionError\u001b[0m                         Traceback (most recent call last)",
      "\u001b[1;32mg:\\Meu Drive\\Projetos Pessoais\\Coincheck\\3-Cálculos de Risco\\Cálculos.ipynb Cell 23'\u001b[0m in \u001b[0;36m<cell line: 1>\u001b[1;34m()\u001b[0m\n\u001b[1;32m----> <a href='vscode-notebook-cell:/g%3A/Meu%20Drive/Projetos%20Pessoais/Coincheck/3-C%C3%A1lculos%20de%20Risco/C%C3%A1lculos.ipynb#ch0000099?line=0'>1</a>\u001b[0m np\u001b[39m.\u001b[39mlog(\u001b[39m5.168337\u001b[39;49m\u001b[39m/\u001b[39;49m\u001b[39m0\u001b[39;49m)\n",
      "\u001b[1;31mZeroDivisionError\u001b[0m: float division by zero"
     ]
    }
   ],
   "source": [
    "#np.log(5.168337/NaN)*100"
   ]
  },
  {
   "cell_type": "markdown",
   "metadata": {},
   "source": [
    "2021\n"
   ]
  },
  {
   "cell_type": "code",
   "execution_count": 432,
   "metadata": {},
   "outputs": [
    {
     "data": {
      "text/plain": [
       "(366    0.083738\n",
       " Name: MANA, dtype: float64,\n",
       " 730    3.270671\n",
       " Name: MANA, dtype: float64)"
      ]
     },
     "execution_count": 432,
     "metadata": {},
     "output_type": "execute_result"
    }
   ],
   "source": [
    "dataset['MANA'][dataset['Date']== '2021-01-01'], dataset['MANA'][dataset['Date']== '2021-12-31']"
   ]
  },
  {
   "cell_type": "code",
   "execution_count": 433,
   "metadata": {},
   "outputs": [
    {
     "data": {
      "text/plain": [
       "366.50575647606547"
      ]
     },
     "execution_count": 433,
     "metadata": {},
     "output_type": "execute_result"
    }
   ],
   "source": [
    "np.log(3.270671/0.083738)*100"
   ]
  },
  {
   "cell_type": "code",
   "execution_count": 434,
   "metadata": {},
   "outputs": [
    {
     "data": {
      "text/plain": [
       "(366    8.306819\n",
       " Name: POLKADOT, dtype: float64,\n",
       " 730    26.719675\n",
       " Name: POLKADOT, dtype: float64)"
      ]
     },
     "execution_count": 434,
     "metadata": {},
     "output_type": "execute_result"
    }
   ],
   "source": [
    "dataset['POLKADOT'][dataset['Date']== '2021-01-01'], dataset['POLKADOT'][dataset['Date']== '2021-12-31']"
   ]
  },
  {
   "cell_type": "code",
   "execution_count": 435,
   "metadata": {},
   "outputs": [
    {
     "data": {
      "text/plain": [
       "116.8323441654041"
      ]
     },
     "execution_count": 435,
     "metadata": {},
     "output_type": "execute_result"
    }
   ],
   "source": [
    "np.log(26.719675/8.306819)*100"
   ]
  },
  {
   "cell_type": "code",
   "execution_count": 436,
   "metadata": {},
   "outputs": [
    {
     "data": {
      "text/plain": [
       "(366    0.17535\n",
       " Name: CARDANO, dtype: float64,\n",
       " 730    1.310209\n",
       " Name: CARDANO, dtype: float64)"
      ]
     },
     "execution_count": 436,
     "metadata": {},
     "output_type": "execute_result"
    }
   ],
   "source": [
    "dataset['CARDANO'][dataset['Date']== '2021-01-01'], dataset['CARDANO'][dataset['Date']== '2021-12-31']"
   ]
  },
  {
   "cell_type": "code",
   "execution_count": 437,
   "metadata": {},
   "outputs": [
    {
     "data": {
      "text/plain": [
       "201.11579688682738"
      ]
     },
     "execution_count": 437,
     "metadata": {},
     "output_type": "execute_result"
    }
   ],
   "source": [
    "np.log(1.310209/0.17535)*100"
   ]
  },
  {
   "cell_type": "code",
   "execution_count": 438,
   "metadata": {},
   "outputs": [
    {
     "data": {
      "text/plain": [
       "(366    0.02694\n",
       " Name: TRON, dtype: float64,\n",
       " 730    0.075397\n",
       " Name: TRON, dtype: float64)"
      ]
     },
     "execution_count": 438,
     "metadata": {},
     "output_type": "execute_result"
    }
   ],
   "source": [
    "dataset['TRON'][dataset['Date']== '2021-01-01'], dataset['TRON'][dataset['Date']== '2021-12-31']"
   ]
  },
  {
   "cell_type": "code",
   "execution_count": 439,
   "metadata": {},
   "outputs": [
    {
     "data": {
      "text/plain": [
       "102.91553154417285"
      ]
     },
     "execution_count": 439,
     "metadata": {},
     "output_type": "execute_result"
    }
   ],
   "source": [
    "np.log(0.075397/0.02694)*100"
   ]
  },
  {
   "cell_type": "code",
   "execution_count": 440,
   "metadata": {},
   "outputs": [
    {
     "data": {
      "text/plain": [
       "(366    0.237444\n",
       " Name: RIPLE, dtype: float64,\n",
       " 730    0.831163\n",
       " Name: RIPLE, dtype: float64)"
      ]
     },
     "execution_count": 440,
     "metadata": {},
     "output_type": "execute_result"
    }
   ],
   "source": [
    "dataset['RIPLE'][dataset['Date']== '2021-01-01'], dataset['RIPLE'][dataset['Date']== '2021-12-31']"
   ]
  },
  {
   "cell_type": "code",
   "execution_count": 441,
   "metadata": {},
   "outputs": [
    {
     "data": {
      "text/plain": [
       "125.28941186402123"
      ]
     },
     "execution_count": 441,
     "metadata": {},
     "output_type": "execute_result"
    }
   ],
   "source": [
    "np.log(0.831163/0.237444)*100"
   ]
  },
  {
   "cell_type": "code",
   "execution_count": 442,
   "metadata": {},
   "outputs": [
    {
     "data": {
      "text/plain": [
       "(366    0.037023\n",
       " Name: SAND, dtype: float64,\n",
       " 730    5.84771\n",
       " Name: SAND, dtype: float64)"
      ]
     },
     "execution_count": 442,
     "metadata": {},
     "output_type": "execute_result"
    }
   ],
   "source": [
    "dataset['SAND'][dataset['Date']== '2021-01-01'], dataset['SAND'][dataset['Date']== '2021-12-31']"
   ]
  },
  {
   "cell_type": "code",
   "execution_count": 443,
   "metadata": {},
   "outputs": [
    {
     "data": {
      "text/plain": [
       "506.22660694575694"
      ]
     },
     "execution_count": 443,
     "metadata": {},
     "output_type": "execute_result"
    }
   ],
   "source": [
    "np.log(5.84771/0.037023)*100"
   ]
  },
  {
   "cell_type": "code",
   "execution_count": 444,
   "metadata": {},
   "outputs": [
    {
     "data": {
      "text/plain": [
       "(366    0.017812\n",
       " Name: POLYGON, dtype: float64,\n",
       " 730    2.527107\n",
       " Name: POLYGON, dtype: float64)"
      ]
     },
     "execution_count": 444,
     "metadata": {},
     "output_type": "execute_result"
    }
   ],
   "source": [
    "dataset['POLYGON'][dataset['Date']== '2021-01-01'], dataset['POLYGON'][dataset['Date']== '2021-12-31']"
   ]
  },
  {
   "cell_type": "code",
   "execution_count": 445,
   "metadata": {},
   "outputs": [
    {
     "data": {
      "text/plain": [
       "495.49580617311636"
      ]
     },
     "execution_count": 445,
     "metadata": {},
     "output_type": "execute_result"
    }
   ],
   "source": [
    "np.log(2.527107/0.017812)*100"
   ]
  },
  {
   "cell_type": "code",
   "execution_count": 484,
   "metadata": {},
   "outputs": [
    {
     "data": {
      "text/plain": [
       "(366    4.736249\n",
       " Name: UNISWAP, dtype: float64,\n",
       " 730    17.06888\n",
       " Name: UNISWAP, dtype: float64)"
      ]
     },
     "execution_count": 484,
     "metadata": {},
     "output_type": "execute_result"
    }
   ],
   "source": [
    "dataset['UNISWAP'][dataset['Date']== '2021-01-01'], dataset['UNISWAP'][dataset['Date']== '2021-12-31']"
   ]
  },
  {
   "cell_type": "code",
   "execution_count": 490,
   "metadata": {},
   "outputs": [
    {
     "data": {
      "text/plain": [
       "128.20114502555074"
      ]
     },
     "execution_count": 490,
     "metadata": {},
     "output_type": "execute_result"
    }
   ],
   "source": [
    "np.log(17.06888/4.736249)*100\n"
   ]
  },
  {
   "cell_type": "markdown",
   "metadata": {},
   "source": [
    "2022"
   ]
  },
  {
   "cell_type": "code",
   "execution_count": 446,
   "metadata": {},
   "outputs": [
    {
     "data": {
      "text/plain": [
       "(731    3.345399\n",
       " Name: MANA, dtype: float64,\n",
       " 868    1.035926\n",
       " Name: MANA, dtype: float64)"
      ]
     },
     "execution_count": 446,
     "metadata": {},
     "output_type": "execute_result"
    }
   ],
   "source": [
    "dataset['MANA'][dataset['Date']== '2022-01-01'], dataset['MANA'][dataset['Date']== '2022-05-18']"
   ]
  },
  {
   "cell_type": "code",
   "execution_count": 447,
   "metadata": {},
   "outputs": [
    {
     "data": {
      "text/plain": [
       "-116.87999656817836"
      ]
     },
     "execution_count": 447,
     "metadata": {},
     "output_type": "execute_result"
    }
   ],
   "source": [
    "np.log(1.039548/3.345399)*100"
   ]
  },
  {
   "cell_type": "code",
   "execution_count": 448,
   "metadata": {},
   "outputs": [
    {
     "data": {
      "text/plain": [
       "(731    28.583582\n",
       " Name: POLKADOT, dtype: float64,\n",
       " 868   NaN\n",
       " Name: POLKADOT, dtype: float64)"
      ]
     },
     "execution_count": 448,
     "metadata": {},
     "output_type": "execute_result"
    }
   ],
   "source": [
    "dataset['POLKADOT'][dataset['Date']== '2022-01-01'], dataset['POLKADOT'][dataset['Date']== '2022-05-18']"
   ]
  },
  {
   "cell_type": "code",
   "execution_count": 449,
   "metadata": {},
   "outputs": [
    {
     "data": {
      "text/plain": [
       "-109.8949532099232"
      ]
     },
     "execution_count": 449,
     "metadata": {},
     "output_type": "execute_result"
    }
   ],
   "source": [
    "np.log(9.524648/28.583582)*100"
   ]
  },
  {
   "cell_type": "code",
   "execution_count": 450,
   "metadata": {},
   "outputs": [
    {
     "data": {
      "text/plain": [
       "(731    1.376975\n",
       " Name: CARDANO, dtype: float64,\n",
       " 868    0.505615\n",
       " Name: CARDANO, dtype: float64)"
      ]
     },
     "execution_count": 450,
     "metadata": {},
     "output_type": "execute_result"
    }
   ],
   "source": [
    "dataset['CARDANO'][dataset['Date']== '2022-01-01'], dataset['CARDANO'][dataset['Date']== '2022-05-18']"
   ]
  },
  {
   "cell_type": "code",
   "execution_count": 451,
   "metadata": {},
   "outputs": [
    {
     "data": {
      "text/plain": [
       "-99.99837997204187"
      ]
     },
     "execution_count": 451,
     "metadata": {},
     "output_type": "execute_result"
    }
   ],
   "source": [
    "np.log(0.506569/1.376975)*100"
   ]
  },
  {
   "cell_type": "code",
   "execution_count": 452,
   "metadata": {},
   "outputs": [
    {
     "data": {
      "text/plain": [
       "(731    0.07661\n",
       " Name: TRON, dtype: float64,\n",
       " 868    0.070974\n",
       " Name: TRON, dtype: float64)"
      ]
     },
     "execution_count": 452,
     "metadata": {},
     "output_type": "execute_result"
    }
   ],
   "source": [
    "dataset['TRON'][dataset['Date']== '2022-01-01'], dataset['TRON'][dataset['Date']== '2022-05-18']"
   ]
  },
  {
   "cell_type": "code",
   "execution_count": 453,
   "metadata": {},
   "outputs": [
    {
     "data": {
      "text/plain": [
       "-7.504823915433062"
      ]
     },
     "execution_count": 453,
     "metadata": {},
     "output_type": "execute_result"
    }
   ],
   "source": [
    "np.log(0.071071/0.07661)*100"
   ]
  },
  {
   "cell_type": "code",
   "execution_count": 454,
   "metadata": {},
   "outputs": [
    {
     "data": {
      "text/plain": [
       "(731    0.849472\n",
       " Name: RIPLE, dtype: float64,\n",
       " 868    0.406166\n",
       " Name: RIPLE, dtype: float64)"
      ]
     },
     "execution_count": 454,
     "metadata": {},
     "output_type": "execute_result"
    }
   ],
   "source": [
    "dataset['RIPLE'][dataset['Date']== '2022-01-01'], dataset['RIPLE'][dataset['Date']== '2022-05-18']"
   ]
  },
  {
   "cell_type": "code",
   "execution_count": 455,
   "metadata": {},
   "outputs": [
    {
     "data": {
      "text/plain": [
       "-73.66350654678591"
      ]
     },
     "execution_count": 455,
     "metadata": {},
     "output_type": "execute_result"
    }
   ],
   "source": [
    "np.log(0.406661/0.849472)*100"
   ]
  },
  {
   "cell_type": "code",
   "execution_count": 456,
   "metadata": {},
   "outputs": [
    {
     "data": {
      "text/plain": [
       "(731    5.972598\n",
       " Name: SAND, dtype: float64,\n",
       " 868    1.192518\n",
       " Name: SAND, dtype: float64)"
      ]
     },
     "execution_count": 456,
     "metadata": {},
     "output_type": "execute_result"
    }
   ],
   "source": [
    "dataset['SAND'][dataset['Date']== '2022-01-01'], dataset['SAND'][dataset['Date']== '2022-05-18']"
   ]
  },
  {
   "cell_type": "code",
   "execution_count": 457,
   "metadata": {},
   "outputs": [
    {
     "data": {
      "text/plain": [
       "-161.0169520023596"
      ]
     },
     "execution_count": 457,
     "metadata": {},
     "output_type": "execute_result"
    }
   ],
   "source": [
    "np.log(1.193646/5.972598)*100"
   ]
  },
  {
   "cell_type": "code",
   "execution_count": 458,
   "metadata": {},
   "outputs": [
    {
     "data": {
      "text/plain": [
       "(731    2.574791\n",
       " Name: POLYGON, dtype: float64,\n",
       " 868    0.627577\n",
       " Name: POLYGON, dtype: float64)"
      ]
     },
     "execution_count": 458,
     "metadata": {},
     "output_type": "execute_result"
    }
   ],
   "source": [
    "dataset['POLYGON'][dataset['Date']== '2022-01-01'], dataset['POLYGON'][dataset['Date']== '2022-05-18']"
   ]
  },
  {
   "cell_type": "code",
   "execution_count": 459,
   "metadata": {},
   "outputs": [
    {
     "data": {
      "text/plain": [
       "-141.04836032453824"
      ]
     },
     "execution_count": 459,
     "metadata": {},
     "output_type": "execute_result"
    }
   ],
   "source": [
    "np.log(0.628314/2.574791)*100"
   ]
  },
  {
   "cell_type": "code",
   "execution_count": 486,
   "metadata": {},
   "outputs": [
    {
     "data": {
      "text/plain": [
       "(731    17.444496\n",
       " Name: UNISWAP, dtype: float64,\n",
       " 868    4.902217\n",
       " Name: UNISWAP, dtype: float64)"
      ]
     },
     "execution_count": 486,
     "metadata": {},
     "output_type": "execute_result"
    }
   ],
   "source": [
    "dataset['UNISWAP'][dataset['Date']== '2022-01-01'], dataset['UNISWAP'][dataset['Date']== '2022-05-18']"
   ]
  },
  {
   "cell_type": "code",
   "execution_count": 491,
   "metadata": {},
   "outputs": [
    {
     "data": {
      "text/plain": [
       "-126.93366316497378"
      ]
     },
     "execution_count": 491,
     "metadata": {},
     "output_type": "execute_result"
    }
   ],
   "source": [
    "np.log(4.902217/17.444496)*100"
   ]
  },
  {
   "cell_type": "markdown",
   "metadata": {},
   "source": [
    "Variância"
   ]
  },
  {
   "cell_type": "code",
   "execution_count": 460,
   "metadata": {},
   "outputs": [],
   "source": [
    "#Taxas de retorno anuais\n",
    "taxas_mana=np.array([91.04,366.5,-116.8])"
   ]
  },
  {
   "cell_type": "code",
   "execution_count": 461,
   "metadata": {},
   "outputs": [
    {
     "data": {
      "text/plain": [
       "113.58"
      ]
     },
     "execution_count": 461,
     "metadata": {},
     "output_type": "execute_result"
    }
   ],
   "source": [
    "#Somatório das taxa de retorno anuais / Anos = MÉDIA\n",
    "media_mana= taxas_mana.sum()/len(taxas_mana)\n",
    "#média\n",
    "media_mana"
   ]
  },
  {
   "cell_type": "code",
   "execution_count": 462,
   "metadata": {},
   "outputs": [
    {
     "data": {
      "text/plain": [
       "113.58"
      ]
     },
     "execution_count": 462,
     "metadata": {},
     "output_type": "execute_result"
    }
   ],
   "source": [
    "#outra forma de cálcular a média\n",
    "media_mana= taxas_mana.mean()\n",
    "media_mana"
   ]
  },
  {
   "cell_type": "code",
   "execution_count": 463,
   "metadata": {},
   "outputs": [
    {
     "data": {
      "text/plain": [
       "39183.840800000005"
      ]
     },
     "execution_count": 463,
     "metadata": {},
     "output_type": "execute_result"
    }
   ],
   "source": [
    "#VARIÂNCIA\n",
    "#(taxas individuais- média)² = Resultados individuais: soma de todos resultados / anos\n",
    "#MANA\n",
    "variancia_mana=((taxas_mana - media_mana)**2).sum() / len(taxas_mana)\n",
    "variancia_mana"
   ]
  },
  {
   "cell_type": "code",
   "execution_count": 464,
   "metadata": {},
   "outputs": [
    {
     "data": {
      "text/plain": [
       "39183.840800000005"
      ]
     },
     "execution_count": 464,
     "metadata": {},
     "output_type": "execute_result"
    }
   ],
   "source": [
    "#outra forma de cálcular a Variância\n",
    "variancia_mana=taxas_mana.var()\n",
    "variancia_mana"
   ]
  },
  {
   "cell_type": "code",
   "execution_count": 465,
   "metadata": {},
   "outputs": [],
   "source": [
    "#POLKADOT\n",
    "taxas_dot=np.array([0,116.83,-109.89])"
   ]
  },
  {
   "cell_type": "code",
   "execution_count": 466,
   "metadata": {},
   "outputs": [
    {
     "data": {
      "text/plain": [
       "2.3133333333333326"
      ]
     },
     "execution_count": 466,
     "metadata": {},
     "output_type": "execute_result"
    }
   ],
   "source": [
    "media_dot= taxas_dot.sum()/len(taxas_dot)\n",
    "media_dot"
   ]
  },
  {
   "cell_type": "code",
   "execution_count": 467,
   "metadata": {},
   "outputs": [
    {
     "data": {
      "text/plain": [
       "8569.668822222222"
      ]
     },
     "execution_count": 467,
     "metadata": {},
     "output_type": "execute_result"
    }
   ],
   "source": [
    "variancia_dot=((taxas_dot-media_dot)**2).sum()/ len(taxas_dot)\n",
    "variancia_dot"
   ]
  },
  {
   "cell_type": "code",
   "execution_count": 468,
   "metadata": {},
   "outputs": [
    {
     "data": {
      "text/plain": [
       "(1.3602004852565612, 104.65165914442089)"
      ]
     },
     "execution_count": 468,
     "metadata": {},
     "output_type": "execute_result"
    }
   ],
   "source": [
    "#comparando a Variância de + de 1 ativo nos últimos 30 dias\n",
    "dataset['MANA'].tail(365).var(), dataset['POLKADOT'].tail(365).var()"
   ]
  },
  {
   "cell_type": "code",
   "execution_count": 469,
   "metadata": {},
   "outputs": [
    {
     "data": {
      "text/plain": [
       "18229.12186666667"
      ]
     },
     "execution_count": 469,
     "metadata": {},
     "output_type": "execute_result"
    }
   ],
   "source": [
    "#CARDANO\n",
    "taxas_ada=np.array([169.03,201.11,-99.99])\n",
    "media_ada=taxas_ada.sum()/len(taxas_ada)\n",
    "variancia_ada=((taxas_ada-media_ada)**2).sum()/len(taxas_ada)\n",
    "variancia_ada"
   ]
  },
  {
   "cell_type": "code",
   "execution_count": 470,
   "metadata": {},
   "outputs": [
    {
     "data": {
      "text/plain": [
       "11590.102688888886"
      ]
     },
     "execution_count": 470,
     "metadata": {},
     "output_type": "execute_result"
    }
   ],
   "source": [
    "#TRON\n",
    "taxas_trx=np.array([-159.69,102.91,-7.50])\n",
    "media_trx=taxas_trx.sum()/len(taxas_trx)\n",
    "variancia_trx=((taxas_trx-media_trx)**2).sum()/len(taxas_trx)\n",
    "variancia_trx"
   ]
  },
  {
   "cell_type": "code",
   "execution_count": 471,
   "metadata": {},
   "outputs": [
    {
     "data": {
      "text/plain": [
       "6631.579355555555"
      ]
     },
     "execution_count": 471,
     "metadata": {},
     "output_type": "execute_result"
    }
   ],
   "source": [
    "#RIPLE\n",
    "taxas_xrp=np.array([13.19,125.28,-73.66])\n",
    "media_xrp=taxas_xrp.sum()/len(taxas_xrp)\n",
    "variancia_xrp=((taxas_xrp-media_xrp)**2).sum()/len(taxas_xrp)\n",
    "variancia_xrp"
   ]
  },
  {
   "cell_type": "code",
   "execution_count": 472,
   "metadata": {},
   "outputs": [
    {
     "data": {
      "text/plain": [
       "80818.0240888889"
      ]
     },
     "execution_count": 472,
     "metadata": {},
     "output_type": "execute_result"
    }
   ],
   "source": [
    "#SAND\n",
    "taxas_sand=np.array([0,506.22,-161])\n",
    "media_sand=taxas_sand.sum()/len(taxas_sand)\n",
    "variancia_sand=((taxas_sand-media_sand)**2).sum()/len(taxas_sand)\n",
    "variancia_sand"
   ]
  },
  {
   "cell_type": "code",
   "execution_count": 473,
   "metadata": {},
   "outputs": [
    {
     "data": {
      "text/plain": [
       "73274.68415555556"
      ]
     },
     "execution_count": 473,
     "metadata": {},
     "output_type": "execute_result"
    }
   ],
   "source": [
    "#POLYGON\n",
    "taxas_matic=np.array([16.42,495.49,-141.04])\n",
    "media_matic=taxas_matic.sum()/len(taxas_matic)\n",
    "variancia_matic=((taxas_matic-media_matic)**2).sum()/len(taxas_matic)\n",
    "variancia_matic"
   ]
  },
  {
   "cell_type": "code",
   "execution_count": 493,
   "metadata": {},
   "outputs": [
    {
     "data": {
      "text/plain": [
       "10848.642422222221"
      ]
     },
     "execution_count": 493,
     "metadata": {},
     "output_type": "execute_result"
    }
   ],
   "source": [
    "#UNISWAP\n",
    "taxas_uni=np.array([0,128.20,-126.93])\n",
    "media_uni=taxas_uni.sum()/len(taxas_uni)\n",
    "variancia_uni=((taxas_uni-media_uni)**2).sum()/len(taxas_uni)\n",
    "variancia_uni"
   ]
  },
  {
   "cell_type": "code",
   "execution_count": 494,
   "metadata": {},
   "outputs": [
    {
     "data": {
      "text/plain": [
       "[39183.840800000005,\n",
       " 8569.668822222222,\n",
       " 18229.12186666667,\n",
       " 11590.102688888886,\n",
       " 6631.579355555555,\n",
       " 80818.0240888889,\n",
       " 10848.642422222221,\n",
       " 10848.642422222221]"
      ]
     },
     "execution_count": 494,
     "metadata": {},
     "output_type": "execute_result"
    }
   ],
   "source": [
    "criptovariancia= ([variancia_mana,variancia_dot,variancia_ada,variancia_trx, variancia_xrp, variancia_sand,variancia_matic,variancia_uni])\n",
    "criptovariancia"
   ]
  },
  {
   "cell_type": "markdown",
   "metadata": {},
   "source": [
    "Desvio Padrão"
   ]
  },
  {
   "cell_type": "code",
   "execution_count": 475,
   "metadata": {},
   "outputs": [
    {
     "data": {
      "text/plain": [
       "197.94908638334255"
      ]
     },
     "execution_count": 475,
     "metadata": {},
     "output_type": "execute_result"
    }
   ],
   "source": [
    "# Raiz quadrada da Variância= Desvio\n",
    "#DESVIO PADRÃO \n",
    "\n",
    "#MANA\n",
    "desvio_padrão_mana=math.sqrt(variancia_mana)\n",
    "desvio_padrão_mana"
   ]
  },
  {
   "cell_type": "code",
   "execution_count": 476,
   "metadata": {},
   "outputs": [
    {
     "data": {
      "text/plain": [
       "197.94908638334255"
      ]
     },
     "execution_count": 476,
     "metadata": {},
     "output_type": "execute_result"
    }
   ],
   "source": [
    "#Outra forma de cálcular o Desvio:\n",
    "taxas_mana.std()"
   ]
  },
  {
   "cell_type": "code",
   "execution_count": 477,
   "metadata": {},
   "outputs": [
    {
     "data": {
      "text/plain": [
       "92.5725057574992"
      ]
     },
     "execution_count": 477,
     "metadata": {},
     "output_type": "execute_result"
    }
   ],
   "source": [
    "#POLKADOT\n",
    "desvio_padrão_dot=math.sqrt(variancia_dot)\n",
    "desvio_padrão_dot"
   ]
  },
  {
   "cell_type": "code",
   "execution_count": 478,
   "metadata": {},
   "outputs": [
    {
     "data": {
      "text/plain": [
       "135.01526530976662"
      ]
     },
     "execution_count": 478,
     "metadata": {},
     "output_type": "execute_result"
    }
   ],
   "source": [
    "#CARDANO\n",
    "desvio_padrão_ada=math.sqrt(variancia_ada)\n",
    "desvio_padrão_ada"
   ]
  },
  {
   "cell_type": "code",
   "execution_count": 479,
   "metadata": {},
   "outputs": [
    {
     "data": {
      "text/plain": [
       "107.65733922445273"
      ]
     },
     "execution_count": 479,
     "metadata": {},
     "output_type": "execute_result"
    }
   ],
   "source": [
    "#TRON\n",
    "desvio_padrão_trx=math.sqrt(variancia_trx)\n",
    "desvio_padrão_trx"
   ]
  },
  {
   "cell_type": "code",
   "execution_count": 480,
   "metadata": {},
   "outputs": [
    {
     "data": {
      "text/plain": [
       "81.43450961082503"
      ]
     },
     "execution_count": 480,
     "metadata": {},
     "output_type": "execute_result"
    }
   ],
   "source": [
    "#RIPLE\n",
    "desvio_padrão_xrp=math.sqrt(variancia_xrp)\n",
    "desvio_padrão_xrp"
   ]
  },
  {
   "cell_type": "code",
   "execution_count": 481,
   "metadata": {},
   "outputs": [
    {
     "data": {
      "text/plain": [
       "284.28511056488503"
      ]
     },
     "execution_count": 481,
     "metadata": {},
     "output_type": "execute_result"
    }
   ],
   "source": [
    "#SAND\n",
    "desvio_padrão_sand=math.sqrt(variancia_sand)\n",
    "desvio_padrão_sand"
   ]
  },
  {
   "cell_type": "code",
   "execution_count": 482,
   "metadata": {},
   "outputs": [
    {
     "data": {
      "text/plain": [
       "270.6929702736212"
      ]
     },
     "execution_count": 482,
     "metadata": {},
     "output_type": "execute_result"
    }
   ],
   "source": [
    "#POLYGON\n",
    "desvio_padrão_matic=math.sqrt(variancia_matic)\n",
    "desvio_padrão_matic"
   ]
  },
  {
   "cell_type": "code",
   "execution_count": 495,
   "metadata": {},
   "outputs": [
    {
     "data": {
      "text/plain": [
       "104.15681649427569"
      ]
     },
     "execution_count": 495,
     "metadata": {},
     "output_type": "execute_result"
    }
   ],
   "source": [
    "#UNISWAP\n",
    "desvio_padrão_uni=math.sqrt(variancia_uni)\n",
    "desvio_padrão_uni"
   ]
  },
  {
   "cell_type": "code",
   "execution_count": 496,
   "metadata": {},
   "outputs": [
    {
     "ename": "OSError",
     "evalue": "[Errno 22] Invalid argument: './teste.csv'",
     "output_type": "error",
     "traceback": [
      "\u001b[1;31m---------------------------------------------------------------------------\u001b[0m",
      "\u001b[1;31mOSError\u001b[0m                                   Traceback (most recent call last)",
      "\u001b[1;32mg:\\Meu Drive\\Projetos Pessoais\\Coincheck\\3-Cálculos de Risco\\Cálculos.ipynb Cell 85'\u001b[0m in \u001b[0;36m<cell line: 1>\u001b[1;34m()\u001b[0m\n\u001b[1;32m----> <a href='vscode-notebook-cell:/g%3A/Meu%20Drive/Projetos%20Pessoais/Coincheck/3-C%C3%A1lculos%20de%20Risco/C%C3%A1lculos.ipynb#ch0000087?line=0'>1</a>\u001b[0m \u001b[39mwith\u001b[39;00m \u001b[39mopen\u001b[39;49m (\u001b[39m'\u001b[39;49m\u001b[39m./teste.csv\u001b[39;49m\u001b[39m'\u001b[39;49m, \u001b[39m'\u001b[39;49m\u001b[39mw\u001b[39;49m\u001b[39m'\u001b[39;49m) \u001b[39mas\u001b[39;00m csvfile:      \n\u001b[0;32m      <a href='vscode-notebook-cell:/g%3A/Meu%20Drive/Projetos%20Pessoais/Coincheck/3-C%C3%A1lculos%20de%20Risco/C%C3%A1lculos.ipynb#ch0000087?line=1'>2</a>\u001b[0m       csv\u001b[39m.\u001b[39mwriter(csvfile, delimiter\u001b[39m=\u001b[39m\u001b[39m'\u001b[39m\u001b[39m,\u001b[39m\u001b[39m'\u001b[39m)\u001b[39m.\u001b[39mwriterow([\u001b[39m'\u001b[39m\u001b[39mMANA\u001b[39m\u001b[39m'\u001b[39m, desvio_padrão_mana ])\n\u001b[0;32m      <a href='vscode-notebook-cell:/g%3A/Meu%20Drive/Projetos%20Pessoais/Coincheck/3-C%C3%A1lculos%20de%20Risco/C%C3%A1lculos.ipynb#ch0000087?line=2'>3</a>\u001b[0m       csv\u001b[39m.\u001b[39mwriter(csvfile, delimiter\u001b[39m=\u001b[39m\u001b[39m'\u001b[39m\u001b[39m,\u001b[39m\u001b[39m'\u001b[39m)\u001b[39m.\u001b[39mwriterow([\u001b[39m'\u001b[39m\u001b[39mPOLKADOT\u001b[39m\u001b[39m'\u001b[39m, desvio_padrão_dot ])\n",
      "\u001b[1;31mOSError\u001b[0m: [Errno 22] Invalid argument: './teste.csv'"
     ]
    }
   ],
   "source": [
    "\n",
    "with open ('./teste.csv', 'w') as csvfile:      \n",
    "      csv.writer(csvfile, delimiter=',').writerow(['MANA', desvio_padrão_mana ])\n",
    "      csv.writer(csvfile, delimiter=',').writerow(['POLKADOT', desvio_padrão_dot ])\n"
   ]
  },
  {
   "cell_type": "code",
   "execution_count": 498,
   "metadata": {},
   "outputs": [
    {
     "data": {
      "text/plain": [
       "(0.8487491896894412,\n",
       " 6.824247550993909,\n",
       " 0.2692591174380787,\n",
       " 0.006997052208888596,\n",
       " 0.13445997060382495,\n",
       " 1.4633317419863527,\n",
       " 0.4900545472533557,\n",
       " 4.15234459504969,\n",
       " 6063.145436410461)"
      ]
     },
     "execution_count": 498,
     "metadata": {},
     "output_type": "execute_result"
    }
   ],
   "source": [
    "#Retorna a comparação da variação de volatilidade de preço em DÓLAR.\n",
    "\n",
    "dataset['MANA'].tail(180).std(), dataset['POLKADOT'].tail(180).std(), dataset['CARDANO'].tail(180).std(), dataset['TRON'].tail(30).std(), dataset['RIPLE'].tail(180).std(), dataset['SAND'].tail(180).std(), dataset['POLYGON'].tail(180).std(),dataset['UNISWAP'].tail(180).std(), dataset['BITCOIN'].tail(180).std()\n"
   ]
  },
  {
   "cell_type": "markdown",
   "metadata": {},
   "source": [
    "Coeficiente de Variação"
   ]
  },
  {
   "cell_type": "code",
   "execution_count": 499,
   "metadata": {},
   "outputs": [
    {
     "data": {
      "text/plain": [
       "(197.94908638334255, 113.58)"
      ]
     },
     "execution_count": 499,
     "metadata": {},
     "output_type": "execute_result"
    }
   ],
   "source": [
    "desvio_padrão_mana, media_mana"
   ]
  },
  {
   "cell_type": "code",
   "execution_count": 500,
   "metadata": {},
   "outputs": [
    {
     "data": {
      "text/plain": [
       "174.28163971063793"
      ]
     },
     "execution_count": 500,
     "metadata": {},
     "output_type": "execute_result"
    }
   ],
   "source": [
    "#MANA\n",
    "coeficiente_variacao_mana=(desvio_padrão_mana/media_mana)*100\n",
    "coeficiente_variacao_mana"
   ]
  },
  {
   "cell_type": "code",
   "execution_count": 501,
   "metadata": {},
   "outputs": [
    {
     "data": {
      "text/plain": [
       "174.28163971063793"
      ]
     },
     "execution_count": 501,
     "metadata": {},
     "output_type": "execute_result"
    }
   ],
   "source": [
    "#Outra forma de cálcular o coeficiente de variação\n",
    "stats.variation(taxas_mana)*100\n"
   ]
  },
  {
   "cell_type": "code",
   "execution_count": 502,
   "metadata": {},
   "outputs": [
    {
     "data": {
      "text/plain": [
       "4001.693332456739"
      ]
     },
     "execution_count": 502,
     "metadata": {},
     "output_type": "execute_result"
    }
   ],
   "source": [
    "#POLKADOT\n",
    "coeficiente_variacao_dot=(desvio_padrão_dot/media_dot)*100\n",
    "coeficiente_variacao_dot"
   ]
  },
  {
   "cell_type": "code",
   "execution_count": 503,
   "metadata": {},
   "outputs": [
    {
     "data": {
      "text/plain": [
       "149.93366497475472"
      ]
     },
     "execution_count": 503,
     "metadata": {},
     "output_type": "execute_result"
    }
   ],
   "source": [
    "#CARDANO\n",
    "coeficiente_variacao_ada=(desvio_padrão_ada/media_ada)*100\n",
    "coeficiente_variacao_ada"
   ]
  },
  {
   "cell_type": "code",
   "execution_count": 504,
   "metadata": {},
   "outputs": [
    {
     "data": {
      "text/plain": [
       "-502.44557820995357"
      ]
     },
     "execution_count": 504,
     "metadata": {},
     "output_type": "execute_result"
    }
   ],
   "source": [
    "#TRON\n",
    "coeficiente_variacao_trx=(desvio_padrão_trx/media_trx)*100\n",
    "coeficiente_variacao_trx"
   ]
  },
  {
   "cell_type": "markdown",
   "metadata": {},
   "source": [
    "Cálculos com todos Ativos"
   ]
  },
  {
   "cell_type": "code",
   "execution_count": 505,
   "metadata": {},
   "outputs": [
    {
     "data": {
      "text/html": [
       "<div>\n",
       "<style scoped>\n",
       "    .dataframe tbody tr th:only-of-type {\n",
       "        vertical-align: middle;\n",
       "    }\n",
       "\n",
       "    .dataframe tbody tr th {\n",
       "        vertical-align: top;\n",
       "    }\n",
       "\n",
       "    .dataframe thead th {\n",
       "        text-align: right;\n",
       "    }\n",
       "</style>\n",
       "<table border=\"1\" class=\"dataframe\">\n",
       "  <thead>\n",
       "    <tr style=\"text-align: right;\">\n",
       "      <th></th>\n",
       "      <th>MANA</th>\n",
       "      <th>POLKADOT</th>\n",
       "      <th>CARDANO</th>\n",
       "      <th>TRON</th>\n",
       "      <th>RIPLE</th>\n",
       "      <th>SAND</th>\n",
       "      <th>POLYGON</th>\n",
       "      <th>UNISWAP</th>\n",
       "      <th>BITCOIN</th>\n",
       "    </tr>\n",
       "  </thead>\n",
       "  <tbody>\n",
       "    <tr>\n",
       "      <th>0</th>\n",
       "      <td>0.031483</td>\n",
       "      <td>NaN</td>\n",
       "      <td>0.033458</td>\n",
       "      <td>0.013250</td>\n",
       "      <td>0.192667</td>\n",
       "      <td>NaN</td>\n",
       "      <td>0.014962</td>\n",
       "      <td>NaN</td>\n",
       "      <td>7200.174316</td>\n",
       "    </tr>\n",
       "    <tr>\n",
       "      <th>1</th>\n",
       "      <td>0.032639</td>\n",
       "      <td>NaN</td>\n",
       "      <td>0.032751</td>\n",
       "      <td>0.012870</td>\n",
       "      <td>0.188043</td>\n",
       "      <td>NaN</td>\n",
       "      <td>0.014651</td>\n",
       "      <td>NaN</td>\n",
       "      <td>6985.470215</td>\n",
       "    </tr>\n",
       "    <tr>\n",
       "      <th>2</th>\n",
       "      <td>0.032805</td>\n",
       "      <td>NaN</td>\n",
       "      <td>0.034180</td>\n",
       "      <td>0.013435</td>\n",
       "      <td>0.193521</td>\n",
       "      <td>NaN</td>\n",
       "      <td>0.015194</td>\n",
       "      <td>NaN</td>\n",
       "      <td>7344.884277</td>\n",
       "    </tr>\n",
       "    <tr>\n",
       "      <th>3</th>\n",
       "      <td>0.035837</td>\n",
       "      <td>NaN</td>\n",
       "      <td>0.034595</td>\n",
       "      <td>0.013521</td>\n",
       "      <td>0.194355</td>\n",
       "      <td>NaN</td>\n",
       "      <td>0.014961</td>\n",
       "      <td>NaN</td>\n",
       "      <td>7410.656738</td>\n",
       "    </tr>\n",
       "    <tr>\n",
       "      <th>4</th>\n",
       "      <td>0.036459</td>\n",
       "      <td>NaN</td>\n",
       "      <td>0.034721</td>\n",
       "      <td>0.013623</td>\n",
       "      <td>0.195537</td>\n",
       "      <td>NaN</td>\n",
       "      <td>0.014914</td>\n",
       "      <td>NaN</td>\n",
       "      <td>7411.317383</td>\n",
       "    </tr>\n",
       "    <tr>\n",
       "      <th>...</th>\n",
       "      <td>...</td>\n",
       "      <td>...</td>\n",
       "      <td>...</td>\n",
       "      <td>...</td>\n",
       "      <td>...</td>\n",
       "      <td>...</td>\n",
       "      <td>...</td>\n",
       "      <td>...</td>\n",
       "      <td>...</td>\n",
       "    </tr>\n",
       "    <tr>\n",
       "      <th>869</th>\n",
       "      <td>1.122525</td>\n",
       "      <td>NaN</td>\n",
       "      <td>0.533321</td>\n",
       "      <td>0.073608</td>\n",
       "      <td>0.419976</td>\n",
       "      <td>1.302092</td>\n",
       "      <td>0.658817</td>\n",
       "      <td>5.190270</td>\n",
       "      <td>30314.333984</td>\n",
       "    </tr>\n",
       "    <tr>\n",
       "      <th>870</th>\n",
       "      <td>1.067323</td>\n",
       "      <td>NaN</td>\n",
       "      <td>0.517907</td>\n",
       "      <td>0.071351</td>\n",
       "      <td>0.411137</td>\n",
       "      <td>1.273900</td>\n",
       "      <td>0.636510</td>\n",
       "      <td>5.104964</td>\n",
       "      <td>29200.740234</td>\n",
       "    </tr>\n",
       "    <tr>\n",
       "      <th>871</th>\n",
       "      <td>1.095843</td>\n",
       "      <td>NaN</td>\n",
       "      <td>0.528314</td>\n",
       "      <td>0.074070</td>\n",
       "      <td>0.414673</td>\n",
       "      <td>1.328947</td>\n",
       "      <td>0.649339</td>\n",
       "      <td>5.237450</td>\n",
       "      <td>29432.226562</td>\n",
       "    </tr>\n",
       "    <tr>\n",
       "      <th>872</th>\n",
       "      <td>1.107102</td>\n",
       "      <td>NaN</td>\n",
       "      <td>0.542618</td>\n",
       "      <td>0.078131</td>\n",
       "      <td>0.422337</td>\n",
       "      <td>1.388092</td>\n",
       "      <td>0.678312</td>\n",
       "      <td>5.509896</td>\n",
       "      <td>30323.722656</td>\n",
       "    </tr>\n",
       "    <tr>\n",
       "      <th>873</th>\n",
       "      <td>1.116772</td>\n",
       "      <td>10.305822</td>\n",
       "      <td>0.548208</td>\n",
       "      <td>0.077947</td>\n",
       "      <td>0.423400</td>\n",
       "      <td>1.415372</td>\n",
       "      <td>0.687748</td>\n",
       "      <td>5.854978</td>\n",
       "      <td>30382.175781</td>\n",
       "    </tr>\n",
       "  </tbody>\n",
       "</table>\n",
       "<p>874 rows × 9 columns</p>\n",
       "</div>"
      ],
      "text/plain": [
       "         MANA   POLKADOT   CARDANO      TRON     RIPLE      SAND   POLYGON  \\\n",
       "0    0.031483        NaN  0.033458  0.013250  0.192667       NaN  0.014962   \n",
       "1    0.032639        NaN  0.032751  0.012870  0.188043       NaN  0.014651   \n",
       "2    0.032805        NaN  0.034180  0.013435  0.193521       NaN  0.015194   \n",
       "3    0.035837        NaN  0.034595  0.013521  0.194355       NaN  0.014961   \n",
       "4    0.036459        NaN  0.034721  0.013623  0.195537       NaN  0.014914   \n",
       "..        ...        ...       ...       ...       ...       ...       ...   \n",
       "869  1.122525        NaN  0.533321  0.073608  0.419976  1.302092  0.658817   \n",
       "870  1.067323        NaN  0.517907  0.071351  0.411137  1.273900  0.636510   \n",
       "871  1.095843        NaN  0.528314  0.074070  0.414673  1.328947  0.649339   \n",
       "872  1.107102        NaN  0.542618  0.078131  0.422337  1.388092  0.678312   \n",
       "873  1.116772  10.305822  0.548208  0.077947  0.423400  1.415372  0.687748   \n",
       "\n",
       "      UNISWAP       BITCOIN  \n",
       "0         NaN   7200.174316  \n",
       "1         NaN   6985.470215  \n",
       "2         NaN   7344.884277  \n",
       "3         NaN   7410.656738  \n",
       "4         NaN   7411.317383  \n",
       "..        ...           ...  \n",
       "869  5.190270  30314.333984  \n",
       "870  5.104964  29200.740234  \n",
       "871  5.237450  29432.226562  \n",
       "872  5.509896  30323.722656  \n",
       "873  5.854978  30382.175781  \n",
       "\n",
       "[874 rows x 9 columns]"
      ]
     },
     "execution_count": 505,
     "metadata": {},
     "output_type": "execute_result"
    }
   ],
   "source": [
    "#retirei a coluna date, me trará atualizações de 1 em 1 dia e modifiquei a tabela.\n",
    "dataset.drop(labels=['Date'],axis=1, inplace=True)\n",
    "dataset"
   ]
  },
  {
   "cell_type": "code",
   "execution_count": 506,
   "metadata": {},
   "outputs": [
    {
     "data": {
      "text/plain": [
       "[MANA        4.163808e+02\n",
       " POLKADOT    4.892376e+03\n",
       " CARDANO     2.802426e+02\n",
       " TRON        1.242195e+01\n",
       " RIPLE       1.358828e+02\n",
       " SAND        6.483077e+02\n",
       " POLYGON     2.826943e+02\n",
       " UNISWAP     3.751203e+03\n",
       " BITCOIN     6.756282e+06\n",
       " dtype: float64]"
      ]
     },
     "execution_count": 506,
     "metadata": {},
     "output_type": "execute_result"
    }
   ],
   "source": [
    "#risco médio anual\n",
    "taxas_retorno=([dataset.std()*365])\n",
    "taxas_retorno"
   ]
  },
  {
   "cell_type": "code",
   "execution_count": 507,
   "metadata": {},
   "outputs": [
    {
     "data": {
      "text/plain": [
       "19.1049731745428"
      ]
     },
     "execution_count": 507,
     "metadata": {},
     "output_type": "execute_result"
    }
   ],
   "source": [
    "math.sqrt(365) #anualizar"
   ]
  },
  {
   "cell_type": "code",
   "execution_count": 508,
   "metadata": {},
   "outputs": [
    {
     "data": {
      "text/plain": [
       "MANA            21.794367\n",
       "POLKADOT       256.078653\n",
       "CARDANO         14.668570\n",
       "TRON             0.650195\n",
       "RIPLE            7.112433\n",
       "SAND            33.933978\n",
       "POLYGON         14.796898\n",
       "UNISWAP        196.346938\n",
       "BITCOIN     353639.942682\n",
       "dtype: float64"
      ]
     },
     "execution_count": 508,
     "metadata": {},
     "output_type": "execute_result"
    }
   ],
   "source": [
    "#Os ativos de maior valor posuem maiores riscos\n",
    "dataset.std()*math.sqrt(365)"
   ]
  },
  {
   "cell_type": "markdown",
   "metadata": {},
   "source": [
    "Correlação entre Ativos"
   ]
  },
  {
   "cell_type": "markdown",
   "metadata": {},
   "source": [
    "Risco de um Portfólio"
   ]
  }
 ],
 "metadata": {
  "interpreter": {
   "hash": "c6544b8a5a5c509948c8c7acacbaab8bffeb55b5d87ee0e971fd8561f4a6db8f"
  },
  "kernelspec": {
   "display_name": "Python 3.10.4 64-bit",
   "language": "python",
   "name": "python3"
  },
  "language_info": {
   "codemirror_mode": {
    "name": "ipython",
    "version": 3
   },
   "file_extension": ".py",
   "mimetype": "text/x-python",
   "name": "python",
   "nbconvert_exporter": "python",
   "pygments_lexer": "ipython3",
   "version": "3.10.4"
  },
  "orig_nbformat": 4
 },
 "nbformat": 4,
 "nbformat_minor": 2
}
