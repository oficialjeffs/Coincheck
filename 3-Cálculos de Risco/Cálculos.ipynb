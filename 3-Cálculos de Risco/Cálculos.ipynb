{
 "cells": [
  {
   "cell_type": "markdown",
   "metadata": {},
   "source": [
    "Pytho para finanças- Risco de ações"
   ]
  },
  {
   "cell_type": "markdown",
   "metadata": {},
   "source": [
    "#Importação de bibliotecas e base de dados"
   ]
  },
  {
   "cell_type": "code",
   "execution_count": 79,
   "metadata": {},
   "outputs": [],
   "source": [
    "import pandas as pd\n",
    "import numpy as np\n",
    "import math\n",
    "import matplotlib.pyplot as plt\n",
    "import seaborn as sns\n",
    "from scipy import stats"
   ]
  },
  {
   "cell_type": "code",
   "execution_count": 80,
   "metadata": {},
   "outputs": [
    {
     "data": {
      "text/html": [
       "<div>\n",
       "<style scoped>\n",
       "    .dataframe tbody tr th:only-of-type {\n",
       "        vertical-align: middle;\n",
       "    }\n",
       "\n",
       "    .dataframe tbody tr th {\n",
       "        vertical-align: top;\n",
       "    }\n",
       "\n",
       "    .dataframe thead th {\n",
       "        text-align: right;\n",
       "    }\n",
       "</style>\n",
       "<table border=\"1\" class=\"dataframe\">\n",
       "  <thead>\n",
       "    <tr style=\"text-align: right;\">\n",
       "      <th></th>\n",
       "      <th>Date</th>\n",
       "      <th>MANA</th>\n",
       "      <th>POLKADOT</th>\n",
       "      <th>CARDANO</th>\n",
       "      <th>TRON</th>\n",
       "      <th>RIPLE</th>\n",
       "      <th>SAND</th>\n",
       "      <th>POLYGON</th>\n",
       "      <th>BITCOIN</th>\n",
       "    </tr>\n",
       "  </thead>\n",
       "  <tbody>\n",
       "    <tr>\n",
       "      <th>0</th>\n",
       "      <td>2020-01-01</td>\n",
       "      <td>0.031483</td>\n",
       "      <td>NaN</td>\n",
       "      <td>0.033458</td>\n",
       "      <td>0.013250</td>\n",
       "      <td>0.192667</td>\n",
       "      <td>NaN</td>\n",
       "      <td>0.014962</td>\n",
       "      <td>7200.174316</td>\n",
       "    </tr>\n",
       "    <tr>\n",
       "      <th>1</th>\n",
       "      <td>2020-01-02</td>\n",
       "      <td>0.032639</td>\n",
       "      <td>NaN</td>\n",
       "      <td>0.032751</td>\n",
       "      <td>0.012870</td>\n",
       "      <td>0.188043</td>\n",
       "      <td>NaN</td>\n",
       "      <td>0.014651</td>\n",
       "      <td>6985.470215</td>\n",
       "    </tr>\n",
       "    <tr>\n",
       "      <th>2</th>\n",
       "      <td>2020-01-03</td>\n",
       "      <td>0.032805</td>\n",
       "      <td>NaN</td>\n",
       "      <td>0.034180</td>\n",
       "      <td>0.013435</td>\n",
       "      <td>0.193521</td>\n",
       "      <td>NaN</td>\n",
       "      <td>0.015194</td>\n",
       "      <td>7344.884277</td>\n",
       "    </tr>\n",
       "    <tr>\n",
       "      <th>3</th>\n",
       "      <td>2020-01-04</td>\n",
       "      <td>0.035837</td>\n",
       "      <td>NaN</td>\n",
       "      <td>0.034595</td>\n",
       "      <td>0.013521</td>\n",
       "      <td>0.194355</td>\n",
       "      <td>NaN</td>\n",
       "      <td>0.014961</td>\n",
       "      <td>7410.656738</td>\n",
       "    </tr>\n",
       "    <tr>\n",
       "      <th>4</th>\n",
       "      <td>2020-01-05</td>\n",
       "      <td>0.036459</td>\n",
       "      <td>NaN</td>\n",
       "      <td>0.034721</td>\n",
       "      <td>0.013623</td>\n",
       "      <td>0.195537</td>\n",
       "      <td>NaN</td>\n",
       "      <td>0.014914</td>\n",
       "      <td>7411.317383</td>\n",
       "    </tr>\n",
       "    <tr>\n",
       "      <th>...</th>\n",
       "      <td>...</td>\n",
       "      <td>...</td>\n",
       "      <td>...</td>\n",
       "      <td>...</td>\n",
       "      <td>...</td>\n",
       "      <td>...</td>\n",
       "      <td>...</td>\n",
       "      <td>...</td>\n",
       "      <td>...</td>\n",
       "    </tr>\n",
       "    <tr>\n",
       "      <th>866</th>\n",
       "      <td>2022-05-16</td>\n",
       "      <td>1.172838</td>\n",
       "      <td>NaN</td>\n",
       "      <td>0.556716</td>\n",
       "      <td>0.069088</td>\n",
       "      <td>0.422499</td>\n",
       "      <td>1.314255</td>\n",
       "      <td>0.677282</td>\n",
       "      <td>29862.917969</td>\n",
       "    </tr>\n",
       "    <tr>\n",
       "      <th>867</th>\n",
       "      <td>2022-05-17</td>\n",
       "      <td>1.213923</td>\n",
       "      <td>NaN</td>\n",
       "      <td>0.578077</td>\n",
       "      <td>0.072293</td>\n",
       "      <td>0.437623</td>\n",
       "      <td>1.371631</td>\n",
       "      <td>0.726942</td>\n",
       "      <td>30425.857422</td>\n",
       "    </tr>\n",
       "    <tr>\n",
       "      <th>868</th>\n",
       "      <td>2022-05-18</td>\n",
       "      <td>1.035926</td>\n",
       "      <td>NaN</td>\n",
       "      <td>0.505615</td>\n",
       "      <td>0.070974</td>\n",
       "      <td>0.406166</td>\n",
       "      <td>1.192518</td>\n",
       "      <td>0.627577</td>\n",
       "      <td>28720.271484</td>\n",
       "    </tr>\n",
       "    <tr>\n",
       "      <th>869</th>\n",
       "      <td>2022-05-19</td>\n",
       "      <td>1.122525</td>\n",
       "      <td>NaN</td>\n",
       "      <td>0.533321</td>\n",
       "      <td>0.073608</td>\n",
       "      <td>0.419976</td>\n",
       "      <td>1.302092</td>\n",
       "      <td>0.658817</td>\n",
       "      <td>30314.333984</td>\n",
       "    </tr>\n",
       "    <tr>\n",
       "      <th>870</th>\n",
       "      <td>2022-05-20</td>\n",
       "      <td>1.082942</td>\n",
       "      <td>9.699699</td>\n",
       "      <td>0.523556</td>\n",
       "      <td>0.073539</td>\n",
       "      <td>0.428881</td>\n",
       "      <td>1.267786</td>\n",
       "      <td>0.643836</td>\n",
       "      <td>29904.888672</td>\n",
       "    </tr>\n",
       "  </tbody>\n",
       "</table>\n",
       "<p>871 rows × 9 columns</p>\n",
       "</div>"
      ],
      "text/plain": [
       "           Date      MANA  POLKADOT   CARDANO      TRON     RIPLE      SAND  \\\n",
       "0    2020-01-01  0.031483       NaN  0.033458  0.013250  0.192667       NaN   \n",
       "1    2020-01-02  0.032639       NaN  0.032751  0.012870  0.188043       NaN   \n",
       "2    2020-01-03  0.032805       NaN  0.034180  0.013435  0.193521       NaN   \n",
       "3    2020-01-04  0.035837       NaN  0.034595  0.013521  0.194355       NaN   \n",
       "4    2020-01-05  0.036459       NaN  0.034721  0.013623  0.195537       NaN   \n",
       "..          ...       ...       ...       ...       ...       ...       ...   \n",
       "866  2022-05-16  1.172838       NaN  0.556716  0.069088  0.422499  1.314255   \n",
       "867  2022-05-17  1.213923       NaN  0.578077  0.072293  0.437623  1.371631   \n",
       "868  2022-05-18  1.035926       NaN  0.505615  0.070974  0.406166  1.192518   \n",
       "869  2022-05-19  1.122525       NaN  0.533321  0.073608  0.419976  1.302092   \n",
       "870  2022-05-20  1.082942  9.699699  0.523556  0.073539  0.428881  1.267786   \n",
       "\n",
       "      POLYGON       BITCOIN  \n",
       "0    0.014962   7200.174316  \n",
       "1    0.014651   6985.470215  \n",
       "2    0.015194   7344.884277  \n",
       "3    0.014961   7410.656738  \n",
       "4    0.014914   7411.317383  \n",
       "..        ...           ...  \n",
       "866  0.677282  29862.917969  \n",
       "867  0.726942  30425.857422  \n",
       "868  0.627577  28720.271484  \n",
       "869  0.658817  30314.333984  \n",
       "870  0.643836  29904.888672  \n",
       "\n",
       "[871 rows x 9 columns]"
      ]
     },
     "execution_count": 80,
     "metadata": {},
     "output_type": "execute_result"
    }
   ],
   "source": [
    "dataset= pd.read_csv('../1-Visualização de dados Financeiros/criptos.csv')\n",
    "dataset"
   ]
  },
  {
   "cell_type": "code",
   "execution_count": 81,
   "metadata": {},
   "outputs": [
    {
     "data": {
      "text/html": [
       "<div>\n",
       "<style scoped>\n",
       "    .dataframe tbody tr th:only-of-type {\n",
       "        vertical-align: middle;\n",
       "    }\n",
       "\n",
       "    .dataframe tbody tr th {\n",
       "        vertical-align: top;\n",
       "    }\n",
       "\n",
       "    .dataframe thead th {\n",
       "        text-align: right;\n",
       "    }\n",
       "</style>\n",
       "<table border=\"1\" class=\"dataframe\">\n",
       "  <thead>\n",
       "    <tr style=\"text-align: right;\">\n",
       "      <th></th>\n",
       "      <th>MANA</th>\n",
       "      <th>POLKADOT</th>\n",
       "      <th>CARDANO</th>\n",
       "      <th>TRON</th>\n",
       "      <th>RIPLE</th>\n",
       "      <th>SAND</th>\n",
       "      <th>POLYGON</th>\n",
       "      <th>BITCOIN</th>\n",
       "    </tr>\n",
       "  </thead>\n",
       "  <tbody>\n",
       "    <tr>\n",
       "      <th>count</th>\n",
       "      <td>871.000000</td>\n",
       "      <td>555.000000</td>\n",
       "      <td>871.000000</td>\n",
       "      <td>871.000000</td>\n",
       "      <td>871.000000</td>\n",
       "      <td>645.000000</td>\n",
       "      <td>871.000000</td>\n",
       "      <td>871.000000</td>\n",
       "    </tr>\n",
       "    <tr>\n",
       "      <th>mean</th>\n",
       "      <td>0.913876</td>\n",
       "      <td>22.224341</td>\n",
       "      <td>0.823010</td>\n",
       "      <td>0.052910</td>\n",
       "      <td>0.587457</td>\n",
       "      <td>1.413568</td>\n",
       "      <td>0.705665</td>\n",
       "      <td>30997.540914</td>\n",
       "    </tr>\n",
       "    <tr>\n",
       "      <th>std</th>\n",
       "      <td>1.142681</td>\n",
       "      <td>13.404767</td>\n",
       "      <td>0.768929</td>\n",
       "      <td>0.034064</td>\n",
       "      <td>0.372785</td>\n",
       "      <td>1.780315</td>\n",
       "      <td>0.775835</td>\n",
       "      <td>18542.083181</td>\n",
       "    </tr>\n",
       "    <tr>\n",
       "      <th>min</th>\n",
       "      <td>0.018649</td>\n",
       "      <td>2.875028</td>\n",
       "      <td>0.023961</td>\n",
       "      <td>0.008792</td>\n",
       "      <td>0.139635</td>\n",
       "      <td>0.030821</td>\n",
       "      <td>0.008096</td>\n",
       "      <td>4970.788086</td>\n",
       "    </tr>\n",
       "    <tr>\n",
       "      <th>25%</th>\n",
       "      <td>0.063184</td>\n",
       "      <td>9.306091</td>\n",
       "      <td>0.096991</td>\n",
       "      <td>0.022499</td>\n",
       "      <td>0.242525</td>\n",
       "      <td>0.082507</td>\n",
       "      <td>0.019843</td>\n",
       "      <td>10421.542969</td>\n",
       "    </tr>\n",
       "    <tr>\n",
       "      <th>50%</th>\n",
       "      <td>0.474439</td>\n",
       "      <td>21.626959</td>\n",
       "      <td>0.823752</td>\n",
       "      <td>0.053578</td>\n",
       "      <td>0.549942</td>\n",
       "      <td>0.613953</td>\n",
       "      <td>0.301851</td>\n",
       "      <td>35350.187500</td>\n",
       "    </tr>\n",
       "    <tr>\n",
       "      <th>75%</th>\n",
       "      <td>1.244128</td>\n",
       "      <td>33.656902</td>\n",
       "      <td>1.325148</td>\n",
       "      <td>0.075025</td>\n",
       "      <td>0.832829</td>\n",
       "      <td>2.722600</td>\n",
       "      <td>1.434583</td>\n",
       "      <td>46457.087891</td>\n",
       "    </tr>\n",
       "    <tr>\n",
       "      <th>max</th>\n",
       "      <td>5.479181</td>\n",
       "      <td>53.881733</td>\n",
       "      <td>2.968239</td>\n",
       "      <td>0.164650</td>\n",
       "      <td>1.839236</td>\n",
       "      <td>8.402190</td>\n",
       "      <td>2.876757</td>\n",
       "      <td>67566.828125</td>\n",
       "    </tr>\n",
       "  </tbody>\n",
       "</table>\n",
       "</div>"
      ],
      "text/plain": [
       "             MANA    POLKADOT     CARDANO        TRON       RIPLE        SAND  \\\n",
       "count  871.000000  555.000000  871.000000  871.000000  871.000000  645.000000   \n",
       "mean     0.913876   22.224341    0.823010    0.052910    0.587457    1.413568   \n",
       "std      1.142681   13.404767    0.768929    0.034064    0.372785    1.780315   \n",
       "min      0.018649    2.875028    0.023961    0.008792    0.139635    0.030821   \n",
       "25%      0.063184    9.306091    0.096991    0.022499    0.242525    0.082507   \n",
       "50%      0.474439   21.626959    0.823752    0.053578    0.549942    0.613953   \n",
       "75%      1.244128   33.656902    1.325148    0.075025    0.832829    2.722600   \n",
       "max      5.479181   53.881733    2.968239    0.164650    1.839236    8.402190   \n",
       "\n",
       "          POLYGON       BITCOIN  \n",
       "count  871.000000    871.000000  \n",
       "mean     0.705665  30997.540914  \n",
       "std      0.775835  18542.083181  \n",
       "min      0.008096   4970.788086  \n",
       "25%      0.019843  10421.542969  \n",
       "50%      0.301851  35350.187500  \n",
       "75%      1.434583  46457.087891  \n",
       "max      2.876757  67566.828125  "
      ]
     },
     "execution_count": 81,
     "metadata": {},
     "output_type": "execute_result"
    }
   ],
   "source": [
    "dataset.describe()"
   ]
  },
  {
   "cell_type": "markdown",
   "metadata": {},
   "source": [
    "Cálculos de Retornos Anuais"
   ]
  },
  {
   "cell_type": "markdown",
   "metadata": {},
   "source": [
    "2020"
   ]
  },
  {
   "cell_type": "code",
   "execution_count": 82,
   "metadata": {},
   "outputs": [
    {
     "data": {
      "text/plain": [
       "(0    0.031483\n",
       " Name: MANA, dtype: float64,\n",
       " 365    0.078251\n",
       " Name: MANA, dtype: float64)"
      ]
     },
     "execution_count": 82,
     "metadata": {},
     "output_type": "execute_result"
    }
   ],
   "source": [
    "dataset['MANA'][dataset['Date']== '2020-01-01'], dataset['MANA'][dataset['Date']== '2020-12-31']"
   ]
  },
  {
   "cell_type": "code",
   "execution_count": 83,
   "metadata": {},
   "outputs": [
    {
     "data": {
      "text/plain": [
       "91.04738912804542"
      ]
     },
     "execution_count": 83,
     "metadata": {},
     "output_type": "execute_result"
    }
   ],
   "source": [
    "np.log(0.078251/0.031483)*100"
   ]
  },
  {
   "cell_type": "code",
   "execution_count": 84,
   "metadata": {},
   "outputs": [
    {
     "data": {
      "text/plain": [
       "(0   NaN\n",
       " Name: POLKADOT, dtype: float64,\n",
       " 365    9.292508\n",
       " Name: POLKADOT, dtype: float64)"
      ]
     },
     "execution_count": 84,
     "metadata": {},
     "output_type": "execute_result"
    }
   ],
   "source": [
    "dataset['POLKADOT'][dataset['Date']== '2020-01-01'], dataset['POLKADOT'][dataset['Date']== '2020-12-31']"
   ]
  },
  {
   "cell_type": "code",
   "execution_count": 85,
   "metadata": {},
   "outputs": [],
   "source": [
    "#np.log(9.292508/NaN)*100"
   ]
  },
  {
   "cell_type": "code",
   "execution_count": 86,
   "metadata": {},
   "outputs": [
    {
     "data": {
      "text/plain": [
       "(0    0.033458\n",
       " Name: CARDANO, dtype: float64,\n",
       " 365    0.181397\n",
       " Name: CARDANO, dtype: float64)"
      ]
     },
     "execution_count": 86,
     "metadata": {},
     "output_type": "execute_result"
    }
   ],
   "source": [
    "dataset['CARDANO'][dataset['Date']== '2020-01-01'], dataset['CARDANO'][dataset['Date']== '2020-12-31']"
   ]
  },
  {
   "cell_type": "code",
   "execution_count": 87,
   "metadata": {},
   "outputs": [
    {
     "data": {
      "text/plain": [
       "169.0397078597706"
      ]
     },
     "execution_count": 87,
     "metadata": {},
     "output_type": "execute_result"
    }
   ],
   "source": [
    "np.log(0.181397/0.033458)*100"
   ]
  },
  {
   "cell_type": "code",
   "execution_count": 88,
   "metadata": {},
   "outputs": [
    {
     "data": {
      "text/plain": [
       "(0    0.01325\n",
       " Name: TRON, dtype: float64,\n",
       " 365    0.026833\n",
       " Name: TRON, dtype: float64)"
      ]
     },
     "execution_count": 88,
     "metadata": {},
     "output_type": "execute_result"
    }
   ],
   "source": [
    "dataset['TRON'][dataset['Date']== '2020-01-01'], dataset['TRON'][dataset['Date']== '2020-12-31']"
   ]
  },
  {
   "cell_type": "code",
   "execution_count": 89,
   "metadata": {},
   "outputs": [
    {
     "data": {
      "text/plain": [
       "-159.69501721072757"
      ]
     },
     "execution_count": 89,
     "metadata": {},
     "output_type": "execute_result"
    }
   ],
   "source": [
    "np.log(0.026833/0.1325)*100"
   ]
  },
  {
   "cell_type": "code",
   "execution_count": 90,
   "metadata": {},
   "outputs": [
    {
     "data": {
      "text/plain": [
       "(0    0.192667\n",
       " Name: RIPLE, dtype: float64,\n",
       " 365    0.219846\n",
       " Name: RIPLE, dtype: float64)"
      ]
     },
     "execution_count": 90,
     "metadata": {},
     "output_type": "execute_result"
    }
   ],
   "source": [
    "dataset['RIPLE'][dataset['Date']== '2020-01-01'], dataset['RIPLE'][dataset['Date']== '2020-12-31']"
   ]
  },
  {
   "cell_type": "code",
   "execution_count": 91,
   "metadata": {},
   "outputs": [
    {
     "data": {
      "text/plain": [
       "13.196399113139073"
      ]
     },
     "execution_count": 91,
     "metadata": {},
     "output_type": "execute_result"
    }
   ],
   "source": [
    "np.log(0.219846/0.192667)*100"
   ]
  },
  {
   "cell_type": "code",
   "execution_count": 92,
   "metadata": {},
   "outputs": [
    {
     "data": {
      "text/plain": [
       "(0   NaN\n",
       " Name: SAND, dtype: float64,\n",
       " 365    0.035653\n",
       " Name: SAND, dtype: float64)"
      ]
     },
     "execution_count": 92,
     "metadata": {},
     "output_type": "execute_result"
    }
   ],
   "source": [
    "dataset['SAND'][dataset['Date']== '2020-01-01'], dataset['SAND'][dataset['Date']== '2020-12-31']"
   ]
  },
  {
   "cell_type": "code",
   "execution_count": 93,
   "metadata": {},
   "outputs": [],
   "source": [
    "#np.log(0.035653/NaN)*100"
   ]
  },
  {
   "cell_type": "code",
   "execution_count": 94,
   "metadata": {},
   "outputs": [
    {
     "data": {
      "text/plain": [
       "(0    0.014962\n",
       " Name: POLYGON, dtype: float64,\n",
       " 365    0.017633\n",
       " Name: POLYGON, dtype: float64)"
      ]
     },
     "execution_count": 94,
     "metadata": {},
     "output_type": "execute_result"
    }
   ],
   "source": [
    "dataset['POLYGON'][dataset['Date']== '2020-01-01'], dataset['POLYGON'][dataset['Date']== '2020-12-31']"
   ]
  },
  {
   "cell_type": "code",
   "execution_count": 95,
   "metadata": {},
   "outputs": [
    {
     "data": {
      "text/plain": [
       "16.425849297557335"
      ]
     },
     "execution_count": 95,
     "metadata": {},
     "output_type": "execute_result"
    }
   ],
   "source": [
    "np.log(0.017633/0.014962)*100"
   ]
  },
  {
   "cell_type": "markdown",
   "metadata": {},
   "source": [
    "2021\n"
   ]
  },
  {
   "cell_type": "code",
   "execution_count": 96,
   "metadata": {},
   "outputs": [
    {
     "data": {
      "text/plain": [
       "(366    0.083738\n",
       " Name: MANA, dtype: float64,\n",
       " 730    3.270671\n",
       " Name: MANA, dtype: float64)"
      ]
     },
     "execution_count": 96,
     "metadata": {},
     "output_type": "execute_result"
    }
   ],
   "source": [
    "dataset['MANA'][dataset['Date']== '2021-01-01'], dataset['MANA'][dataset['Date']== '2021-12-31']"
   ]
  },
  {
   "cell_type": "code",
   "execution_count": 97,
   "metadata": {},
   "outputs": [
    {
     "data": {
      "text/plain": [
       "366.50575647606547"
      ]
     },
     "execution_count": 97,
     "metadata": {},
     "output_type": "execute_result"
    }
   ],
   "source": [
    "np.log(3.270671/0.083738)*100"
   ]
  },
  {
   "cell_type": "code",
   "execution_count": 98,
   "metadata": {},
   "outputs": [
    {
     "data": {
      "text/plain": [
       "(366    8.306819\n",
       " Name: POLKADOT, dtype: float64,\n",
       " 730    26.719675\n",
       " Name: POLKADOT, dtype: float64)"
      ]
     },
     "execution_count": 98,
     "metadata": {},
     "output_type": "execute_result"
    }
   ],
   "source": [
    "dataset['POLKADOT'][dataset['Date']== '2021-01-01'], dataset['POLKADOT'][dataset['Date']== '2021-12-31']"
   ]
  },
  {
   "cell_type": "code",
   "execution_count": 99,
   "metadata": {},
   "outputs": [
    {
     "data": {
      "text/plain": [
       "116.8323441654041"
      ]
     },
     "execution_count": 99,
     "metadata": {},
     "output_type": "execute_result"
    }
   ],
   "source": [
    "np.log(26.719675/8.306819)*100"
   ]
  },
  {
   "cell_type": "code",
   "execution_count": 100,
   "metadata": {},
   "outputs": [
    {
     "data": {
      "text/plain": [
       "(366    0.17535\n",
       " Name: CARDANO, dtype: float64,\n",
       " 730    1.310209\n",
       " Name: CARDANO, dtype: float64)"
      ]
     },
     "execution_count": 100,
     "metadata": {},
     "output_type": "execute_result"
    }
   ],
   "source": [
    "dataset['CARDANO'][dataset['Date']== '2021-01-01'], dataset['CARDANO'][dataset['Date']== '2021-12-31']"
   ]
  },
  {
   "cell_type": "code",
   "execution_count": 101,
   "metadata": {},
   "outputs": [
    {
     "data": {
      "text/plain": [
       "201.11579688682738"
      ]
     },
     "execution_count": 101,
     "metadata": {},
     "output_type": "execute_result"
    }
   ],
   "source": [
    "np.log(1.310209/0.17535)*100"
   ]
  },
  {
   "cell_type": "code",
   "execution_count": 102,
   "metadata": {},
   "outputs": [
    {
     "data": {
      "text/plain": [
       "(366    0.02694\n",
       " Name: TRON, dtype: float64,\n",
       " 730    0.075397\n",
       " Name: TRON, dtype: float64)"
      ]
     },
     "execution_count": 102,
     "metadata": {},
     "output_type": "execute_result"
    }
   ],
   "source": [
    "dataset['TRON'][dataset['Date']== '2021-01-01'], dataset['TRON'][dataset['Date']== '2021-12-31']"
   ]
  },
  {
   "cell_type": "code",
   "execution_count": 103,
   "metadata": {},
   "outputs": [
    {
     "data": {
      "text/plain": [
       "102.91553154417285"
      ]
     },
     "execution_count": 103,
     "metadata": {},
     "output_type": "execute_result"
    }
   ],
   "source": [
    "np.log(0.075397/0.02694)*100"
   ]
  },
  {
   "cell_type": "code",
   "execution_count": 104,
   "metadata": {},
   "outputs": [
    {
     "data": {
      "text/plain": [
       "(366    0.237444\n",
       " Name: RIPLE, dtype: float64,\n",
       " 730    0.831163\n",
       " Name: RIPLE, dtype: float64)"
      ]
     },
     "execution_count": 104,
     "metadata": {},
     "output_type": "execute_result"
    }
   ],
   "source": [
    "dataset['RIPLE'][dataset['Date']== '2021-01-01'], dataset['RIPLE'][dataset['Date']== '2021-12-31']"
   ]
  },
  {
   "cell_type": "code",
   "execution_count": 105,
   "metadata": {},
   "outputs": [
    {
     "data": {
      "text/plain": [
       "125.28941186402123"
      ]
     },
     "execution_count": 105,
     "metadata": {},
     "output_type": "execute_result"
    }
   ],
   "source": [
    "np.log(0.831163/0.237444)*100"
   ]
  },
  {
   "cell_type": "code",
   "execution_count": 106,
   "metadata": {},
   "outputs": [
    {
     "data": {
      "text/plain": [
       "(366    0.037023\n",
       " Name: SAND, dtype: float64,\n",
       " 730    5.84771\n",
       " Name: SAND, dtype: float64)"
      ]
     },
     "execution_count": 106,
     "metadata": {},
     "output_type": "execute_result"
    }
   ],
   "source": [
    "dataset['SAND'][dataset['Date']== '2021-01-01'], dataset['SAND'][dataset['Date']== '2021-12-31']"
   ]
  },
  {
   "cell_type": "code",
   "execution_count": 107,
   "metadata": {},
   "outputs": [
    {
     "data": {
      "text/plain": [
       "506.22660694575694"
      ]
     },
     "execution_count": 107,
     "metadata": {},
     "output_type": "execute_result"
    }
   ],
   "source": [
    "np.log(5.84771/0.037023)*100"
   ]
  },
  {
   "cell_type": "code",
   "execution_count": 108,
   "metadata": {},
   "outputs": [
    {
     "data": {
      "text/plain": [
       "(366    0.017812\n",
       " Name: POLYGON, dtype: float64,\n",
       " 730    2.527107\n",
       " Name: POLYGON, dtype: float64)"
      ]
     },
     "execution_count": 108,
     "metadata": {},
     "output_type": "execute_result"
    }
   ],
   "source": [
    "dataset['POLYGON'][dataset['Date']== '2021-01-01'], dataset['POLYGON'][dataset['Date']== '2021-12-31']"
   ]
  },
  {
   "cell_type": "code",
   "execution_count": 109,
   "metadata": {},
   "outputs": [
    {
     "data": {
      "text/plain": [
       "495.49580617311636"
      ]
     },
     "execution_count": 109,
     "metadata": {},
     "output_type": "execute_result"
    }
   ],
   "source": [
    "np.log(2.527107/0.017812)*100"
   ]
  },
  {
   "cell_type": "markdown",
   "metadata": {},
   "source": [
    "2022"
   ]
  },
  {
   "cell_type": "code",
   "execution_count": 110,
   "metadata": {},
   "outputs": [
    {
     "data": {
      "text/plain": [
       "(731    3.345399\n",
       " Name: MANA, dtype: float64,\n",
       " 868    1.035926\n",
       " Name: MANA, dtype: float64)"
      ]
     },
     "execution_count": 110,
     "metadata": {},
     "output_type": "execute_result"
    }
   ],
   "source": [
    "dataset['MANA'][dataset['Date']== '2022-01-01'], dataset['MANA'][dataset['Date']== '2022-05-18']"
   ]
  },
  {
   "cell_type": "code",
   "execution_count": 111,
   "metadata": {},
   "outputs": [
    {
     "data": {
      "text/plain": [
       "-116.87999656817836"
      ]
     },
     "execution_count": 111,
     "metadata": {},
     "output_type": "execute_result"
    }
   ],
   "source": [
    "np.log(1.039548/3.345399)*100"
   ]
  },
  {
   "cell_type": "code",
   "execution_count": 112,
   "metadata": {},
   "outputs": [
    {
     "data": {
      "text/plain": [
       "(731    28.583582\n",
       " Name: POLKADOT, dtype: float64,\n",
       " 868   NaN\n",
       " Name: POLKADOT, dtype: float64)"
      ]
     },
     "execution_count": 112,
     "metadata": {},
     "output_type": "execute_result"
    }
   ],
   "source": [
    "dataset['POLKADOT'][dataset['Date']== '2022-01-01'], dataset['POLKADOT'][dataset['Date']== '2022-05-18']"
   ]
  },
  {
   "cell_type": "code",
   "execution_count": 113,
   "metadata": {},
   "outputs": [
    {
     "data": {
      "text/plain": [
       "-109.8949532099232"
      ]
     },
     "execution_count": 113,
     "metadata": {},
     "output_type": "execute_result"
    }
   ],
   "source": [
    "np.log(9.524648/28.583582)*100"
   ]
  },
  {
   "cell_type": "code",
   "execution_count": 114,
   "metadata": {},
   "outputs": [
    {
     "data": {
      "text/plain": [
       "(731    1.376975\n",
       " Name: CARDANO, dtype: float64,\n",
       " 868    0.505615\n",
       " Name: CARDANO, dtype: float64)"
      ]
     },
     "execution_count": 114,
     "metadata": {},
     "output_type": "execute_result"
    }
   ],
   "source": [
    "dataset['CARDANO'][dataset['Date']== '2022-01-01'], dataset['CARDANO'][dataset['Date']== '2022-05-18']"
   ]
  },
  {
   "cell_type": "code",
   "execution_count": 115,
   "metadata": {},
   "outputs": [
    {
     "data": {
      "text/plain": [
       "-99.99837997204187"
      ]
     },
     "execution_count": 115,
     "metadata": {},
     "output_type": "execute_result"
    }
   ],
   "source": [
    "np.log(0.506569/1.376975)*100"
   ]
  },
  {
   "cell_type": "code",
   "execution_count": 116,
   "metadata": {},
   "outputs": [
    {
     "data": {
      "text/plain": [
       "(731    0.07661\n",
       " Name: TRON, dtype: float64,\n",
       " 868    0.070974\n",
       " Name: TRON, dtype: float64)"
      ]
     },
     "execution_count": 116,
     "metadata": {},
     "output_type": "execute_result"
    }
   ],
   "source": [
    "dataset['TRON'][dataset['Date']== '2022-01-01'], dataset['TRON'][dataset['Date']== '2022-05-18']"
   ]
  },
  {
   "cell_type": "code",
   "execution_count": 117,
   "metadata": {},
   "outputs": [
    {
     "data": {
      "text/plain": [
       "-7.504823915433062"
      ]
     },
     "execution_count": 117,
     "metadata": {},
     "output_type": "execute_result"
    }
   ],
   "source": [
    "np.log(0.071071/0.07661)*100"
   ]
  },
  {
   "cell_type": "code",
   "execution_count": 118,
   "metadata": {},
   "outputs": [
    {
     "data": {
      "text/plain": [
       "(731    0.849472\n",
       " Name: RIPLE, dtype: float64,\n",
       " 868    0.406166\n",
       " Name: RIPLE, dtype: float64)"
      ]
     },
     "execution_count": 118,
     "metadata": {},
     "output_type": "execute_result"
    }
   ],
   "source": [
    "dataset['RIPLE'][dataset['Date']== '2022-01-01'], dataset['RIPLE'][dataset['Date']== '2022-05-18']"
   ]
  },
  {
   "cell_type": "code",
   "execution_count": 119,
   "metadata": {},
   "outputs": [
    {
     "data": {
      "text/plain": [
       "-73.66350654678591"
      ]
     },
     "execution_count": 119,
     "metadata": {},
     "output_type": "execute_result"
    }
   ],
   "source": [
    "np.log(0.406661/0.849472)*100"
   ]
  },
  {
   "cell_type": "code",
   "execution_count": 120,
   "metadata": {},
   "outputs": [
    {
     "data": {
      "text/plain": [
       "(731    5.972598\n",
       " Name: SAND, dtype: float64,\n",
       " 868    1.192518\n",
       " Name: SAND, dtype: float64)"
      ]
     },
     "execution_count": 120,
     "metadata": {},
     "output_type": "execute_result"
    }
   ],
   "source": [
    "dataset['SAND'][dataset['Date']== '2022-01-01'], dataset['SAND'][dataset['Date']== '2022-05-18']"
   ]
  },
  {
   "cell_type": "code",
   "execution_count": 121,
   "metadata": {},
   "outputs": [
    {
     "data": {
      "text/plain": [
       "-161.0169520023596"
      ]
     },
     "execution_count": 121,
     "metadata": {},
     "output_type": "execute_result"
    }
   ],
   "source": [
    "np.log(1.193646/5.972598)*100"
   ]
  },
  {
   "cell_type": "code",
   "execution_count": 122,
   "metadata": {},
   "outputs": [
    {
     "data": {
      "text/plain": [
       "(731    2.574791\n",
       " Name: POLYGON, dtype: float64,\n",
       " 868    0.627577\n",
       " Name: POLYGON, dtype: float64)"
      ]
     },
     "execution_count": 122,
     "metadata": {},
     "output_type": "execute_result"
    }
   ],
   "source": [
    "dataset['POLYGON'][dataset['Date']== '2022-01-01'], dataset['POLYGON'][dataset['Date']== '2022-05-18']"
   ]
  },
  {
   "cell_type": "code",
   "execution_count": 123,
   "metadata": {},
   "outputs": [
    {
     "data": {
      "text/plain": [
       "-141.04836032453824"
      ]
     },
     "execution_count": 123,
     "metadata": {},
     "output_type": "execute_result"
    }
   ],
   "source": [
    "np.log(0.628314/2.574791)*100"
   ]
  },
  {
   "cell_type": "markdown",
   "metadata": {},
   "source": [
    "Variância"
   ]
  },
  {
   "cell_type": "code",
   "execution_count": 124,
   "metadata": {},
   "outputs": [],
   "source": [
    "#Taxas de retorno anuais\n",
    "taxas_mana=np.array([91.04,366.5,-116.8])"
   ]
  },
  {
   "cell_type": "code",
   "execution_count": 125,
   "metadata": {},
   "outputs": [
    {
     "data": {
      "text/plain": [
       "113.58"
      ]
     },
     "execution_count": 125,
     "metadata": {},
     "output_type": "execute_result"
    }
   ],
   "source": [
    "#Somatório das taxa de retorno anuais / Anos = MÉDIA\n",
    "media_mana= taxas_mana.sum()/len(taxas_mana)\n",
    "#média\n",
    "media_mana"
   ]
  },
  {
   "cell_type": "code",
   "execution_count": 126,
   "metadata": {},
   "outputs": [
    {
     "data": {
      "text/plain": [
       "113.58"
      ]
     },
     "execution_count": 126,
     "metadata": {},
     "output_type": "execute_result"
    }
   ],
   "source": [
    "#outra forma de cálcular a média\n",
    "media_mana= taxas_mana.mean()\n",
    "media_mana"
   ]
  },
  {
   "cell_type": "code",
   "execution_count": 127,
   "metadata": {},
   "outputs": [
    {
     "data": {
      "text/plain": [
       "39183.840800000005"
      ]
     },
     "execution_count": 127,
     "metadata": {},
     "output_type": "execute_result"
    }
   ],
   "source": [
    "#VARIÂNCIA\n",
    "#(taxas individuais- média)² = Resultados individuais: soma de todos resultados / anos\n",
    "#MANA\n",
    "variancia_mana=((taxas_mana - media_mana)**2).sum() / len(taxas_mana)\n",
    "variancia_mana"
   ]
  },
  {
   "cell_type": "code",
   "execution_count": 128,
   "metadata": {},
   "outputs": [
    {
     "data": {
      "text/plain": [
       "39183.840800000005"
      ]
     },
     "execution_count": 128,
     "metadata": {},
     "output_type": "execute_result"
    }
   ],
   "source": [
    "#outra forma de cálcular a Variância\n",
    "variancia_mana=taxas_mana.var()\n",
    "variancia_mana"
   ]
  },
  {
   "cell_type": "code",
   "execution_count": 129,
   "metadata": {},
   "outputs": [],
   "source": [
    "#POLKADOT\n",
    "taxas_dot=np.array([0,116.83,-109.89])"
   ]
  },
  {
   "cell_type": "code",
   "execution_count": 130,
   "metadata": {},
   "outputs": [
    {
     "data": {
      "text/plain": [
       "2.3133333333333326"
      ]
     },
     "execution_count": 130,
     "metadata": {},
     "output_type": "execute_result"
    }
   ],
   "source": [
    "media_dot= taxas_dot.sum()/len(taxas_dot)\n",
    "media_dot"
   ]
  },
  {
   "cell_type": "code",
   "execution_count": 131,
   "metadata": {},
   "outputs": [
    {
     "data": {
      "text/plain": [
       "8569.668822222222"
      ]
     },
     "execution_count": 131,
     "metadata": {},
     "output_type": "execute_result"
    }
   ],
   "source": [
    "variancia_dot=((taxas_dot-media_dot)**2).sum()/ len(taxas_dot)\n",
    "variancia_dot"
   ]
  },
  {
   "cell_type": "code",
   "execution_count": 132,
   "metadata": {},
   "outputs": [
    {
     "data": {
      "text/plain": [
       "(1.365990676130643, 103.95929324078087)"
      ]
     },
     "execution_count": 132,
     "metadata": {},
     "output_type": "execute_result"
    }
   ],
   "source": [
    "#comparando a Variância de + de 1 ativo nos últimos 30 dias\n",
    "dataset['MANA'].tail(365).var(), dataset['POLKADOT'].tail(365).var()"
   ]
  },
  {
   "cell_type": "code",
   "execution_count": 133,
   "metadata": {},
   "outputs": [
    {
     "data": {
      "text/plain": [
       "18229.12186666667"
      ]
     },
     "execution_count": 133,
     "metadata": {},
     "output_type": "execute_result"
    }
   ],
   "source": [
    "#CARDANO\n",
    "taxas_ada=np.array([169.03,201.11,-99.99])\n",
    "media_ada=taxas_ada.sum()/len(taxas_ada)\n",
    "variancia_ada=((taxas_ada-media_ada)**2).sum()/len(taxas_ada)\n",
    "variancia_ada"
   ]
  },
  {
   "cell_type": "code",
   "execution_count": 134,
   "metadata": {},
   "outputs": [
    {
     "data": {
      "text/plain": [
       "11590.102688888886"
      ]
     },
     "execution_count": 134,
     "metadata": {},
     "output_type": "execute_result"
    }
   ],
   "source": [
    "#TRON\n",
    "taxas_trx=np.array([-159.69,102.91,-7.50])\n",
    "media_trx=taxas_trx.sum()/len(taxas_trx)\n",
    "variancia_trx=((taxas_trx-media_trx)**2).sum()/len(taxas_trx)\n",
    "variancia_trx"
   ]
  },
  {
   "cell_type": "code",
   "execution_count": 135,
   "metadata": {},
   "outputs": [
    {
     "data": {
      "text/plain": [
       "6631.579355555555"
      ]
     },
     "execution_count": 135,
     "metadata": {},
     "output_type": "execute_result"
    }
   ],
   "source": [
    "#RIPLE\n",
    "taxas_xrp=np.array([13.19,125.28,-73.66])\n",
    "media_xrp=taxas_xrp.sum()/len(taxas_xrp)\n",
    "variancia_xrp=((taxas_xrp-media_xrp)**2).sum()/len(taxas_xrp)\n",
    "variancia_xrp"
   ]
  },
  {
   "cell_type": "code",
   "execution_count": 136,
   "metadata": {},
   "outputs": [
    {
     "data": {
      "text/plain": [
       "80818.0240888889"
      ]
     },
     "execution_count": 136,
     "metadata": {},
     "output_type": "execute_result"
    }
   ],
   "source": [
    "#SAND\n",
    "taxas_sand=np.array([0,506.22,-161])\n",
    "media_sand=taxas_sand.sum()/len(taxas_sand)\n",
    "variancia_sand=((taxas_sand-media_sand)**2).sum()/len(taxas_sand)\n",
    "variancia_sand"
   ]
  },
  {
   "cell_type": "code",
   "execution_count": 137,
   "metadata": {},
   "outputs": [
    {
     "data": {
      "text/plain": [
       "73274.68415555556"
      ]
     },
     "execution_count": 137,
     "metadata": {},
     "output_type": "execute_result"
    }
   ],
   "source": [
    "#POLYGON\n",
    "taxas_matic=np.array([16.42,495.49,-141.04])\n",
    "media_matic=taxas_matic.sum()/len(taxas_matic)\n",
    "variancia_matic=((taxas_matic-media_matic)**2).sum()/len(taxas_matic)\n",
    "variancia_matic"
   ]
  },
  {
   "cell_type": "code",
   "execution_count": 138,
   "metadata": {},
   "outputs": [
    {
     "data": {
      "text/plain": [
       "[39183.840800000005,\n",
       " 8569.668822222222,\n",
       " 18229.12186666667,\n",
       " 11590.102688888886,\n",
       " 6631.579355555555,\n",
       " 80818.0240888889,\n",
       " 73274.68415555556]"
      ]
     },
     "execution_count": 138,
     "metadata": {},
     "output_type": "execute_result"
    }
   ],
   "source": [
    "criptovariancia= ([variancia_mana,variancia_dot,variancia_ada,variancia_trx, variancia_xrp, variancia_sand,variancia_matic])\n",
    "criptovariancia"
   ]
  },
  {
   "cell_type": "code",
   "execution_count": 139,
   "metadata": {},
   "outputs": [
    {
     "ename": "NameError",
     "evalue": "name 'to_csv' is not defined",
     "output_type": "error",
     "traceback": [
      "\u001b[1;31m---------------------------------------------------------------------------\u001b[0m",
      "\u001b[1;31mNameError\u001b[0m                                 Traceback (most recent call last)",
      "\u001b[1;32mg:\\Meu Drive\\Projetos Pessoais\\Coincheck\\3-Cálculos de Risco\\Cálculos.ipynb Cell 68'\u001b[0m in \u001b[0;36m<cell line: 1>\u001b[1;34m()\u001b[0m\n\u001b[1;32m----> <a href='vscode-notebook-cell:/g%3A/Meu%20Drive/Projetos%20Pessoais/Coincheck/3-C%C3%A1lculos%20de%20Risco/C%C3%A1lculos.ipynb#ch0000067?line=0'>1</a>\u001b[0m criptovariancia\u001b[39m=\u001b[39mto_csv(\u001b[39m'\u001b[39m\u001b[39mcriptov.csv\u001b[39m\u001b[39m'\u001b[39m)\n",
      "\u001b[1;31mNameError\u001b[0m: name 'to_csv' is not defined"
     ]
    }
   ],
   "source": [
    "criptovariancia=to_csv('criptov.csv')\n",
    "    "
   ]
  },
  {
   "cell_type": "markdown",
   "metadata": {},
   "source": [
    "Desvio Padrão"
   ]
  },
  {
   "cell_type": "code",
   "execution_count": null,
   "metadata": {},
   "outputs": [
    {
     "data": {
      "text/plain": [
       "197.94908638334255"
      ]
     },
     "execution_count": 66,
     "metadata": {},
     "output_type": "execute_result"
    }
   ],
   "source": [
    "# Raiz quadrada da Variância= Desvio\n",
    "#DESVIO PADRÃO \n",
    "\n",
    "#MANA\n",
    "desvio_padrão_mana=math.sqrt(variancia_mana)\n",
    "desvio_padrão_mana"
   ]
  },
  {
   "cell_type": "code",
   "execution_count": null,
   "metadata": {},
   "outputs": [
    {
     "data": {
      "text/plain": [
       "197.94908638334255"
      ]
     },
     "execution_count": 74,
     "metadata": {},
     "output_type": "execute_result"
    }
   ],
   "source": [
    "#Outra forma de cálcular o Desvio:\n",
    "taxas_mana.std()"
   ]
  },
  {
   "cell_type": "code",
   "execution_count": null,
   "metadata": {},
   "outputs": [
    {
     "data": {
      "text/plain": [
       "92.5725057574992"
      ]
     },
     "execution_count": 67,
     "metadata": {},
     "output_type": "execute_result"
    }
   ],
   "source": [
    "#POLKADOT\n",
    "desvio_padrão_dot=math.sqrt(variancia_dot)\n",
    "desvio_padrão_dot"
   ]
  },
  {
   "cell_type": "code",
   "execution_count": null,
   "metadata": {},
   "outputs": [
    {
     "data": {
      "text/plain": [
       "135.01526530976662"
      ]
     },
     "execution_count": 68,
     "metadata": {},
     "output_type": "execute_result"
    }
   ],
   "source": [
    "#CARDANO\n",
    "desvio_padrão_ada=math.sqrt(variancia_ada)\n",
    "desvio_padrão_ada"
   ]
  },
  {
   "cell_type": "code",
   "execution_count": null,
   "metadata": {},
   "outputs": [
    {
     "data": {
      "text/plain": [
       "107.65733922445273"
      ]
     },
     "execution_count": 70,
     "metadata": {},
     "output_type": "execute_result"
    }
   ],
   "source": [
    "#TRON\n",
    "desvio_padrão_trx=math.sqrt(variancia_trx)\n",
    "desvio_padrão_trx"
   ]
  },
  {
   "cell_type": "code",
   "execution_count": null,
   "metadata": {},
   "outputs": [
    {
     "data": {
      "text/plain": [
       "81.43450961082503"
      ]
     },
     "execution_count": 71,
     "metadata": {},
     "output_type": "execute_result"
    }
   ],
   "source": [
    "#RIPLE\n",
    "desvio_padrão_xrp=math.sqrt(variancia_xrp)\n",
    "desvio_padrão_xrp"
   ]
  },
  {
   "cell_type": "code",
   "execution_count": null,
   "metadata": {},
   "outputs": [
    {
     "data": {
      "text/plain": [
       "284.28511056488503"
      ]
     },
     "execution_count": 72,
     "metadata": {},
     "output_type": "execute_result"
    }
   ],
   "source": [
    "#SAND\n",
    "desvio_padrão_sand=math.sqrt(variancia_sand)\n",
    "desvio_padrão_sand"
   ]
  },
  {
   "cell_type": "code",
   "execution_count": null,
   "metadata": {},
   "outputs": [
    {
     "data": {
      "text/plain": [
       "270.6929702736212"
      ]
     },
     "execution_count": 73,
     "metadata": {},
     "output_type": "execute_result"
    }
   ],
   "source": [
    "#POLYGON\n",
    "desvio_padrão_matic=math.sqrt(variancia_matic)\n",
    "desvio_padrão_matic"
   ]
  },
  {
   "cell_type": "code",
   "execution_count": 146,
   "metadata": {},
   "outputs": [
    {
     "data": {
      "text/plain": [
       "(0.8465828598040102,\n",
       " 7.318922114155149,\n",
       " 0.2742309623221608,\n",
       " 0.011294423754079942,\n",
       " 0.13289906974861482,\n",
       " 1.4489788859060277,\n",
       " 0.472840879087253,\n",
       " 6135.724674958078)"
      ]
     },
     "execution_count": 146,
     "metadata": {},
     "output_type": "execute_result"
    }
   ],
   "source": [
    "#Retorna a comparação da variação de volatilidade de preço em DÓLAR.\n",
    "\n",
    "dataset['MANA'].tail(180).std(), dataset['POLKADOT'].tail(180).std(), dataset['CARDANO'].tail(180).std(), dataset['TRON'].tail(180).std(), dataset['RIPLE'].tail(180).std(), dataset['SAND'].tail(180).std(), dataset['POLYGON'].tail(180).std(), dataset['BITCOIN'].tail(180).std()\n"
   ]
  },
  {
   "cell_type": "markdown",
   "metadata": {},
   "source": [
    "Coeficiente de Variação"
   ]
  },
  {
   "cell_type": "markdown",
   "metadata": {},
   "source": [
    "Cálculos com todos Ativos"
   ]
  },
  {
   "cell_type": "markdown",
   "metadata": {},
   "source": [
    "Correlação entre Ativos"
   ]
  },
  {
   "cell_type": "markdown",
   "metadata": {},
   "source": [
    "Risco de um Portfólio"
   ]
  }
 ],
 "metadata": {
  "interpreter": {
   "hash": "c6544b8a5a5c509948c8c7acacbaab8bffeb55b5d87ee0e971fd8561f4a6db8f"
  },
  "kernelspec": {
   "display_name": "Python 3.10.4 64-bit",
   "language": "python",
   "name": "python3"
  },
  "language_info": {
   "codemirror_mode": {
    "name": "ipython",
    "version": 3
   },
   "file_extension": ".py",
   "mimetype": "text/x-python",
   "name": "python",
   "nbconvert_exporter": "python",
   "pygments_lexer": "ipython3",
   "version": "3.10.4"
  },
  "orig_nbformat": 4
 },
 "nbformat": 4,
 "nbformat_minor": 2
}
