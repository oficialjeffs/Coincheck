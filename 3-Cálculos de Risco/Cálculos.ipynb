{
 "cells": [
  {
   "cell_type": "markdown",
   "metadata": {},
   "source": [
    "Pytho para finanças- Risco de ações"
   ]
  },
  {
   "cell_type": "markdown",
   "metadata": {},
   "source": [
    "#Importação de bibliotecas e base de dados"
   ]
  },
  {
   "cell_type": "code",
   "execution_count": 180,
   "metadata": {},
   "outputs": [],
   "source": [
    "import pandas as pd\n",
    "import numpy as np\n",
    "import math\n",
    "import matplotlib.pyplot as plt\n",
    "import seaborn as sns\n",
    "from scipy import stats"
   ]
  },
  {
   "cell_type": "code",
   "execution_count": 181,
   "metadata": {},
   "outputs": [
    {
     "data": {
      "text/html": [
       "<div>\n",
       "<style scoped>\n",
       "    .dataframe tbody tr th:only-of-type {\n",
       "        vertical-align: middle;\n",
       "    }\n",
       "\n",
       "    .dataframe tbody tr th {\n",
       "        vertical-align: top;\n",
       "    }\n",
       "\n",
       "    .dataframe thead th {\n",
       "        text-align: right;\n",
       "    }\n",
       "</style>\n",
       "<table border=\"1\" class=\"dataframe\">\n",
       "  <thead>\n",
       "    <tr style=\"text-align: right;\">\n",
       "      <th></th>\n",
       "      <th>Date</th>\n",
       "      <th>MANA</th>\n",
       "      <th>POLKADOT</th>\n",
       "      <th>CARDANO</th>\n",
       "      <th>TRON</th>\n",
       "      <th>RIPLE</th>\n",
       "      <th>SAND</th>\n",
       "      <th>POLYGON</th>\n",
       "      <th>BITCOIN</th>\n",
       "    </tr>\n",
       "  </thead>\n",
       "  <tbody>\n",
       "    <tr>\n",
       "      <th>0</th>\n",
       "      <td>2020-01-01</td>\n",
       "      <td>0.031483</td>\n",
       "      <td>NaN</td>\n",
       "      <td>0.033458</td>\n",
       "      <td>0.013250</td>\n",
       "      <td>0.192667</td>\n",
       "      <td>NaN</td>\n",
       "      <td>0.014962</td>\n",
       "      <td>7200.174316</td>\n",
       "    </tr>\n",
       "    <tr>\n",
       "      <th>1</th>\n",
       "      <td>2020-01-02</td>\n",
       "      <td>0.032639</td>\n",
       "      <td>NaN</td>\n",
       "      <td>0.032751</td>\n",
       "      <td>0.012870</td>\n",
       "      <td>0.188043</td>\n",
       "      <td>NaN</td>\n",
       "      <td>0.014651</td>\n",
       "      <td>6985.470215</td>\n",
       "    </tr>\n",
       "    <tr>\n",
       "      <th>2</th>\n",
       "      <td>2020-01-03</td>\n",
       "      <td>0.032805</td>\n",
       "      <td>NaN</td>\n",
       "      <td>0.034180</td>\n",
       "      <td>0.013435</td>\n",
       "      <td>0.193521</td>\n",
       "      <td>NaN</td>\n",
       "      <td>0.015194</td>\n",
       "      <td>7344.884277</td>\n",
       "    </tr>\n",
       "    <tr>\n",
       "      <th>3</th>\n",
       "      <td>2020-01-04</td>\n",
       "      <td>0.035837</td>\n",
       "      <td>NaN</td>\n",
       "      <td>0.034595</td>\n",
       "      <td>0.013521</td>\n",
       "      <td>0.194355</td>\n",
       "      <td>NaN</td>\n",
       "      <td>0.014961</td>\n",
       "      <td>7410.656738</td>\n",
       "    </tr>\n",
       "    <tr>\n",
       "      <th>4</th>\n",
       "      <td>2020-01-05</td>\n",
       "      <td>0.036459</td>\n",
       "      <td>NaN</td>\n",
       "      <td>0.034721</td>\n",
       "      <td>0.013623</td>\n",
       "      <td>0.195537</td>\n",
       "      <td>NaN</td>\n",
       "      <td>0.014914</td>\n",
       "      <td>7411.317383</td>\n",
       "    </tr>\n",
       "    <tr>\n",
       "      <th>...</th>\n",
       "      <td>...</td>\n",
       "      <td>...</td>\n",
       "      <td>...</td>\n",
       "      <td>...</td>\n",
       "      <td>...</td>\n",
       "      <td>...</td>\n",
       "      <td>...</td>\n",
       "      <td>...</td>\n",
       "      <td>...</td>\n",
       "    </tr>\n",
       "    <tr>\n",
       "      <th>864</th>\n",
       "      <td>2022-05-14</td>\n",
       "      <td>1.326140</td>\n",
       "      <td>NaN</td>\n",
       "      <td>0.539358</td>\n",
       "      <td>0.072501</td>\n",
       "      <td>0.427774</td>\n",
       "      <td>1.432852</td>\n",
       "      <td>0.686139</td>\n",
       "      <td>30101.265625</td>\n",
       "    </tr>\n",
       "    <tr>\n",
       "      <th>865</th>\n",
       "      <td>2022-05-15</td>\n",
       "      <td>1.330976</td>\n",
       "      <td>NaN</td>\n",
       "      <td>0.597500</td>\n",
       "      <td>0.072358</td>\n",
       "      <td>0.447371</td>\n",
       "      <td>1.448660</td>\n",
       "      <td>0.737566</td>\n",
       "      <td>31305.113281</td>\n",
       "    </tr>\n",
       "    <tr>\n",
       "      <th>866</th>\n",
       "      <td>2022-05-16</td>\n",
       "      <td>1.172838</td>\n",
       "      <td>NaN</td>\n",
       "      <td>0.556716</td>\n",
       "      <td>0.069088</td>\n",
       "      <td>0.422499</td>\n",
       "      <td>1.314255</td>\n",
       "      <td>0.677282</td>\n",
       "      <td>29862.917969</td>\n",
       "    </tr>\n",
       "    <tr>\n",
       "      <th>867</th>\n",
       "      <td>2022-05-17</td>\n",
       "      <td>1.213923</td>\n",
       "      <td>NaN</td>\n",
       "      <td>0.578077</td>\n",
       "      <td>0.072293</td>\n",
       "      <td>0.437623</td>\n",
       "      <td>1.371631</td>\n",
       "      <td>0.726942</td>\n",
       "      <td>30425.857422</td>\n",
       "    </tr>\n",
       "    <tr>\n",
       "      <th>868</th>\n",
       "      <td>2022-05-18</td>\n",
       "      <td>1.039548</td>\n",
       "      <td>9.524648</td>\n",
       "      <td>0.506569</td>\n",
       "      <td>0.071071</td>\n",
       "      <td>0.406661</td>\n",
       "      <td>1.193646</td>\n",
       "      <td>0.628314</td>\n",
       "      <td>28762.384766</td>\n",
       "    </tr>\n",
       "  </tbody>\n",
       "</table>\n",
       "<p>869 rows × 9 columns</p>\n",
       "</div>"
      ],
      "text/plain": [
       "           Date      MANA  POLKADOT   CARDANO      TRON     RIPLE      SAND  \\\n",
       "0    2020-01-01  0.031483       NaN  0.033458  0.013250  0.192667       NaN   \n",
       "1    2020-01-02  0.032639       NaN  0.032751  0.012870  0.188043       NaN   \n",
       "2    2020-01-03  0.032805       NaN  0.034180  0.013435  0.193521       NaN   \n",
       "3    2020-01-04  0.035837       NaN  0.034595  0.013521  0.194355       NaN   \n",
       "4    2020-01-05  0.036459       NaN  0.034721  0.013623  0.195537       NaN   \n",
       "..          ...       ...       ...       ...       ...       ...       ...   \n",
       "864  2022-05-14  1.326140       NaN  0.539358  0.072501  0.427774  1.432852   \n",
       "865  2022-05-15  1.330976       NaN  0.597500  0.072358  0.447371  1.448660   \n",
       "866  2022-05-16  1.172838       NaN  0.556716  0.069088  0.422499  1.314255   \n",
       "867  2022-05-17  1.213923       NaN  0.578077  0.072293  0.437623  1.371631   \n",
       "868  2022-05-18  1.039548  9.524648  0.506569  0.071071  0.406661  1.193646   \n",
       "\n",
       "      POLYGON       BITCOIN  \n",
       "0    0.014962   7200.174316  \n",
       "1    0.014651   6985.470215  \n",
       "2    0.015194   7344.884277  \n",
       "3    0.014961   7410.656738  \n",
       "4    0.014914   7411.317383  \n",
       "..        ...           ...  \n",
       "864  0.686139  30101.265625  \n",
       "865  0.737566  31305.113281  \n",
       "866  0.677282  29862.917969  \n",
       "867  0.726942  30425.857422  \n",
       "868  0.628314  28762.384766  \n",
       "\n",
       "[869 rows x 9 columns]"
      ]
     },
     "execution_count": 181,
     "metadata": {},
     "output_type": "execute_result"
    }
   ],
   "source": [
    "dataset= pd.read_csv('../1-Visualização de dados Financeiros/criptos.csv')\n",
    "dataset"
   ]
  },
  {
   "cell_type": "code",
   "execution_count": 182,
   "metadata": {},
   "outputs": [
    {
     "data": {
      "text/html": [
       "<div>\n",
       "<style scoped>\n",
       "    .dataframe tbody tr th:only-of-type {\n",
       "        vertical-align: middle;\n",
       "    }\n",
       "\n",
       "    .dataframe tbody tr th {\n",
       "        vertical-align: top;\n",
       "    }\n",
       "\n",
       "    .dataframe thead th {\n",
       "        text-align: right;\n",
       "    }\n",
       "</style>\n",
       "<table border=\"1\" class=\"dataframe\">\n",
       "  <thead>\n",
       "    <tr style=\"text-align: right;\">\n",
       "      <th></th>\n",
       "      <th>MANA</th>\n",
       "      <th>POLKADOT</th>\n",
       "      <th>CARDANO</th>\n",
       "      <th>TRON</th>\n",
       "      <th>RIPLE</th>\n",
       "      <th>SAND</th>\n",
       "      <th>POLYGON</th>\n",
       "      <th>BITCOIN</th>\n",
       "    </tr>\n",
       "  </thead>\n",
       "  <tbody>\n",
       "    <tr>\n",
       "      <th>count</th>\n",
       "      <td>869.000000</td>\n",
       "      <td>555.000000</td>\n",
       "      <td>869.000000</td>\n",
       "      <td>869.000000</td>\n",
       "      <td>869.000000</td>\n",
       "      <td>643.000000</td>\n",
       "      <td>869.000000</td>\n",
       "      <td>869.000000</td>\n",
       "    </tr>\n",
       "    <tr>\n",
       "      <th>mean</th>\n",
       "      <td>0.913446</td>\n",
       "      <td>22.224025</td>\n",
       "      <td>0.823689</td>\n",
       "      <td>0.052862</td>\n",
       "      <td>0.587833</td>\n",
       "      <td>1.413970</td>\n",
       "      <td>0.705791</td>\n",
       "      <td>30999.632942</td>\n",
       "    </tr>\n",
       "    <tr>\n",
       "      <th>std</th>\n",
       "      <td>1.143961</td>\n",
       "      <td>13.405064</td>\n",
       "      <td>0.769683</td>\n",
       "      <td>0.034089</td>\n",
       "      <td>0.373131</td>\n",
       "      <td>1.783071</td>\n",
       "      <td>0.776724</td>\n",
       "      <td>18563.375191</td>\n",
       "    </tr>\n",
       "    <tr>\n",
       "      <th>min</th>\n",
       "      <td>0.018649</td>\n",
       "      <td>2.875028</td>\n",
       "      <td>0.023961</td>\n",
       "      <td>0.008792</td>\n",
       "      <td>0.139635</td>\n",
       "      <td>0.030821</td>\n",
       "      <td>0.008096</td>\n",
       "      <td>4970.788086</td>\n",
       "    </tr>\n",
       "    <tr>\n",
       "      <th>25%</th>\n",
       "      <td>0.062873</td>\n",
       "      <td>9.306091</td>\n",
       "      <td>0.096989</td>\n",
       "      <td>0.022464</td>\n",
       "      <td>0.242295</td>\n",
       "      <td>0.082058</td>\n",
       "      <td>0.019829</td>\n",
       "      <td>10400.915039</td>\n",
       "    </tr>\n",
       "    <tr>\n",
       "      <th>50%</th>\n",
       "      <td>0.468862</td>\n",
       "      <td>21.626959</td>\n",
       "      <td>0.827645</td>\n",
       "      <td>0.053449</td>\n",
       "      <td>0.550443</td>\n",
       "      <td>0.613217</td>\n",
       "      <td>0.298981</td>\n",
       "      <td>35501.953125</td>\n",
       "    </tr>\n",
       "    <tr>\n",
       "      <th>75%</th>\n",
       "      <td>1.249881</td>\n",
       "      <td>33.656902</td>\n",
       "      <td>1.325436</td>\n",
       "      <td>0.075156</td>\n",
       "      <td>0.832885</td>\n",
       "      <td>2.730363</td>\n",
       "      <td>1.435702</td>\n",
       "      <td>46458.117188</td>\n",
       "    </tr>\n",
       "    <tr>\n",
       "      <th>max</th>\n",
       "      <td>5.479181</td>\n",
       "      <td>53.881733</td>\n",
       "      <td>2.968239</td>\n",
       "      <td>0.164650</td>\n",
       "      <td>1.839236</td>\n",
       "      <td>8.402190</td>\n",
       "      <td>2.876757</td>\n",
       "      <td>67566.828125</td>\n",
       "    </tr>\n",
       "  </tbody>\n",
       "</table>\n",
       "</div>"
      ],
      "text/plain": [
       "             MANA    POLKADOT     CARDANO        TRON       RIPLE        SAND  \\\n",
       "count  869.000000  555.000000  869.000000  869.000000  869.000000  643.000000   \n",
       "mean     0.913446   22.224025    0.823689    0.052862    0.587833    1.413970   \n",
       "std      1.143961   13.405064    0.769683    0.034089    0.373131    1.783071   \n",
       "min      0.018649    2.875028    0.023961    0.008792    0.139635    0.030821   \n",
       "25%      0.062873    9.306091    0.096989    0.022464    0.242295    0.082058   \n",
       "50%      0.468862   21.626959    0.827645    0.053449    0.550443    0.613217   \n",
       "75%      1.249881   33.656902    1.325436    0.075156    0.832885    2.730363   \n",
       "max      5.479181   53.881733    2.968239    0.164650    1.839236    8.402190   \n",
       "\n",
       "          POLYGON       BITCOIN  \n",
       "count  869.000000    869.000000  \n",
       "mean     0.705791  30999.632942  \n",
       "std      0.776724  18563.375191  \n",
       "min      0.008096   4970.788086  \n",
       "25%      0.019829  10400.915039  \n",
       "50%      0.298981  35501.953125  \n",
       "75%      1.435702  46458.117188  \n",
       "max      2.876757  67566.828125  "
      ]
     },
     "execution_count": 182,
     "metadata": {},
     "output_type": "execute_result"
    }
   ],
   "source": [
    "dataset.describe()"
   ]
  },
  {
   "cell_type": "markdown",
   "metadata": {},
   "source": [
    "Cálculos de Retornos Anuais"
   ]
  },
  {
   "cell_type": "markdown",
   "metadata": {},
   "source": [
    "2020"
   ]
  },
  {
   "cell_type": "code",
   "execution_count": 183,
   "metadata": {},
   "outputs": [
    {
     "data": {
      "text/plain": [
       "(0    0.031483\n",
       " Name: MANA, dtype: float64,\n",
       " 365    0.078251\n",
       " Name: MANA, dtype: float64)"
      ]
     },
     "execution_count": 183,
     "metadata": {},
     "output_type": "execute_result"
    }
   ],
   "source": [
    "dataset['MANA'][dataset['Date']== '2020-01-01'], dataset['MANA'][dataset['Date']== '2020-12-31']"
   ]
  },
  {
   "cell_type": "code",
   "execution_count": 184,
   "metadata": {},
   "outputs": [
    {
     "data": {
      "text/plain": [
       "91.04738912804542"
      ]
     },
     "execution_count": 184,
     "metadata": {},
     "output_type": "execute_result"
    }
   ],
   "source": [
    "np.log(0.078251/0.031483)*100"
   ]
  },
  {
   "cell_type": "code",
   "execution_count": 185,
   "metadata": {},
   "outputs": [
    {
     "data": {
      "text/plain": [
       "(0   NaN\n",
       " Name: POLKADOT, dtype: float64,\n",
       " 365    9.292508\n",
       " Name: POLKADOT, dtype: float64)"
      ]
     },
     "execution_count": 185,
     "metadata": {},
     "output_type": "execute_result"
    }
   ],
   "source": [
    "dataset['POLKADOT'][dataset['Date']== '2020-01-01'], dataset['POLKADOT'][dataset['Date']== '2020-12-31']"
   ]
  },
  {
   "cell_type": "code",
   "execution_count": 186,
   "metadata": {},
   "outputs": [],
   "source": [
    "#np.log(9.292508/NaN)*100"
   ]
  },
  {
   "cell_type": "code",
   "execution_count": 187,
   "metadata": {},
   "outputs": [
    {
     "data": {
      "text/plain": [
       "(0    0.033458\n",
       " Name: CARDANO, dtype: float64,\n",
       " 365    0.181397\n",
       " Name: CARDANO, dtype: float64)"
      ]
     },
     "execution_count": 187,
     "metadata": {},
     "output_type": "execute_result"
    }
   ],
   "source": [
    "dataset['CARDANO'][dataset['Date']== '2020-01-01'], dataset['CARDANO'][dataset['Date']== '2020-12-31']"
   ]
  },
  {
   "cell_type": "code",
   "execution_count": 188,
   "metadata": {},
   "outputs": [
    {
     "data": {
      "text/plain": [
       "169.0397078597706"
      ]
     },
     "execution_count": 188,
     "metadata": {},
     "output_type": "execute_result"
    }
   ],
   "source": [
    "np.log(0.181397/0.033458)*100"
   ]
  },
  {
   "cell_type": "code",
   "execution_count": 189,
   "metadata": {},
   "outputs": [
    {
     "data": {
      "text/plain": [
       "(0    0.01325\n",
       " Name: TRON, dtype: float64,\n",
       " 365    0.026833\n",
       " Name: TRON, dtype: float64)"
      ]
     },
     "execution_count": 189,
     "metadata": {},
     "output_type": "execute_result"
    }
   ],
   "source": [
    "dataset['TRON'][dataset['Date']== '2020-01-01'], dataset['TRON'][dataset['Date']== '2020-12-31']"
   ]
  },
  {
   "cell_type": "code",
   "execution_count": 190,
   "metadata": {},
   "outputs": [
    {
     "data": {
      "text/plain": [
       "-159.69501721072757"
      ]
     },
     "execution_count": 190,
     "metadata": {},
     "output_type": "execute_result"
    }
   ],
   "source": [
    "np.log(0.026833/0.1325)*100"
   ]
  },
  {
   "cell_type": "code",
   "execution_count": 191,
   "metadata": {},
   "outputs": [
    {
     "data": {
      "text/plain": [
       "(0    0.192667\n",
       " Name: RIPLE, dtype: float64,\n",
       " 365    0.219846\n",
       " Name: RIPLE, dtype: float64)"
      ]
     },
     "execution_count": 191,
     "metadata": {},
     "output_type": "execute_result"
    }
   ],
   "source": [
    "dataset['RIPLE'][dataset['Date']== '2020-01-01'], dataset['RIPLE'][dataset['Date']== '2020-12-31']"
   ]
  },
  {
   "cell_type": "code",
   "execution_count": 192,
   "metadata": {},
   "outputs": [
    {
     "data": {
      "text/plain": [
       "13.196399113139073"
      ]
     },
     "execution_count": 192,
     "metadata": {},
     "output_type": "execute_result"
    }
   ],
   "source": [
    "np.log(0.219846/0.192667)*100"
   ]
  },
  {
   "cell_type": "code",
   "execution_count": 193,
   "metadata": {},
   "outputs": [
    {
     "data": {
      "text/plain": [
       "(0   NaN\n",
       " Name: SAND, dtype: float64,\n",
       " 365    0.035653\n",
       " Name: SAND, dtype: float64)"
      ]
     },
     "execution_count": 193,
     "metadata": {},
     "output_type": "execute_result"
    }
   ],
   "source": [
    "dataset['SAND'][dataset['Date']== '2020-01-01'], dataset['SAND'][dataset['Date']== '2020-12-31']"
   ]
  },
  {
   "cell_type": "code",
   "execution_count": 194,
   "metadata": {},
   "outputs": [],
   "source": [
    "#np.log(0.035653/NaN)*100"
   ]
  },
  {
   "cell_type": "code",
   "execution_count": 195,
   "metadata": {},
   "outputs": [
    {
     "data": {
      "text/plain": [
       "(0    0.014962\n",
       " Name: POLYGON, dtype: float64,\n",
       " 365    0.017633\n",
       " Name: POLYGON, dtype: float64)"
      ]
     },
     "execution_count": 195,
     "metadata": {},
     "output_type": "execute_result"
    }
   ],
   "source": [
    "dataset['POLYGON'][dataset['Date']== '2020-01-01'], dataset['POLYGON'][dataset['Date']== '2020-12-31']"
   ]
  },
  {
   "cell_type": "code",
   "execution_count": 196,
   "metadata": {},
   "outputs": [
    {
     "data": {
      "text/plain": [
       "16.425849297557335"
      ]
     },
     "execution_count": 196,
     "metadata": {},
     "output_type": "execute_result"
    }
   ],
   "source": [
    "np.log(0.017633/0.014962)*100"
   ]
  },
  {
   "cell_type": "markdown",
   "metadata": {},
   "source": [
    "2021\n"
   ]
  },
  {
   "cell_type": "code",
   "execution_count": 197,
   "metadata": {},
   "outputs": [
    {
     "data": {
      "text/plain": [
       "(366    0.083738\n",
       " Name: MANA, dtype: float64,\n",
       " 730    3.270671\n",
       " Name: MANA, dtype: float64)"
      ]
     },
     "execution_count": 197,
     "metadata": {},
     "output_type": "execute_result"
    }
   ],
   "source": [
    "dataset['MANA'][dataset['Date']== '2021-01-01'], dataset['MANA'][dataset['Date']== '2021-12-31']"
   ]
  },
  {
   "cell_type": "code",
   "execution_count": 198,
   "metadata": {},
   "outputs": [
    {
     "data": {
      "text/plain": [
       "366.50575647606547"
      ]
     },
     "execution_count": 198,
     "metadata": {},
     "output_type": "execute_result"
    }
   ],
   "source": [
    "np.log(3.270671/0.083738)*100"
   ]
  },
  {
   "cell_type": "code",
   "execution_count": 199,
   "metadata": {},
   "outputs": [
    {
     "data": {
      "text/plain": [
       "(366    8.306819\n",
       " Name: POLKADOT, dtype: float64,\n",
       " 730    26.719675\n",
       " Name: POLKADOT, dtype: float64)"
      ]
     },
     "execution_count": 199,
     "metadata": {},
     "output_type": "execute_result"
    }
   ],
   "source": [
    "dataset['POLKADOT'][dataset['Date']== '2021-01-01'], dataset['POLKADOT'][dataset['Date']== '2021-12-31']"
   ]
  },
  {
   "cell_type": "code",
   "execution_count": 200,
   "metadata": {},
   "outputs": [
    {
     "data": {
      "text/plain": [
       "116.8323441654041"
      ]
     },
     "execution_count": 200,
     "metadata": {},
     "output_type": "execute_result"
    }
   ],
   "source": [
    "np.log(26.719675/8.306819)*100"
   ]
  },
  {
   "cell_type": "code",
   "execution_count": 201,
   "metadata": {},
   "outputs": [
    {
     "data": {
      "text/plain": [
       "(366    0.17535\n",
       " Name: CARDANO, dtype: float64,\n",
       " 730    1.310209\n",
       " Name: CARDANO, dtype: float64)"
      ]
     },
     "execution_count": 201,
     "metadata": {},
     "output_type": "execute_result"
    }
   ],
   "source": [
    "dataset['CARDANO'][dataset['Date']== '2021-01-01'], dataset['CARDANO'][dataset['Date']== '2021-12-31']"
   ]
  },
  {
   "cell_type": "code",
   "execution_count": 202,
   "metadata": {},
   "outputs": [
    {
     "data": {
      "text/plain": [
       "201.11579688682738"
      ]
     },
     "execution_count": 202,
     "metadata": {},
     "output_type": "execute_result"
    }
   ],
   "source": [
    "np.log(1.310209/0.17535)*100"
   ]
  },
  {
   "cell_type": "code",
   "execution_count": 203,
   "metadata": {},
   "outputs": [
    {
     "data": {
      "text/plain": [
       "(366    0.02694\n",
       " Name: TRON, dtype: float64,\n",
       " 730    0.075397\n",
       " Name: TRON, dtype: float64)"
      ]
     },
     "execution_count": 203,
     "metadata": {},
     "output_type": "execute_result"
    }
   ],
   "source": [
    "dataset['TRON'][dataset['Date']== '2021-01-01'], dataset['TRON'][dataset['Date']== '2021-12-31']"
   ]
  },
  {
   "cell_type": "code",
   "execution_count": 204,
   "metadata": {},
   "outputs": [
    {
     "data": {
      "text/plain": [
       "102.91553154417285"
      ]
     },
     "execution_count": 204,
     "metadata": {},
     "output_type": "execute_result"
    }
   ],
   "source": [
    "np.log(0.075397/0.02694)*100"
   ]
  },
  {
   "cell_type": "code",
   "execution_count": 205,
   "metadata": {},
   "outputs": [
    {
     "data": {
      "text/plain": [
       "(366    0.237444\n",
       " Name: RIPLE, dtype: float64,\n",
       " 730    0.831163\n",
       " Name: RIPLE, dtype: float64)"
      ]
     },
     "execution_count": 205,
     "metadata": {},
     "output_type": "execute_result"
    }
   ],
   "source": [
    "dataset['RIPLE'][dataset['Date']== '2021-01-01'], dataset['RIPLE'][dataset['Date']== '2021-12-31']"
   ]
  },
  {
   "cell_type": "code",
   "execution_count": 206,
   "metadata": {},
   "outputs": [
    {
     "data": {
      "text/plain": [
       "125.28941186402123"
      ]
     },
     "execution_count": 206,
     "metadata": {},
     "output_type": "execute_result"
    }
   ],
   "source": [
    "np.log(0.831163/0.237444)*100"
   ]
  },
  {
   "cell_type": "code",
   "execution_count": 207,
   "metadata": {},
   "outputs": [
    {
     "data": {
      "text/plain": [
       "(366    0.037023\n",
       " Name: SAND, dtype: float64,\n",
       " 730    5.84771\n",
       " Name: SAND, dtype: float64)"
      ]
     },
     "execution_count": 207,
     "metadata": {},
     "output_type": "execute_result"
    }
   ],
   "source": [
    "dataset['SAND'][dataset['Date']== '2021-01-01'], dataset['SAND'][dataset['Date']== '2021-12-31']"
   ]
  },
  {
   "cell_type": "code",
   "execution_count": 208,
   "metadata": {},
   "outputs": [
    {
     "data": {
      "text/plain": [
       "506.22660694575694"
      ]
     },
     "execution_count": 208,
     "metadata": {},
     "output_type": "execute_result"
    }
   ],
   "source": [
    "np.log(5.84771/0.037023)*100"
   ]
  },
  {
   "cell_type": "code",
   "execution_count": 209,
   "metadata": {},
   "outputs": [
    {
     "data": {
      "text/plain": [
       "(366    0.017812\n",
       " Name: POLYGON, dtype: float64,\n",
       " 730    2.527107\n",
       " Name: POLYGON, dtype: float64)"
      ]
     },
     "execution_count": 209,
     "metadata": {},
     "output_type": "execute_result"
    }
   ],
   "source": [
    "dataset['POLYGON'][dataset['Date']== '2021-01-01'], dataset['POLYGON'][dataset['Date']== '2021-12-31']"
   ]
  },
  {
   "cell_type": "code",
   "execution_count": 210,
   "metadata": {},
   "outputs": [
    {
     "data": {
      "text/plain": [
       "495.49580617311636"
      ]
     },
     "execution_count": 210,
     "metadata": {},
     "output_type": "execute_result"
    }
   ],
   "source": [
    "np.log(2.527107/0.017812)*100"
   ]
  },
  {
   "cell_type": "markdown",
   "metadata": {},
   "source": [
    "2022"
   ]
  },
  {
   "cell_type": "code",
   "execution_count": 211,
   "metadata": {},
   "outputs": [
    {
     "data": {
      "text/plain": [
       "(731    3.345399\n",
       " Name: MANA, dtype: float64,\n",
       " 868    1.039548\n",
       " Name: MANA, dtype: float64)"
      ]
     },
     "execution_count": 211,
     "metadata": {},
     "output_type": "execute_result"
    }
   ],
   "source": [
    "dataset['MANA'][dataset['Date']== '2022-01-01'], dataset['MANA'][dataset['Date']== '2022-05-18']"
   ]
  },
  {
   "cell_type": "code",
   "execution_count": 212,
   "metadata": {},
   "outputs": [
    {
     "data": {
      "text/plain": [
       "-116.87999656817836"
      ]
     },
     "execution_count": 212,
     "metadata": {},
     "output_type": "execute_result"
    }
   ],
   "source": [
    "np.log(1.039548/3.345399)*100"
   ]
  },
  {
   "cell_type": "code",
   "execution_count": 213,
   "metadata": {},
   "outputs": [
    {
     "data": {
      "text/plain": [
       "(731    28.583582\n",
       " Name: POLKADOT, dtype: float64,\n",
       " 868    9.524648\n",
       " Name: POLKADOT, dtype: float64)"
      ]
     },
     "execution_count": 213,
     "metadata": {},
     "output_type": "execute_result"
    }
   ],
   "source": [
    "dataset['POLKADOT'][dataset['Date']== '2022-01-01'], dataset['POLKADOT'][dataset['Date']== '2022-05-18']"
   ]
  },
  {
   "cell_type": "code",
   "execution_count": 214,
   "metadata": {},
   "outputs": [
    {
     "data": {
      "text/plain": [
       "-109.8949532099232"
      ]
     },
     "execution_count": 214,
     "metadata": {},
     "output_type": "execute_result"
    }
   ],
   "source": [
    "np.log(9.524648/28.583582)*100"
   ]
  },
  {
   "cell_type": "code",
   "execution_count": 215,
   "metadata": {},
   "outputs": [
    {
     "data": {
      "text/plain": [
       "(731    1.376975\n",
       " Name: CARDANO, dtype: float64,\n",
       " 868    0.506569\n",
       " Name: CARDANO, dtype: float64)"
      ]
     },
     "execution_count": 215,
     "metadata": {},
     "output_type": "execute_result"
    }
   ],
   "source": [
    "dataset['CARDANO'][dataset['Date']== '2022-01-01'], dataset['CARDANO'][dataset['Date']== '2022-05-18']"
   ]
  },
  {
   "cell_type": "code",
   "execution_count": 216,
   "metadata": {},
   "outputs": [
    {
     "data": {
      "text/plain": [
       "-99.99837997204187"
      ]
     },
     "execution_count": 216,
     "metadata": {},
     "output_type": "execute_result"
    }
   ],
   "source": [
    "np.log(0.506569/1.376975)*100"
   ]
  },
  {
   "cell_type": "code",
   "execution_count": 217,
   "metadata": {},
   "outputs": [
    {
     "data": {
      "text/plain": [
       "(731    0.07661\n",
       " Name: TRON, dtype: float64,\n",
       " 868    0.071071\n",
       " Name: TRON, dtype: float64)"
      ]
     },
     "execution_count": 217,
     "metadata": {},
     "output_type": "execute_result"
    }
   ],
   "source": [
    "dataset['TRON'][dataset['Date']== '2022-01-01'], dataset['TRON'][dataset['Date']== '2022-05-18']"
   ]
  },
  {
   "cell_type": "code",
   "execution_count": 218,
   "metadata": {},
   "outputs": [
    {
     "data": {
      "text/plain": [
       "-7.504823915433062"
      ]
     },
     "execution_count": 218,
     "metadata": {},
     "output_type": "execute_result"
    }
   ],
   "source": [
    "np.log(0.071071/0.07661)*100"
   ]
  },
  {
   "cell_type": "code",
   "execution_count": 219,
   "metadata": {},
   "outputs": [
    {
     "data": {
      "text/plain": [
       "(731    0.849472\n",
       " Name: RIPLE, dtype: float64,\n",
       " 868    0.406661\n",
       " Name: RIPLE, dtype: float64)"
      ]
     },
     "execution_count": 219,
     "metadata": {},
     "output_type": "execute_result"
    }
   ],
   "source": [
    "dataset['RIPLE'][dataset['Date']== '2022-01-01'], dataset['RIPLE'][dataset['Date']== '2022-05-18']"
   ]
  },
  {
   "cell_type": "code",
   "execution_count": 220,
   "metadata": {},
   "outputs": [
    {
     "data": {
      "text/plain": [
       "-73.66350654678591"
      ]
     },
     "execution_count": 220,
     "metadata": {},
     "output_type": "execute_result"
    }
   ],
   "source": [
    "np.log(0.406661/0.849472)*100"
   ]
  },
  {
   "cell_type": "code",
   "execution_count": 221,
   "metadata": {},
   "outputs": [
    {
     "data": {
      "text/plain": [
       "(731    5.972598\n",
       " Name: SAND, dtype: float64,\n",
       " 868    1.193646\n",
       " Name: SAND, dtype: float64)"
      ]
     },
     "execution_count": 221,
     "metadata": {},
     "output_type": "execute_result"
    }
   ],
   "source": [
    "dataset['SAND'][dataset['Date']== '2022-01-01'], dataset['SAND'][dataset['Date']== '2022-05-18']"
   ]
  },
  {
   "cell_type": "code",
   "execution_count": 222,
   "metadata": {},
   "outputs": [
    {
     "data": {
      "text/plain": [
       "-161.0169520023596"
      ]
     },
     "execution_count": 222,
     "metadata": {},
     "output_type": "execute_result"
    }
   ],
   "source": [
    "np.log(1.193646/5.972598)*100"
   ]
  },
  {
   "cell_type": "code",
   "execution_count": 223,
   "metadata": {},
   "outputs": [
    {
     "data": {
      "text/plain": [
       "(731    2.574791\n",
       " Name: POLYGON, dtype: float64,\n",
       " 868    0.628314\n",
       " Name: POLYGON, dtype: float64)"
      ]
     },
     "execution_count": 223,
     "metadata": {},
     "output_type": "execute_result"
    }
   ],
   "source": [
    "dataset['POLYGON'][dataset['Date']== '2022-01-01'], dataset['POLYGON'][dataset['Date']== '2022-05-18']"
   ]
  },
  {
   "cell_type": "code",
   "execution_count": 224,
   "metadata": {},
   "outputs": [
    {
     "data": {
      "text/plain": [
       "-141.04836032453824"
      ]
     },
     "execution_count": 224,
     "metadata": {},
     "output_type": "execute_result"
    }
   ],
   "source": [
    "np.log(0.628314/2.574791)*100"
   ]
  },
  {
   "cell_type": "markdown",
   "metadata": {},
   "source": [
    "Variância"
   ]
  },
  {
   "cell_type": "code",
   "execution_count": 225,
   "metadata": {},
   "outputs": [],
   "source": [
    "#Taxas de retorno anuais\n",
    "taxas_mana=np.array([91.04,366.5,-116.8])"
   ]
  },
  {
   "cell_type": "code",
   "execution_count": 226,
   "metadata": {},
   "outputs": [
    {
     "data": {
      "text/plain": [
       "113.58"
      ]
     },
     "execution_count": 226,
     "metadata": {},
     "output_type": "execute_result"
    }
   ],
   "source": [
    "#Somatório das taxa de retorno anuais / Anos = MÉDIA\n",
    "media_mana= taxas_mana.sum()/len(taxas_mana)\n",
    "#média\n",
    "media_mana"
   ]
  },
  {
   "cell_type": "code",
   "execution_count": 227,
   "metadata": {},
   "outputs": [
    {
     "data": {
      "text/plain": [
       "113.58"
      ]
     },
     "execution_count": 227,
     "metadata": {},
     "output_type": "execute_result"
    }
   ],
   "source": [
    "#outra forma de cálcular a média\n",
    "media_mana= taxas_mana.mean()\n",
    "media_mana"
   ]
  },
  {
   "cell_type": "code",
   "execution_count": 228,
   "metadata": {},
   "outputs": [
    {
     "data": {
      "text/plain": [
       "39183.840800000005"
      ]
     },
     "execution_count": 228,
     "metadata": {},
     "output_type": "execute_result"
    }
   ],
   "source": [
    "#VARIÂNCIA\n",
    "#(taxas individuais- média)² = Resultados individuais: soma de todos resultados / anos\n",
    "((taxas_mana - media_mana)**2).sum() / len(taxas_mana)"
   ]
  },
  {
   "cell_type": "code",
   "execution_count": 229,
   "metadata": {},
   "outputs": [
    {
     "data": {
      "text/plain": [
       "39183.840800000005"
      ]
     },
     "execution_count": 229,
     "metadata": {},
     "output_type": "execute_result"
    }
   ],
   "source": [
    "#outra forma de cálcular a Variância\n",
    "variancia_mana=taxas_mana.var()\n",
    "variancia_mana"
   ]
  },
  {
   "cell_type": "code",
   "execution_count": 230,
   "metadata": {},
   "outputs": [],
   "source": [
    "taxas_dot=np.array([0,116.83,-109.89])"
   ]
  },
  {
   "cell_type": "code",
   "execution_count": 231,
   "metadata": {},
   "outputs": [
    {
     "data": {
      "text/plain": [
       "2.3133333333333326"
      ]
     },
     "execution_count": 231,
     "metadata": {},
     "output_type": "execute_result"
    }
   ],
   "source": [
    "media_dot= taxas_dot.sum()/len(taxas_dot)\n",
    "media_dot"
   ]
  },
  {
   "cell_type": "code",
   "execution_count": 232,
   "metadata": {},
   "outputs": [
    {
     "data": {
      "text/plain": [
       "8569.668822222222"
      ]
     },
     "execution_count": 232,
     "metadata": {},
     "output_type": "execute_result"
    }
   ],
   "source": [
    "((taxas_dot-media_dot)**2).sum()/ len(taxas_dot)"
   ]
  },
  {
   "cell_type": "code",
   "execution_count": 241,
   "metadata": {},
   "outputs": [
    {
     "data": {
      "text/plain": [
       "(1.3682658503247258, 103.2728190564989)"
      ]
     },
     "execution_count": 241,
     "metadata": {},
     "output_type": "execute_result"
    }
   ],
   "source": [
    "#comparando a Variância de + de 1 ativo nos últimos 30 dias\n",
    "dataset['MANA'].tail(365).var(), dataset['POLKADOT'].tail(365).var()"
   ]
  },
  {
   "cell_type": "markdown",
   "metadata": {},
   "source": [
    "Desvio Padrão"
   ]
  },
  {
   "cell_type": "markdown",
   "metadata": {},
   "source": [
    "Coeficiente de Variação"
   ]
  },
  {
   "cell_type": "markdown",
   "metadata": {},
   "source": [
    "Cálculos com todos Ativos"
   ]
  },
  {
   "cell_type": "markdown",
   "metadata": {},
   "source": [
    "Correlação entre Ativos"
   ]
  },
  {
   "cell_type": "markdown",
   "metadata": {},
   "source": [
    "Risco de um Portfólio"
   ]
  }
 ],
 "metadata": {
  "interpreter": {
   "hash": "c6544b8a5a5c509948c8c7acacbaab8bffeb55b5d87ee0e971fd8561f4a6db8f"
  },
  "kernelspec": {
   "display_name": "Python 3.10.4 64-bit",
   "language": "python",
   "name": "python3"
  },
  "language_info": {
   "codemirror_mode": {
    "name": "ipython",
    "version": 3
   },
   "file_extension": ".py",
   "mimetype": "text/x-python",
   "name": "python",
   "nbconvert_exporter": "python",
   "pygments_lexer": "ipython3",
   "version": "3.10.4"
  },
  "orig_nbformat": 4
 },
 "nbformat": 4,
 "nbformat_minor": 2
}
