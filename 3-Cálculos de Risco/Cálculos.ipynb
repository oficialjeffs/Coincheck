{
 "cells": [
  {
   "cell_type": "markdown",
   "metadata": {},
   "source": [
    "Pytho para finanças- Risco de ações"
   ]
  },
  {
   "cell_type": "markdown",
   "metadata": {},
   "source": [
    "#Importação de bibliotecas e base de dados"
   ]
  },
  {
   "cell_type": "code",
   "execution_count": 1,
   "metadata": {},
   "outputs": [],
   "source": [
    "import pandas as pd\n",
    "import numpy as np\n",
    "import math\n",
    "import matplotlib.pyplot as plt\n",
    "import seaborn as sns\n",
    "from scipy import stats"
   ]
  },
  {
   "cell_type": "code",
   "execution_count": 2,
   "metadata": {},
   "outputs": [
    {
     "data": {
      "text/html": [
       "<div>\n",
       "<style scoped>\n",
       "    .dataframe tbody tr th:only-of-type {\n",
       "        vertical-align: middle;\n",
       "    }\n",
       "\n",
       "    .dataframe tbody tr th {\n",
       "        vertical-align: top;\n",
       "    }\n",
       "\n",
       "    .dataframe thead th {\n",
       "        text-align: right;\n",
       "    }\n",
       "</style>\n",
       "<table border=\"1\" class=\"dataframe\">\n",
       "  <thead>\n",
       "    <tr style=\"text-align: right;\">\n",
       "      <th></th>\n",
       "      <th>Date</th>\n",
       "      <th>MANA</th>\n",
       "      <th>POLKADOT</th>\n",
       "      <th>CARDANO</th>\n",
       "      <th>TRON</th>\n",
       "      <th>RIPLE</th>\n",
       "      <th>SAND</th>\n",
       "      <th>POLYGON</th>\n",
       "      <th>BITCOIN</th>\n",
       "    </tr>\n",
       "  </thead>\n",
       "  <tbody>\n",
       "    <tr>\n",
       "      <th>0</th>\n",
       "      <td>2020-01-01</td>\n",
       "      <td>0.031483</td>\n",
       "      <td>NaN</td>\n",
       "      <td>0.033458</td>\n",
       "      <td>0.013250</td>\n",
       "      <td>0.192667</td>\n",
       "      <td>NaN</td>\n",
       "      <td>0.014962</td>\n",
       "      <td>7200.174316</td>\n",
       "    </tr>\n",
       "    <tr>\n",
       "      <th>1</th>\n",
       "      <td>2020-01-02</td>\n",
       "      <td>0.032639</td>\n",
       "      <td>NaN</td>\n",
       "      <td>0.032751</td>\n",
       "      <td>0.012870</td>\n",
       "      <td>0.188043</td>\n",
       "      <td>NaN</td>\n",
       "      <td>0.014651</td>\n",
       "      <td>6985.470215</td>\n",
       "    </tr>\n",
       "    <tr>\n",
       "      <th>2</th>\n",
       "      <td>2020-01-03</td>\n",
       "      <td>0.032805</td>\n",
       "      <td>NaN</td>\n",
       "      <td>0.034180</td>\n",
       "      <td>0.013435</td>\n",
       "      <td>0.193521</td>\n",
       "      <td>NaN</td>\n",
       "      <td>0.015194</td>\n",
       "      <td>7344.884277</td>\n",
       "    </tr>\n",
       "    <tr>\n",
       "      <th>3</th>\n",
       "      <td>2020-01-04</td>\n",
       "      <td>0.035837</td>\n",
       "      <td>NaN</td>\n",
       "      <td>0.034595</td>\n",
       "      <td>0.013521</td>\n",
       "      <td>0.194355</td>\n",
       "      <td>NaN</td>\n",
       "      <td>0.014961</td>\n",
       "      <td>7410.656738</td>\n",
       "    </tr>\n",
       "    <tr>\n",
       "      <th>4</th>\n",
       "      <td>2020-01-05</td>\n",
       "      <td>0.036459</td>\n",
       "      <td>NaN</td>\n",
       "      <td>0.034721</td>\n",
       "      <td>0.013623</td>\n",
       "      <td>0.195537</td>\n",
       "      <td>NaN</td>\n",
       "      <td>0.014914</td>\n",
       "      <td>7411.317383</td>\n",
       "    </tr>\n",
       "    <tr>\n",
       "      <th>...</th>\n",
       "      <td>...</td>\n",
       "      <td>...</td>\n",
       "      <td>...</td>\n",
       "      <td>...</td>\n",
       "      <td>...</td>\n",
       "      <td>...</td>\n",
       "      <td>...</td>\n",
       "      <td>...</td>\n",
       "      <td>...</td>\n",
       "    </tr>\n",
       "    <tr>\n",
       "      <th>867</th>\n",
       "      <td>2022-05-17</td>\n",
       "      <td>1.213923</td>\n",
       "      <td>NaN</td>\n",
       "      <td>0.578077</td>\n",
       "      <td>0.072293</td>\n",
       "      <td>0.437623</td>\n",
       "      <td>1.371631</td>\n",
       "      <td>0.726942</td>\n",
       "      <td>30425.857422</td>\n",
       "    </tr>\n",
       "    <tr>\n",
       "      <th>868</th>\n",
       "      <td>2022-05-18</td>\n",
       "      <td>1.035926</td>\n",
       "      <td>NaN</td>\n",
       "      <td>0.505615</td>\n",
       "      <td>0.070974</td>\n",
       "      <td>0.406166</td>\n",
       "      <td>1.192518</td>\n",
       "      <td>0.627577</td>\n",
       "      <td>28720.271484</td>\n",
       "    </tr>\n",
       "    <tr>\n",
       "      <th>869</th>\n",
       "      <td>2022-05-19</td>\n",
       "      <td>1.122525</td>\n",
       "      <td>NaN</td>\n",
       "      <td>0.533321</td>\n",
       "      <td>0.073608</td>\n",
       "      <td>0.419976</td>\n",
       "      <td>1.302092</td>\n",
       "      <td>0.658817</td>\n",
       "      <td>30314.333984</td>\n",
       "    </tr>\n",
       "    <tr>\n",
       "      <th>870</th>\n",
       "      <td>2022-05-20</td>\n",
       "      <td>1.067323</td>\n",
       "      <td>NaN</td>\n",
       "      <td>0.517907</td>\n",
       "      <td>0.071351</td>\n",
       "      <td>0.411137</td>\n",
       "      <td>1.273900</td>\n",
       "      <td>0.636510</td>\n",
       "      <td>29200.740234</td>\n",
       "    </tr>\n",
       "    <tr>\n",
       "      <th>871</th>\n",
       "      <td>2022-05-21</td>\n",
       "      <td>1.069469</td>\n",
       "      <td>9.706536</td>\n",
       "      <td>0.518777</td>\n",
       "      <td>0.071434</td>\n",
       "      <td>0.411225</td>\n",
       "      <td>1.278827</td>\n",
       "      <td>0.640387</td>\n",
       "      <td>29238.945312</td>\n",
       "    </tr>\n",
       "  </tbody>\n",
       "</table>\n",
       "<p>872 rows × 9 columns</p>\n",
       "</div>"
      ],
      "text/plain": [
       "           Date      MANA  POLKADOT   CARDANO      TRON     RIPLE      SAND  \\\n",
       "0    2020-01-01  0.031483       NaN  0.033458  0.013250  0.192667       NaN   \n",
       "1    2020-01-02  0.032639       NaN  0.032751  0.012870  0.188043       NaN   \n",
       "2    2020-01-03  0.032805       NaN  0.034180  0.013435  0.193521       NaN   \n",
       "3    2020-01-04  0.035837       NaN  0.034595  0.013521  0.194355       NaN   \n",
       "4    2020-01-05  0.036459       NaN  0.034721  0.013623  0.195537       NaN   \n",
       "..          ...       ...       ...       ...       ...       ...       ...   \n",
       "867  2022-05-17  1.213923       NaN  0.578077  0.072293  0.437623  1.371631   \n",
       "868  2022-05-18  1.035926       NaN  0.505615  0.070974  0.406166  1.192518   \n",
       "869  2022-05-19  1.122525       NaN  0.533321  0.073608  0.419976  1.302092   \n",
       "870  2022-05-20  1.067323       NaN  0.517907  0.071351  0.411137  1.273900   \n",
       "871  2022-05-21  1.069469  9.706536  0.518777  0.071434  0.411225  1.278827   \n",
       "\n",
       "      POLYGON       BITCOIN  \n",
       "0    0.014962   7200.174316  \n",
       "1    0.014651   6985.470215  \n",
       "2    0.015194   7344.884277  \n",
       "3    0.014961   7410.656738  \n",
       "4    0.014914   7411.317383  \n",
       "..        ...           ...  \n",
       "867  0.726942  30425.857422  \n",
       "868  0.627577  28720.271484  \n",
       "869  0.658817  30314.333984  \n",
       "870  0.636510  29200.740234  \n",
       "871  0.640387  29238.945312  \n",
       "\n",
       "[872 rows x 9 columns]"
      ]
     },
     "execution_count": 2,
     "metadata": {},
     "output_type": "execute_result"
    }
   ],
   "source": [
    "dataset= pd.read_csv('../1-Visualização de dados Financeiros/criptos.csv')\n",
    "dataset"
   ]
  },
  {
   "cell_type": "code",
   "execution_count": 3,
   "metadata": {},
   "outputs": [
    {
     "data": {
      "text/html": [
       "<div>\n",
       "<style scoped>\n",
       "    .dataframe tbody tr th:only-of-type {\n",
       "        vertical-align: middle;\n",
       "    }\n",
       "\n",
       "    .dataframe tbody tr th {\n",
       "        vertical-align: top;\n",
       "    }\n",
       "\n",
       "    .dataframe thead th {\n",
       "        text-align: right;\n",
       "    }\n",
       "</style>\n",
       "<table border=\"1\" class=\"dataframe\">\n",
       "  <thead>\n",
       "    <tr style=\"text-align: right;\">\n",
       "      <th></th>\n",
       "      <th>MANA</th>\n",
       "      <th>POLKADOT</th>\n",
       "      <th>CARDANO</th>\n",
       "      <th>TRON</th>\n",
       "      <th>RIPLE</th>\n",
       "      <th>SAND</th>\n",
       "      <th>POLYGON</th>\n",
       "      <th>BITCOIN</th>\n",
       "    </tr>\n",
       "  </thead>\n",
       "  <tbody>\n",
       "    <tr>\n",
       "      <th>count</th>\n",
       "      <td>872.000000</td>\n",
       "      <td>555.000000</td>\n",
       "      <td>872.000000</td>\n",
       "      <td>872.000000</td>\n",
       "      <td>872.000000</td>\n",
       "      <td>646.000000</td>\n",
       "      <td>872.000000</td>\n",
       "      <td>872.000000</td>\n",
       "    </tr>\n",
       "    <tr>\n",
       "      <th>mean</th>\n",
       "      <td>0.914037</td>\n",
       "      <td>22.224353</td>\n",
       "      <td>0.822655</td>\n",
       "      <td>0.052929</td>\n",
       "      <td>0.587235</td>\n",
       "      <td>1.413369</td>\n",
       "      <td>0.705582</td>\n",
       "      <td>30994.716666</td>\n",
       "    </tr>\n",
       "    <tr>\n",
       "      <th>std</th>\n",
       "      <td>1.142035</td>\n",
       "      <td>13.404755</td>\n",
       "      <td>0.768559</td>\n",
       "      <td>0.034049</td>\n",
       "      <td>0.372628</td>\n",
       "      <td>1.778942</td>\n",
       "      <td>0.775394</td>\n",
       "      <td>18531.594602</td>\n",
       "    </tr>\n",
       "    <tr>\n",
       "      <th>min</th>\n",
       "      <td>0.018649</td>\n",
       "      <td>2.875028</td>\n",
       "      <td>0.023961</td>\n",
       "      <td>0.008792</td>\n",
       "      <td>0.139635</td>\n",
       "      <td>0.030821</td>\n",
       "      <td>0.008096</td>\n",
       "      <td>4970.788086</td>\n",
       "    </tr>\n",
       "    <tr>\n",
       "      <th>25%</th>\n",
       "      <td>0.063340</td>\n",
       "      <td>9.306091</td>\n",
       "      <td>0.096993</td>\n",
       "      <td>0.022517</td>\n",
       "      <td>0.242640</td>\n",
       "      <td>0.082545</td>\n",
       "      <td>0.019850</td>\n",
       "      <td>10431.856934</td>\n",
       "    </tr>\n",
       "    <tr>\n",
       "      <th>50%</th>\n",
       "      <td>0.477494</td>\n",
       "      <td>21.626959</td>\n",
       "      <td>0.815034</td>\n",
       "      <td>0.053581</td>\n",
       "      <td>0.549429</td>\n",
       "      <td>0.614172</td>\n",
       "      <td>0.313415</td>\n",
       "      <td>35318.984375</td>\n",
       "    </tr>\n",
       "    <tr>\n",
       "      <th>75%</th>\n",
       "      <td>1.241251</td>\n",
       "      <td>33.656902</td>\n",
       "      <td>1.325004</td>\n",
       "      <td>0.074960</td>\n",
       "      <td>0.832800</td>\n",
       "      <td>2.722224</td>\n",
       "      <td>1.434024</td>\n",
       "      <td>46456.573242</td>\n",
       "    </tr>\n",
       "    <tr>\n",
       "      <th>max</th>\n",
       "      <td>5.479181</td>\n",
       "      <td>53.881733</td>\n",
       "      <td>2.968239</td>\n",
       "      <td>0.164650</td>\n",
       "      <td>1.839236</td>\n",
       "      <td>8.402190</td>\n",
       "      <td>2.876757</td>\n",
       "      <td>67566.828125</td>\n",
       "    </tr>\n",
       "  </tbody>\n",
       "</table>\n",
       "</div>"
      ],
      "text/plain": [
       "             MANA    POLKADOT     CARDANO        TRON       RIPLE        SAND  \\\n",
       "count  872.000000  555.000000  872.000000  872.000000  872.000000  646.000000   \n",
       "mean     0.914037   22.224353    0.822655    0.052929    0.587235    1.413369   \n",
       "std      1.142035   13.404755    0.768559    0.034049    0.372628    1.778942   \n",
       "min      0.018649    2.875028    0.023961    0.008792    0.139635    0.030821   \n",
       "25%      0.063340    9.306091    0.096993    0.022517    0.242640    0.082545   \n",
       "50%      0.477494   21.626959    0.815034    0.053581    0.549429    0.614172   \n",
       "75%      1.241251   33.656902    1.325004    0.074960    0.832800    2.722224   \n",
       "max      5.479181   53.881733    2.968239    0.164650    1.839236    8.402190   \n",
       "\n",
       "          POLYGON       BITCOIN  \n",
       "count  872.000000    872.000000  \n",
       "mean     0.705582  30994.716666  \n",
       "std      0.775394  18531.594602  \n",
       "min      0.008096   4970.788086  \n",
       "25%      0.019850  10431.856934  \n",
       "50%      0.313415  35318.984375  \n",
       "75%      1.434024  46456.573242  \n",
       "max      2.876757  67566.828125  "
      ]
     },
     "execution_count": 3,
     "metadata": {},
     "output_type": "execute_result"
    }
   ],
   "source": [
    "dataset.describe()"
   ]
  },
  {
   "cell_type": "markdown",
   "metadata": {},
   "source": [
    "Cálculos de Retornos Anuais"
   ]
  },
  {
   "cell_type": "markdown",
   "metadata": {},
   "source": [
    "2020"
   ]
  },
  {
   "cell_type": "code",
   "execution_count": 4,
   "metadata": {},
   "outputs": [
    {
     "data": {
      "text/plain": [
       "(0    0.031483\n",
       " Name: MANA, dtype: float64,\n",
       " 365    0.078251\n",
       " Name: MANA, dtype: float64)"
      ]
     },
     "execution_count": 4,
     "metadata": {},
     "output_type": "execute_result"
    }
   ],
   "source": [
    "dataset['MANA'][dataset['Date']== '2020-01-01'], dataset['MANA'][dataset['Date']== '2020-12-31']"
   ]
  },
  {
   "cell_type": "code",
   "execution_count": 5,
   "metadata": {},
   "outputs": [
    {
     "data": {
      "text/plain": [
       "91.04738912804542"
      ]
     },
     "execution_count": 5,
     "metadata": {},
     "output_type": "execute_result"
    }
   ],
   "source": [
    "np.log(0.078251/0.031483)*100"
   ]
  },
  {
   "cell_type": "code",
   "execution_count": 6,
   "metadata": {},
   "outputs": [
    {
     "data": {
      "text/plain": [
       "(0   NaN\n",
       " Name: POLKADOT, dtype: float64,\n",
       " 365    9.292508\n",
       " Name: POLKADOT, dtype: float64)"
      ]
     },
     "execution_count": 6,
     "metadata": {},
     "output_type": "execute_result"
    }
   ],
   "source": [
    "dataset['POLKADOT'][dataset['Date']== '2020-01-01'], dataset['POLKADOT'][dataset['Date']== '2020-12-31']"
   ]
  },
  {
   "cell_type": "code",
   "execution_count": 7,
   "metadata": {},
   "outputs": [],
   "source": [
    "#np.log(9.292508/NaN)*100"
   ]
  },
  {
   "cell_type": "code",
   "execution_count": 8,
   "metadata": {},
   "outputs": [
    {
     "data": {
      "text/plain": [
       "(0    0.033458\n",
       " Name: CARDANO, dtype: float64,\n",
       " 365    0.181397\n",
       " Name: CARDANO, dtype: float64)"
      ]
     },
     "execution_count": 8,
     "metadata": {},
     "output_type": "execute_result"
    }
   ],
   "source": [
    "dataset['CARDANO'][dataset['Date']== '2020-01-01'], dataset['CARDANO'][dataset['Date']== '2020-12-31']"
   ]
  },
  {
   "cell_type": "code",
   "execution_count": 9,
   "metadata": {},
   "outputs": [
    {
     "data": {
      "text/plain": [
       "169.0397078597706"
      ]
     },
     "execution_count": 9,
     "metadata": {},
     "output_type": "execute_result"
    }
   ],
   "source": [
    "np.log(0.181397/0.033458)*100"
   ]
  },
  {
   "cell_type": "code",
   "execution_count": 10,
   "metadata": {},
   "outputs": [
    {
     "data": {
      "text/plain": [
       "(0    0.01325\n",
       " Name: TRON, dtype: float64,\n",
       " 365    0.026833\n",
       " Name: TRON, dtype: float64)"
      ]
     },
     "execution_count": 10,
     "metadata": {},
     "output_type": "execute_result"
    }
   ],
   "source": [
    "dataset['TRON'][dataset['Date']== '2020-01-01'], dataset['TRON'][dataset['Date']== '2020-12-31']"
   ]
  },
  {
   "cell_type": "code",
   "execution_count": 11,
   "metadata": {},
   "outputs": [
    {
     "data": {
      "text/plain": [
       "-159.69501721072757"
      ]
     },
     "execution_count": 11,
     "metadata": {},
     "output_type": "execute_result"
    }
   ],
   "source": [
    "np.log(0.026833/0.1325)*100"
   ]
  },
  {
   "cell_type": "code",
   "execution_count": 12,
   "metadata": {},
   "outputs": [
    {
     "data": {
      "text/plain": [
       "(0    0.192667\n",
       " Name: RIPLE, dtype: float64,\n",
       " 365    0.219846\n",
       " Name: RIPLE, dtype: float64)"
      ]
     },
     "execution_count": 12,
     "metadata": {},
     "output_type": "execute_result"
    }
   ],
   "source": [
    "dataset['RIPLE'][dataset['Date']== '2020-01-01'], dataset['RIPLE'][dataset['Date']== '2020-12-31']"
   ]
  },
  {
   "cell_type": "code",
   "execution_count": 13,
   "metadata": {},
   "outputs": [
    {
     "data": {
      "text/plain": [
       "13.196399113139073"
      ]
     },
     "execution_count": 13,
     "metadata": {},
     "output_type": "execute_result"
    }
   ],
   "source": [
    "np.log(0.219846/0.192667)*100"
   ]
  },
  {
   "cell_type": "code",
   "execution_count": 14,
   "metadata": {},
   "outputs": [
    {
     "data": {
      "text/plain": [
       "(0   NaN\n",
       " Name: SAND, dtype: float64,\n",
       " 365    0.035653\n",
       " Name: SAND, dtype: float64)"
      ]
     },
     "execution_count": 14,
     "metadata": {},
     "output_type": "execute_result"
    }
   ],
   "source": [
    "dataset['SAND'][dataset['Date']== '2020-01-01'], dataset['SAND'][dataset['Date']== '2020-12-31']"
   ]
  },
  {
   "cell_type": "code",
   "execution_count": 15,
   "metadata": {},
   "outputs": [],
   "source": [
    "#np.log(0.035653/NaN)*100"
   ]
  },
  {
   "cell_type": "code",
   "execution_count": 16,
   "metadata": {},
   "outputs": [
    {
     "data": {
      "text/plain": [
       "(0    0.014962\n",
       " Name: POLYGON, dtype: float64,\n",
       " 365    0.017633\n",
       " Name: POLYGON, dtype: float64)"
      ]
     },
     "execution_count": 16,
     "metadata": {},
     "output_type": "execute_result"
    }
   ],
   "source": [
    "dataset['POLYGON'][dataset['Date']== '2020-01-01'], dataset['POLYGON'][dataset['Date']== '2020-12-31']"
   ]
  },
  {
   "cell_type": "code",
   "execution_count": 17,
   "metadata": {},
   "outputs": [
    {
     "data": {
      "text/plain": [
       "16.425849297557335"
      ]
     },
     "execution_count": 17,
     "metadata": {},
     "output_type": "execute_result"
    }
   ],
   "source": [
    "np.log(0.017633/0.014962)*100"
   ]
  },
  {
   "cell_type": "markdown",
   "metadata": {},
   "source": [
    "2021\n"
   ]
  },
  {
   "cell_type": "code",
   "execution_count": 18,
   "metadata": {},
   "outputs": [
    {
     "data": {
      "text/plain": [
       "(366    0.083738\n",
       " Name: MANA, dtype: float64,\n",
       " 730    3.270671\n",
       " Name: MANA, dtype: float64)"
      ]
     },
     "execution_count": 18,
     "metadata": {},
     "output_type": "execute_result"
    }
   ],
   "source": [
    "dataset['MANA'][dataset['Date']== '2021-01-01'], dataset['MANA'][dataset['Date']== '2021-12-31']"
   ]
  },
  {
   "cell_type": "code",
   "execution_count": 19,
   "metadata": {},
   "outputs": [
    {
     "data": {
      "text/plain": [
       "366.50575647606547"
      ]
     },
     "execution_count": 19,
     "metadata": {},
     "output_type": "execute_result"
    }
   ],
   "source": [
    "np.log(3.270671/0.083738)*100"
   ]
  },
  {
   "cell_type": "code",
   "execution_count": 20,
   "metadata": {},
   "outputs": [
    {
     "data": {
      "text/plain": [
       "(366    8.306819\n",
       " Name: POLKADOT, dtype: float64,\n",
       " 730    26.719675\n",
       " Name: POLKADOT, dtype: float64)"
      ]
     },
     "execution_count": 20,
     "metadata": {},
     "output_type": "execute_result"
    }
   ],
   "source": [
    "dataset['POLKADOT'][dataset['Date']== '2021-01-01'], dataset['POLKADOT'][dataset['Date']== '2021-12-31']"
   ]
  },
  {
   "cell_type": "code",
   "execution_count": 21,
   "metadata": {},
   "outputs": [
    {
     "data": {
      "text/plain": [
       "116.8323441654041"
      ]
     },
     "execution_count": 21,
     "metadata": {},
     "output_type": "execute_result"
    }
   ],
   "source": [
    "np.log(26.719675/8.306819)*100"
   ]
  },
  {
   "cell_type": "code",
   "execution_count": 22,
   "metadata": {},
   "outputs": [
    {
     "data": {
      "text/plain": [
       "(366    0.17535\n",
       " Name: CARDANO, dtype: float64,\n",
       " 730    1.310209\n",
       " Name: CARDANO, dtype: float64)"
      ]
     },
     "execution_count": 22,
     "metadata": {},
     "output_type": "execute_result"
    }
   ],
   "source": [
    "dataset['CARDANO'][dataset['Date']== '2021-01-01'], dataset['CARDANO'][dataset['Date']== '2021-12-31']"
   ]
  },
  {
   "cell_type": "code",
   "execution_count": 23,
   "metadata": {},
   "outputs": [
    {
     "data": {
      "text/plain": [
       "201.11579688682738"
      ]
     },
     "execution_count": 23,
     "metadata": {},
     "output_type": "execute_result"
    }
   ],
   "source": [
    "np.log(1.310209/0.17535)*100"
   ]
  },
  {
   "cell_type": "code",
   "execution_count": 24,
   "metadata": {},
   "outputs": [
    {
     "data": {
      "text/plain": [
       "(366    0.02694\n",
       " Name: TRON, dtype: float64,\n",
       " 730    0.075397\n",
       " Name: TRON, dtype: float64)"
      ]
     },
     "execution_count": 24,
     "metadata": {},
     "output_type": "execute_result"
    }
   ],
   "source": [
    "dataset['TRON'][dataset['Date']== '2021-01-01'], dataset['TRON'][dataset['Date']== '2021-12-31']"
   ]
  },
  {
   "cell_type": "code",
   "execution_count": 25,
   "metadata": {},
   "outputs": [
    {
     "data": {
      "text/plain": [
       "102.91553154417285"
      ]
     },
     "execution_count": 25,
     "metadata": {},
     "output_type": "execute_result"
    }
   ],
   "source": [
    "np.log(0.075397/0.02694)*100"
   ]
  },
  {
   "cell_type": "code",
   "execution_count": 26,
   "metadata": {},
   "outputs": [
    {
     "data": {
      "text/plain": [
       "(366    0.237444\n",
       " Name: RIPLE, dtype: float64,\n",
       " 730    0.831163\n",
       " Name: RIPLE, dtype: float64)"
      ]
     },
     "execution_count": 26,
     "metadata": {},
     "output_type": "execute_result"
    }
   ],
   "source": [
    "dataset['RIPLE'][dataset['Date']== '2021-01-01'], dataset['RIPLE'][dataset['Date']== '2021-12-31']"
   ]
  },
  {
   "cell_type": "code",
   "execution_count": 27,
   "metadata": {},
   "outputs": [
    {
     "data": {
      "text/plain": [
       "125.28941186402123"
      ]
     },
     "execution_count": 27,
     "metadata": {},
     "output_type": "execute_result"
    }
   ],
   "source": [
    "np.log(0.831163/0.237444)*100"
   ]
  },
  {
   "cell_type": "code",
   "execution_count": 28,
   "metadata": {},
   "outputs": [
    {
     "data": {
      "text/plain": [
       "(366    0.037023\n",
       " Name: SAND, dtype: float64,\n",
       " 730    5.84771\n",
       " Name: SAND, dtype: float64)"
      ]
     },
     "execution_count": 28,
     "metadata": {},
     "output_type": "execute_result"
    }
   ],
   "source": [
    "dataset['SAND'][dataset['Date']== '2021-01-01'], dataset['SAND'][dataset['Date']== '2021-12-31']"
   ]
  },
  {
   "cell_type": "code",
   "execution_count": 29,
   "metadata": {},
   "outputs": [
    {
     "data": {
      "text/plain": [
       "506.22660694575694"
      ]
     },
     "execution_count": 29,
     "metadata": {},
     "output_type": "execute_result"
    }
   ],
   "source": [
    "np.log(5.84771/0.037023)*100"
   ]
  },
  {
   "cell_type": "code",
   "execution_count": 30,
   "metadata": {},
   "outputs": [
    {
     "data": {
      "text/plain": [
       "(366    0.017812\n",
       " Name: POLYGON, dtype: float64,\n",
       " 730    2.527107\n",
       " Name: POLYGON, dtype: float64)"
      ]
     },
     "execution_count": 30,
     "metadata": {},
     "output_type": "execute_result"
    }
   ],
   "source": [
    "dataset['POLYGON'][dataset['Date']== '2021-01-01'], dataset['POLYGON'][dataset['Date']== '2021-12-31']"
   ]
  },
  {
   "cell_type": "code",
   "execution_count": 31,
   "metadata": {},
   "outputs": [
    {
     "data": {
      "text/plain": [
       "495.49580617311636"
      ]
     },
     "execution_count": 31,
     "metadata": {},
     "output_type": "execute_result"
    }
   ],
   "source": [
    "np.log(2.527107/0.017812)*100"
   ]
  },
  {
   "cell_type": "markdown",
   "metadata": {},
   "source": [
    "2022"
   ]
  },
  {
   "cell_type": "code",
   "execution_count": 32,
   "metadata": {},
   "outputs": [
    {
     "data": {
      "text/plain": [
       "(731    3.345399\n",
       " Name: MANA, dtype: float64,\n",
       " 868    1.035926\n",
       " Name: MANA, dtype: float64)"
      ]
     },
     "execution_count": 32,
     "metadata": {},
     "output_type": "execute_result"
    }
   ],
   "source": [
    "dataset['MANA'][dataset['Date']== '2022-01-01'], dataset['MANA'][dataset['Date']== '2022-05-18']"
   ]
  },
  {
   "cell_type": "code",
   "execution_count": 33,
   "metadata": {},
   "outputs": [
    {
     "data": {
      "text/plain": [
       "-116.87999656817836"
      ]
     },
     "execution_count": 33,
     "metadata": {},
     "output_type": "execute_result"
    }
   ],
   "source": [
    "np.log(1.039548/3.345399)*100"
   ]
  },
  {
   "cell_type": "code",
   "execution_count": 34,
   "metadata": {},
   "outputs": [
    {
     "data": {
      "text/plain": [
       "(731    28.583582\n",
       " Name: POLKADOT, dtype: float64,\n",
       " 868   NaN\n",
       " Name: POLKADOT, dtype: float64)"
      ]
     },
     "execution_count": 34,
     "metadata": {},
     "output_type": "execute_result"
    }
   ],
   "source": [
    "dataset['POLKADOT'][dataset['Date']== '2022-01-01'], dataset['POLKADOT'][dataset['Date']== '2022-05-18']"
   ]
  },
  {
   "cell_type": "code",
   "execution_count": 35,
   "metadata": {},
   "outputs": [
    {
     "data": {
      "text/plain": [
       "-109.8949532099232"
      ]
     },
     "execution_count": 35,
     "metadata": {},
     "output_type": "execute_result"
    }
   ],
   "source": [
    "np.log(9.524648/28.583582)*100"
   ]
  },
  {
   "cell_type": "code",
   "execution_count": 36,
   "metadata": {},
   "outputs": [
    {
     "data": {
      "text/plain": [
       "(731    1.376975\n",
       " Name: CARDANO, dtype: float64,\n",
       " 868    0.505615\n",
       " Name: CARDANO, dtype: float64)"
      ]
     },
     "execution_count": 36,
     "metadata": {},
     "output_type": "execute_result"
    }
   ],
   "source": [
    "dataset['CARDANO'][dataset['Date']== '2022-01-01'], dataset['CARDANO'][dataset['Date']== '2022-05-18']"
   ]
  },
  {
   "cell_type": "code",
   "execution_count": 37,
   "metadata": {},
   "outputs": [
    {
     "data": {
      "text/plain": [
       "-99.99837997204187"
      ]
     },
     "execution_count": 37,
     "metadata": {},
     "output_type": "execute_result"
    }
   ],
   "source": [
    "np.log(0.506569/1.376975)*100"
   ]
  },
  {
   "cell_type": "code",
   "execution_count": 38,
   "metadata": {},
   "outputs": [
    {
     "data": {
      "text/plain": [
       "(731    0.07661\n",
       " Name: TRON, dtype: float64,\n",
       " 868    0.070974\n",
       " Name: TRON, dtype: float64)"
      ]
     },
     "execution_count": 38,
     "metadata": {},
     "output_type": "execute_result"
    }
   ],
   "source": [
    "dataset['TRON'][dataset['Date']== '2022-01-01'], dataset['TRON'][dataset['Date']== '2022-05-18']"
   ]
  },
  {
   "cell_type": "code",
   "execution_count": 39,
   "metadata": {},
   "outputs": [
    {
     "data": {
      "text/plain": [
       "-7.504823915433062"
      ]
     },
     "execution_count": 39,
     "metadata": {},
     "output_type": "execute_result"
    }
   ],
   "source": [
    "np.log(0.071071/0.07661)*100"
   ]
  },
  {
   "cell_type": "code",
   "execution_count": 40,
   "metadata": {},
   "outputs": [
    {
     "data": {
      "text/plain": [
       "(731    0.849472\n",
       " Name: RIPLE, dtype: float64,\n",
       " 868    0.406166\n",
       " Name: RIPLE, dtype: float64)"
      ]
     },
     "execution_count": 40,
     "metadata": {},
     "output_type": "execute_result"
    }
   ],
   "source": [
    "dataset['RIPLE'][dataset['Date']== '2022-01-01'], dataset['RIPLE'][dataset['Date']== '2022-05-18']"
   ]
  },
  {
   "cell_type": "code",
   "execution_count": 41,
   "metadata": {},
   "outputs": [
    {
     "data": {
      "text/plain": [
       "-73.66350654678591"
      ]
     },
     "execution_count": 41,
     "metadata": {},
     "output_type": "execute_result"
    }
   ],
   "source": [
    "np.log(0.406661/0.849472)*100"
   ]
  },
  {
   "cell_type": "code",
   "execution_count": 42,
   "metadata": {},
   "outputs": [
    {
     "data": {
      "text/plain": [
       "(731    5.972598\n",
       " Name: SAND, dtype: float64,\n",
       " 868    1.192518\n",
       " Name: SAND, dtype: float64)"
      ]
     },
     "execution_count": 42,
     "metadata": {},
     "output_type": "execute_result"
    }
   ],
   "source": [
    "dataset['SAND'][dataset['Date']== '2022-01-01'], dataset['SAND'][dataset['Date']== '2022-05-18']"
   ]
  },
  {
   "cell_type": "code",
   "execution_count": 43,
   "metadata": {},
   "outputs": [
    {
     "data": {
      "text/plain": [
       "-161.0169520023596"
      ]
     },
     "execution_count": 43,
     "metadata": {},
     "output_type": "execute_result"
    }
   ],
   "source": [
    "np.log(1.193646/5.972598)*100"
   ]
  },
  {
   "cell_type": "code",
   "execution_count": 44,
   "metadata": {},
   "outputs": [
    {
     "data": {
      "text/plain": [
       "(731    2.574791\n",
       " Name: POLYGON, dtype: float64,\n",
       " 868    0.627577\n",
       " Name: POLYGON, dtype: float64)"
      ]
     },
     "execution_count": 44,
     "metadata": {},
     "output_type": "execute_result"
    }
   ],
   "source": [
    "dataset['POLYGON'][dataset['Date']== '2022-01-01'], dataset['POLYGON'][dataset['Date']== '2022-05-18']"
   ]
  },
  {
   "cell_type": "code",
   "execution_count": 45,
   "metadata": {},
   "outputs": [
    {
     "data": {
      "text/plain": [
       "-141.04836032453824"
      ]
     },
     "execution_count": 45,
     "metadata": {},
     "output_type": "execute_result"
    }
   ],
   "source": [
    "np.log(0.628314/2.574791)*100"
   ]
  },
  {
   "cell_type": "markdown",
   "metadata": {},
   "source": [
    "Variância"
   ]
  },
  {
   "cell_type": "code",
   "execution_count": 46,
   "metadata": {},
   "outputs": [],
   "source": [
    "#Taxas de retorno anuais\n",
    "taxas_mana=np.array([91.04,366.5,-116.8])"
   ]
  },
  {
   "cell_type": "code",
   "execution_count": 47,
   "metadata": {},
   "outputs": [
    {
     "data": {
      "text/plain": [
       "113.58"
      ]
     },
     "execution_count": 47,
     "metadata": {},
     "output_type": "execute_result"
    }
   ],
   "source": [
    "#Somatório das taxa de retorno anuais / Anos = MÉDIA\n",
    "media_mana= taxas_mana.sum()/len(taxas_mana)\n",
    "#média\n",
    "media_mana"
   ]
  },
  {
   "cell_type": "code",
   "execution_count": 48,
   "metadata": {},
   "outputs": [
    {
     "data": {
      "text/plain": [
       "113.58"
      ]
     },
     "execution_count": 48,
     "metadata": {},
     "output_type": "execute_result"
    }
   ],
   "source": [
    "#outra forma de cálcular a média\n",
    "media_mana= taxas_mana.mean()\n",
    "media_mana"
   ]
  },
  {
   "cell_type": "code",
   "execution_count": 49,
   "metadata": {},
   "outputs": [
    {
     "data": {
      "text/plain": [
       "39183.840800000005"
      ]
     },
     "execution_count": 49,
     "metadata": {},
     "output_type": "execute_result"
    }
   ],
   "source": [
    "#VARIÂNCIA\n",
    "#(taxas individuais- média)² = Resultados individuais: soma de todos resultados / anos\n",
    "#MANA\n",
    "variancia_mana=((taxas_mana - media_mana)**2).sum() / len(taxas_mana)\n",
    "variancia_mana"
   ]
  },
  {
   "cell_type": "code",
   "execution_count": 50,
   "metadata": {},
   "outputs": [
    {
     "data": {
      "text/plain": [
       "39183.840800000005"
      ]
     },
     "execution_count": 50,
     "metadata": {},
     "output_type": "execute_result"
    }
   ],
   "source": [
    "#outra forma de cálcular a Variância\n",
    "variancia_mana=taxas_mana.var()\n",
    "variancia_mana"
   ]
  },
  {
   "cell_type": "code",
   "execution_count": 51,
   "metadata": {},
   "outputs": [],
   "source": [
    "#POLKADOT\n",
    "taxas_dot=np.array([0,116.83,-109.89])"
   ]
  },
  {
   "cell_type": "code",
   "execution_count": 52,
   "metadata": {},
   "outputs": [
    {
     "data": {
      "text/plain": [
       "2.3133333333333326"
      ]
     },
     "execution_count": 52,
     "metadata": {},
     "output_type": "execute_result"
    }
   ],
   "source": [
    "media_dot= taxas_dot.sum()/len(taxas_dot)\n",
    "media_dot"
   ]
  },
  {
   "cell_type": "code",
   "execution_count": 53,
   "metadata": {},
   "outputs": [
    {
     "data": {
      "text/plain": [
       "8569.668822222222"
      ]
     },
     "execution_count": 53,
     "metadata": {},
     "output_type": "execute_result"
    }
   ],
   "source": [
    "variancia_dot=((taxas_dot-media_dot)**2).sum()/ len(taxas_dot)\n",
    "variancia_dot"
   ]
  },
  {
   "cell_type": "code",
   "execution_count": 54,
   "metadata": {},
   "outputs": [
    {
     "data": {
      "text/plain": [
       "(1.3647855058642033, 104.3146573458125)"
      ]
     },
     "execution_count": 54,
     "metadata": {},
     "output_type": "execute_result"
    }
   ],
   "source": [
    "#comparando a Variância de + de 1 ativo nos últimos 30 dias\n",
    "dataset['MANA'].tail(365).var(), dataset['POLKADOT'].tail(365).var()"
   ]
  },
  {
   "cell_type": "code",
   "execution_count": 55,
   "metadata": {},
   "outputs": [
    {
     "data": {
      "text/plain": [
       "18229.12186666667"
      ]
     },
     "execution_count": 55,
     "metadata": {},
     "output_type": "execute_result"
    }
   ],
   "source": [
    "#CARDANO\n",
    "taxas_ada=np.array([169.03,201.11,-99.99])\n",
    "media_ada=taxas_ada.sum()/len(taxas_ada)\n",
    "variancia_ada=((taxas_ada-media_ada)**2).sum()/len(taxas_ada)\n",
    "variancia_ada"
   ]
  },
  {
   "cell_type": "code",
   "execution_count": 56,
   "metadata": {},
   "outputs": [
    {
     "data": {
      "text/plain": [
       "11590.102688888886"
      ]
     },
     "execution_count": 56,
     "metadata": {},
     "output_type": "execute_result"
    }
   ],
   "source": [
    "#TRON\n",
    "taxas_trx=np.array([-159.69,102.91,-7.50])\n",
    "media_trx=taxas_trx.sum()/len(taxas_trx)\n",
    "variancia_trx=((taxas_trx-media_trx)**2).sum()/len(taxas_trx)\n",
    "variancia_trx"
   ]
  },
  {
   "cell_type": "code",
   "execution_count": 57,
   "metadata": {},
   "outputs": [
    {
     "data": {
      "text/plain": [
       "6631.579355555555"
      ]
     },
     "execution_count": 57,
     "metadata": {},
     "output_type": "execute_result"
    }
   ],
   "source": [
    "#RIPLE\n",
    "taxas_xrp=np.array([13.19,125.28,-73.66])\n",
    "media_xrp=taxas_xrp.sum()/len(taxas_xrp)\n",
    "variancia_xrp=((taxas_xrp-media_xrp)**2).sum()/len(taxas_xrp)\n",
    "variancia_xrp"
   ]
  },
  {
   "cell_type": "code",
   "execution_count": 58,
   "metadata": {},
   "outputs": [
    {
     "data": {
      "text/plain": [
       "80818.0240888889"
      ]
     },
     "execution_count": 58,
     "metadata": {},
     "output_type": "execute_result"
    }
   ],
   "source": [
    "#SAND\n",
    "taxas_sand=np.array([0,506.22,-161])\n",
    "media_sand=taxas_sand.sum()/len(taxas_sand)\n",
    "variancia_sand=((taxas_sand-media_sand)**2).sum()/len(taxas_sand)\n",
    "variancia_sand"
   ]
  },
  {
   "cell_type": "code",
   "execution_count": 59,
   "metadata": {},
   "outputs": [
    {
     "data": {
      "text/plain": [
       "73274.68415555556"
      ]
     },
     "execution_count": 59,
     "metadata": {},
     "output_type": "execute_result"
    }
   ],
   "source": [
    "#POLYGON\n",
    "taxas_matic=np.array([16.42,495.49,-141.04])\n",
    "media_matic=taxas_matic.sum()/len(taxas_matic)\n",
    "variancia_matic=((taxas_matic-media_matic)**2).sum()/len(taxas_matic)\n",
    "variancia_matic"
   ]
  },
  {
   "cell_type": "code",
   "execution_count": 60,
   "metadata": {},
   "outputs": [
    {
     "data": {
      "text/plain": [
       "[39183.840800000005,\n",
       " 8569.668822222222,\n",
       " 18229.12186666667,\n",
       " 11590.102688888886,\n",
       " 6631.579355555555,\n",
       " 80818.0240888889,\n",
       " 73274.68415555556]"
      ]
     },
     "execution_count": 60,
     "metadata": {},
     "output_type": "execute_result"
    }
   ],
   "source": [
    "criptovariancia= ([variancia_mana,variancia_dot,variancia_ada,variancia_trx, variancia_xrp, variancia_sand,variancia_matic])\n",
    "criptovariancia"
   ]
  },
  {
   "cell_type": "markdown",
   "metadata": {},
   "source": [
    "Desvio Padrão"
   ]
  },
  {
   "cell_type": "code",
   "execution_count": 61,
   "metadata": {},
   "outputs": [
    {
     "data": {
      "text/plain": [
       "197.94908638334255"
      ]
     },
     "execution_count": 61,
     "metadata": {},
     "output_type": "execute_result"
    }
   ],
   "source": [
    "# Raiz quadrada da Variância= Desvio\n",
    "#DESVIO PADRÃO \n",
    "\n",
    "#MANA\n",
    "desvio_padrão_mana=math.sqrt(variancia_mana)\n",
    "desvio_padrão_mana"
   ]
  },
  {
   "cell_type": "code",
   "execution_count": 62,
   "metadata": {},
   "outputs": [
    {
     "data": {
      "text/plain": [
       "197.94908638334255"
      ]
     },
     "execution_count": 62,
     "metadata": {},
     "output_type": "execute_result"
    }
   ],
   "source": [
    "#Outra forma de cálcular o Desvio:\n",
    "taxas_mana.std()"
   ]
  },
  {
   "cell_type": "code",
   "execution_count": 63,
   "metadata": {},
   "outputs": [
    {
     "data": {
      "text/plain": [
       "92.5725057574992"
      ]
     },
     "execution_count": 63,
     "metadata": {},
     "output_type": "execute_result"
    }
   ],
   "source": [
    "#POLKADOT\n",
    "desvio_padrão_dot=math.sqrt(variancia_dot)\n",
    "desvio_padrão_dot"
   ]
  },
  {
   "cell_type": "code",
   "execution_count": 64,
   "metadata": {},
   "outputs": [
    {
     "data": {
      "text/plain": [
       "135.01526530976662"
      ]
     },
     "execution_count": 64,
     "metadata": {},
     "output_type": "execute_result"
    }
   ],
   "source": [
    "#CARDANO\n",
    "desvio_padrão_ada=math.sqrt(variancia_ada)\n",
    "desvio_padrão_ada"
   ]
  },
  {
   "cell_type": "code",
   "execution_count": 65,
   "metadata": {},
   "outputs": [
    {
     "data": {
      "text/plain": [
       "107.65733922445273"
      ]
     },
     "execution_count": 65,
     "metadata": {},
     "output_type": "execute_result"
    }
   ],
   "source": [
    "#TRON\n",
    "desvio_padrão_trx=math.sqrt(variancia_trx)\n",
    "desvio_padrão_trx"
   ]
  },
  {
   "cell_type": "code",
   "execution_count": 66,
   "metadata": {},
   "outputs": [
    {
     "data": {
      "text/plain": [
       "81.43450961082503"
      ]
     },
     "execution_count": 66,
     "metadata": {},
     "output_type": "execute_result"
    }
   ],
   "source": [
    "#RIPLE\n",
    "desvio_padrão_xrp=math.sqrt(variancia_xrp)\n",
    "desvio_padrão_xrp"
   ]
  },
  {
   "cell_type": "code",
   "execution_count": 67,
   "metadata": {},
   "outputs": [
    {
     "data": {
      "text/plain": [
       "284.28511056488503"
      ]
     },
     "execution_count": 67,
     "metadata": {},
     "output_type": "execute_result"
    }
   ],
   "source": [
    "#SAND\n",
    "desvio_padrão_sand=math.sqrt(variancia_sand)\n",
    "desvio_padrão_sand"
   ]
  },
  {
   "cell_type": "code",
   "execution_count": 68,
   "metadata": {},
   "outputs": [
    {
     "data": {
      "text/plain": [
       "270.6929702736212"
      ]
     },
     "execution_count": 68,
     "metadata": {},
     "output_type": "execute_result"
    }
   ],
   "source": [
    "#POLYGON\n",
    "desvio_padrão_matic=math.sqrt(variancia_matic)\n",
    "desvio_padrão_matic"
   ]
  },
  {
   "cell_type": "code",
   "execution_count": 69,
   "metadata": {},
   "outputs": [
    {
     "data": {
      "text/plain": [
       "(0.8488834548115131,\n",
       " 7.17952739142437,\n",
       " 0.2724963105005313,\n",
       " 0.006930972452261481,\n",
       " 0.1339531452161061,\n",
       " 1.4589723699919588,\n",
       " 0.47910574724563076,\n",
       " 6135.684756062037)"
      ]
     },
     "execution_count": 69,
     "metadata": {},
     "output_type": "execute_result"
    }
   ],
   "source": [
    "#Retorna a comparação da variação de volatilidade de preço em DÓLAR.\n",
    "\n",
    "dataset['MANA'].tail(180).std(), dataset['POLKADOT'].tail(180).std(), dataset['CARDANO'].tail(180).std(), dataset['TRON'].tail(30).std(), dataset['RIPLE'].tail(180).std(), dataset['SAND'].tail(180).std(), dataset['POLYGON'].tail(180).std(), dataset['BITCOIN'].tail(180).std()\n"
   ]
  },
  {
   "cell_type": "markdown",
   "metadata": {},
   "source": [
    "Coeficiente de Variação"
   ]
  },
  {
   "cell_type": "code",
   "execution_count": 70,
   "metadata": {},
   "outputs": [
    {
     "data": {
      "text/plain": [
       "(197.94908638334255, 113.58)"
      ]
     },
     "execution_count": 70,
     "metadata": {},
     "output_type": "execute_result"
    }
   ],
   "source": [
    "desvio_padrão_mana, media_mana"
   ]
  },
  {
   "cell_type": "markdown",
   "metadata": {},
   "source": [
    "Cálculos com todos Ativos"
   ]
  },
  {
   "cell_type": "markdown",
   "metadata": {},
   "source": [
    "Correlação entre Ativos"
   ]
  },
  {
   "cell_type": "markdown",
   "metadata": {},
   "source": [
    "Risco de um Portfólio"
   ]
  }
 ],
 "metadata": {
  "interpreter": {
   "hash": "c6544b8a5a5c509948c8c7acacbaab8bffeb55b5d87ee0e971fd8561f4a6db8f"
  },
  "kernelspec": {
   "display_name": "Python 3.10.4 64-bit",
   "language": "python",
   "name": "python3"
  },
  "language_info": {
   "codemirror_mode": {
    "name": "ipython",
    "version": 3
   },
   "file_extension": ".py",
   "mimetype": "text/x-python",
   "name": "python",
   "nbconvert_exporter": "python",
   "pygments_lexer": "ipython3",
   "version": "3.10.4"
  },
  "orig_nbformat": 4
 },
 "nbformat": 4,
 "nbformat_minor": 2
}
